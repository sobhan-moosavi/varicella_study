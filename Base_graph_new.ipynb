{
 "cells": [
  {
   "cell_type": "code",
   "execution_count": 1,
   "metadata": {},
   "outputs": [],
   "source": [
    "import pandas as pd\n",
    "import numpy as np\n",
    "import networkx as nx\n",
    "import csv\n",
    "import random\n",
    "import matplotlib.pyplot as plt\n",
    "import statistics \n",
    "from scipy import stats\n",
    "import io\n",
    "import time#for recording time \n",
    "import sys #for getting size of object\n",
    "from texttable import Texttable\n",
    "\n",
    "plt.rcParams[\"figure.figsize\"] = (10,10)\n",
    "\n"
   ]
  },
  {
   "cell_type": "code",
   "execution_count": 2,
   "metadata": {},
   "outputs": [],
   "source": [
    "random.seed(10)"
   ]
  },
  {
   "cell_type": "markdown",
   "metadata": {},
   "source": [
    "### *Importing files from github for google colab\n"
   ]
  },
  {
   "cell_type": "code",
   "execution_count": null,
   "metadata": {},
   "outputs": [],
   "source": [
    "url = 'https://raw.githubusercontent.com/sobhan-moosavi/varicella_study/main/contact_rules.csv'\n",
    "rules_df  = pd.read_csv(url,header=None,engine='python')\n",
    "url2='https://raw.githubusercontent.com/sobhan-moosavi/varicella_study/main/frequency_contact.csv'\n",
    "frequency_df= pd.read_csv(url2,header=None,engine='python')\n",
    "url3='https://raw.githubusercontent.com/sobhan-moosavi/varicella_study/main/varicella_prevalance.csv'\n",
    "V_prevalence_df =pd.read_csv(url3,header=None,engine='python')\n",
    "url4='https://raw.githubusercontent.com/sobhan-moosavi/varicella_study/main/population.csv'\n",
    "population_df=pd.read_csv(url4,header=None,engine='python')"
   ]
  },
  {
   "cell_type": "markdown",
   "metadata": {},
   "source": [
    "### *importing files from pc\n"
   ]
  },
  {
   "cell_type": "raw",
   "metadata": {},
   "source": [
    "frequency_df = pd.read_csv('frequency_contact.csv',header=None)\n",
    "population_df = pd.read_csv('population.csv',header=None)\n",
    "V_prevalence_df = pd.read_csv('varicella_prevalance.csv',header=None)\n",
    "rules_df = pd.read_csv('contact_rules.csv',header=None)"
   ]
  },
  {
   "cell_type": "markdown",
   "metadata": {},
   "source": [
    "# THE GRAPH CONTROL PANEL"
   ]
  },
  {
   "cell_type": "code",
   "execution_count": null,
   "metadata": {},
   "outputs": [],
   "source": [
    "N =10000# Number of nodes\n",
    "setting='home'    #the setting we are evaluating(home,work,school,other)\n",
    "birth_rate=.03"
   ]
  },
  {
   "cell_type": "markdown",
   "metadata": {},
   "source": [
    "## 1-Defining Nodes"
   ]
  },
  {
   "cell_type": "code",
   "execution_count": null,
   "metadata": {},
   "outputs": [],
   "source": [
    "#defining a dictionary of nodes\n",
    "\n",
    "group_popularity = dict() #based on consensus year 95\n",
    "v_prevalence=dict() #based on meta analysis(data is not exact!! update needed!!)contan(age_group,prevalance,lower CL)\n",
    "nodes_dic=dict() #dictionary of nodes\n",
    "frequency=dict()\n",
    "\n",
    "\n",
    "for i, row in population_df.iterrows():\n",
    "    group_popularity[row[0]]=float(row[1])\n",
    "    \n",
    "for i, row in V_prevalence_df.iterrows():\n",
    "    v_prevalence[row[0]]=[float(row[1]),float(row[2])]\n",
    "    \n",
    "\n",
    "#importing data for frequency of contact in each setting for comparison\n",
    "for i, row in frequency_df.iterrows():\n",
    "    frequency[row[0]]=dict()\n",
    "    for i in range(1,6):\n",
    "        frequency[row[0]][i]=float(row[i])\n",
    "                    \n",
    "for i in range(N):#deciding nodes ages\n",
    "    while True:\n",
    "        r=random.random()\n",
    "        t=random.choice(list(group_popularity.keys()))\n",
    "        if r<=group_popularity[t]:\n",
    "            nodes_dic[i]={'age':t}\n",
    "            break\n",
    "\n",
    "\n",
    "for i in range(N):  #deciding nodes seropositivity\n",
    "    a=v_prevalence[nodes_dic[i]['age']][0]\n",
    "    b=v_prevalence[nodes_dic[i]['age']][1]\n",
    "    r=np.random.random()\n",
    "    t=np.random.normal(a,(a-b)) \n",
    "    if r<=t:\n",
    "        nodes_dic[i]['infection']=1\n",
    "    else:\n",
    "        nodes_dic[i]['infection']=0\n",
    "        "
   ]
  },
  {
   "cell_type": "markdown",
   "metadata": {},
   "source": [
    "### Which `group` each node belongs to?\n",
    "\n",
    "* We  used `Age specific population for Iran` to define probability of each group"
   ]
  },
  {
   "cell_type": "code",
   "execution_count": null,
   "metadata": {
    "scrolled": true
   },
   "outputs": [],
   "source": [
    "\n",
    "# the number of nodes in each group:\n",
    "\n",
    "age_count = {}\n",
    "for n in nodes_dic.keys():\n",
    "    \n",
    "    if nodes_dic[n]['age'] in age_count:\n",
    "        age_count[nodes_dic[n]['age']] = age_count[nodes_dic[n]['age']] + 1\n",
    "    else:\n",
    "        age_count[nodes_dic[n]['age']] = 1\n",
    "age_count"
   ]
  },
  {
   "cell_type": "markdown",
   "metadata": {},
   "source": [
    "## 2-Defining Connection Rules between Node Groups\n",
    "\n",
    "### `We define rules in terms of connection probability between each two groups`\n"
   ]
  },
  {
   "cell_type": "code",
   "execution_count": null,
   "metadata": {},
   "outputs": [],
   "source": [
    "#importing rules from .csv to nested dictionary\n",
    "rules={}  # rules contain ->{location:{contactor:{contactee:contact number}\n",
    "temp_0={}\n",
    "temp_1={}\n",
    "location=[]\n",
    "contactor=[]\n",
    "contactee=[]\n",
    "contact_number=[]\n",
    "\n",
    "for i, row in rules_df.iterrows():\n",
    "    \n",
    "    location.append(row[0])\n",
    "    contactor.append(row[1])\n",
    "    contactee.append(row[2])\n",
    "    contact_number.append(float(row[3]))\n",
    "\n",
    "for o in range (0,1280,256):\n",
    "    for m in range(o,o+256,16):\n",
    "        for n in range (m,m+16):\n",
    "            \n",
    "            temp_0[contactee[n]]=contact_number[n]\n",
    "        temp_1[contactor[m]]=temp_0.copy()\n",
    "    rules[location[o]]=temp_1.copy()     "
   ]
  },
  {
   "cell_type": "code",
   "execution_count": null,
   "metadata": {},
   "outputs": [],
   "source": [
    "#claculating how many contact a person has with all age groups in the setting\n",
    "#calculating how many 'connectons' is required for the contacts with specific frequency\n",
    "rules_sum=dict()\n",
    "for i in rules.keys():\n",
    "    rules_sum[i]=dict()\n",
    "    for j in rules[i].keys():\n",
    "        t=0\n",
    "        rules_sum[i][j]={'count_total':0,'count1':0,'count2':0,'count3':0}\n",
    "        for k in rules[i][j]:\n",
    "            t+=rules[i][j][k]\n",
    "    \n",
    "        rules_sum[i][j]['count_total']=t\n",
    "        rules_sum[i][j]['count1']=t*frequency[i][1]\n",
    "        rules_sum[i][j]['count2']=t*frequency[i][2]*(7/1.5)\n",
    "        rules_sum[i][j]['count3']=t*frequency[i][3]*(30/1.5)\n",
    "        #number of 'contacts' with random probability\n",
    "        rules_sum[i][j]['count4']=t*(frequency[i][4]+frequency[i][5])\n",
    "        \n",
    "#a dictionary of weight/upper_weight ratio for each frequency set       \n",
    "frequency_grouped={1:1,2:(1.5/7),3:(1.5/30),4:0}\n",
    "table=Texttable()\n",
    "table.set_deco(Texttable.HEADER)\n",
    "table.add_rows([['setting','age','contact_total','conection 1','conection 2' ,'conection 3','connection 4']])      \n",
    "print(table.draw())\n",
    "for i in rules_sum.keys():\n",
    "    for j in rules_sum[i].keys():\n",
    "        \n",
    "        table.add_rows([[i,j,'%f' % rules_sum[i][j]['count_total'],'%f' % rules_sum[i][j]['count1'],'%f' % rules_sum[i][j]['count2'],'%f' % rules_sum[i][j]['count3'],'%f' % rules_sum[i][j]['count4']]])\n",
    "        \n",
    "        print(table.draw())\n"
   ]
  },
  {
   "cell_type": "markdown",
   "metadata": {},
   "source": [
    "## 3-Defining Rules to Connecting Nodes and Adjusting `Weights`\n",
    "\n",
    "* This would be the step that our Naive graph would evolve over the time through a simulation process\n",
    "* we monitor connection between nodes and update weights based on connections"
   ]
  },
  {
   "cell_type": "code",
   "execution_count": null,
   "metadata": {},
   "outputs": [],
   "source": [
    "#in this block we've defiend a function \"Run\" \n",
    "def Run(nodes_dic,age_count,frequency_grouped):\n",
    "    \n",
    "    #building the array based on nodes_dic\n",
    "    #graph_array=[[0]*N]*N\n",
    "    graph_array=[]\n",
    "    for i in range(N):\n",
    "        graph_array.append([])\n",
    "        for j in range(N):\n",
    "            graph_array[i].append(0)\n",
    "      \n",
    "    #making a dictionary that consists of lists of nodes in each age group\n",
    "    nodes_age_grouped=dict() \n",
    "    \n",
    "    for i in range(N):\n",
    "            \n",
    "        if nodes_dic[i]['age'] in nodes_age_grouped:\n",
    "            \n",
    "            nodes_age_grouped[nodes_dic[i]['age']].append(i)\n",
    "            \n",
    "        else:\n",
    "            \n",
    "            nodes_age_grouped[nodes_dic[i]['age']]=[i]\n",
    "            \n",
    "            \n",
    "    #determiing upper weight (chance=1) between each two age groups\n",
    "    upper_weight=dict()\n",
    "    for i in age_count.keys():\n",
    "        upper_weight[i]=dict()\n",
    "        for j in age_count.keys():\n",
    "            if rules[setting][i][j]!=0:\n",
    "                upper_weight[i][j]=(1/rules[setting][i][j])*age_count[j]\n",
    "            \n",
    "                  \n",
    "    for i in nodes_age_grouped.keys(): \n",
    "    #reseting the values each run\n",
    "\n",
    "        count_contact=rules_sum[setting][i]['count_total']\n",
    "        count1=rules_sum[setting][i]['count1']\n",
    "        count2=rules_sum[setting][i]['count2'] \n",
    "        count3=rules_sum[setting][i]['count3'] \n",
    "        count_connection=count1+count2+count3\n",
    "        list_counts=[count1,count2,count3]\n",
    "\n",
    "\n",
    "        for j in nodes_age_grouped[i]:\n",
    "            #determinig number of conections for each node wiht possion distribution\n",
    "            for k in range(np.random.poisson(lam=count_connection)):\n",
    "\n",
    "                while True:\n",
    "                    r=random.random()\n",
    "                    #deciding the age of connection of the node\n",
    "                    t=random.choice(list(nodes_age_grouped.keys()))\n",
    "                    if rules[setting][i][t]!=0:\n",
    "                        if r <= rules[setting][i][t]/count_contact :\n",
    "                            while True :\n",
    "                                #deciding the weight of connection of the node\n",
    "                                r2=random.random()\n",
    "                                t2=random.randint(1,3)\n",
    "                                if r2 <= list_counts[t2-1]/count_connection :\n",
    "                                    #deciding a random node from the chosen age group to make connection\n",
    "                                    t3=random.choice(nodes_age_grouped[t])\n",
    "                                    graph_array[j][t3]=frequency_grouped[t2]*upper_weight[i][t] \n",
    "\n",
    "\n",
    "                                    break\n",
    "                            break\n",
    "                            \n",
    "    results={'graph_array':graph_array,'nodes_age_grouped':nodes_age_grouped}                           \n",
    "    return(results)\n"
   ]
  },
  {
   "cell_type": "code",
   "execution_count": null,
   "metadata": {},
   "outputs": [],
   "source": [
    "#this defines a function for aging the graph\n",
    "def G_age(nodes_dict,graph_dict):\n",
    "    return()\n",
    "    "
   ]
  },
  {
   "cell_type": "code",
   "execution_count": null,
   "metadata": {},
   "outputs": [],
   "source": [
    "#Run_S runs the model and stores conections but do not change the weights\n",
    "def Run_S (nodes_dic,N_day,rules,age_count,N,results):\n",
    "    \n",
    "    nodes_age_grouped=results['nodes_age_grouped']\n",
    "    graph_array=results['graph_array']\n",
    "    \n",
    "    contacts=[] #in this list the day that connection has happened is stored\n",
    "    for i in range(N):\n",
    "        contacts.append([])\n",
    "        for j in range(N):\n",
    "            contacts[i].append([])\n",
    "            \n",
    "    for d in range(N_day):\n",
    "        for i in range(N):\n",
    "            for j in range(N):\n",
    "                age_p=rules[setting][nodes_dic[i]['age']][nodes_dic[j]['age']]\n",
    "                if i!=j and age_p!=0 and  graph_array[i][j]!=0:\n",
    "                    \n",
    "                    r=random.random()\n",
    "                    age_p=rules[setting][nodes_dic[i]['age']][nodes_dic[j]['age']]\n",
    "                    \n",
    "                    if (age_p/age_count[nodes_dic[j]['age']])*graph_array[i][j]>=r:\n",
    "                        \n",
    "                        contacts[i][j].append(d)\n",
    "                        \n",
    "                        \n",
    "            #checking for random contacts between i and other nodes \n",
    "            #number of random contacts\n",
    "            \n",
    "            count_random=rules_sum[setting][nodes_dic[i]['age']]['count4']\n",
    "            for k in range(np.random.poisson(lam=count_random)):\n",
    "                \n",
    "                while True:\n",
    "                    r=random.random()\n",
    "                    #deciding the age of connection of the node\n",
    "                    t=random.choice(list(nodes_age_grouped.keys()))\n",
    "                    age_p=rules[setting][nodes_dic[i]['age']][t]\n",
    "                    \n",
    "                    if r <= age_p/rules_sum[setting][nodes_dic[i]['age']]['count_total'] :\n",
    "                        #deciding a random node from the chosen age group to make connection\n",
    "                        t2=random.choice(nodes_age_grouped[t])\n",
    "                        if rules[setting][nodes_dic[i]['age']][t]!=0 and graph_array[i][t2]==0 and(d not in contacts[i][t2]):\n",
    "                            contacts[i][t2].append(d)\n",
    "                            \n",
    "                            break\n",
    "    return(contacts)"
   ]
  },
  {
   "cell_type": "markdown",
   "metadata": {},
   "source": [
    "# 4- Monitroing the graph\n",
    "### we monitor the graph for age specific number of contact per day and frequeny of contact"
   ]
  },
  {
   "cell_type": "code",
   "execution_count": null,
   "metadata": {},
   "outputs": [],
   "source": [
    "#this function returns p_value wilcoxon for comparison age stratified number of contacts \n",
    " #And the mean of absoloute error for age stratified number of contact divided by age stratified number of contact\n",
    "\n",
    "def Metric_W(Run_S,age_count,rules) : \n",
    "    \n",
    "\n",
    "    contacts=Run_S\n",
    "    graph_array=results['graph_array']\n",
    "    \n",
    "\n",
    "    L1=[]\n",
    "    L2=[]\n",
    "    L3=[]\n",
    "    \n",
    "\n",
    "    rules_m=dict()\n",
    "    rules_m[setting]=dict()\n",
    "\n",
    "    for i in rules[setting].keys():\n",
    "        rules_m[setting][i]=dict()\n",
    "        for j in rules[setting][i].keys():\n",
    "             rules_m[setting][i][j]=0\n",
    "\n",
    "    for i in range(N):\n",
    "            for j in range(N):\n",
    "                if i!=j and rules[setting][nodes_dic[i]['age']][nodes_dic[j][\"age\"]]!=0 : \n",
    "                    if contacts[i][j]==[0]:\n",
    "        \n",
    "                        t= 1/age_count[nodes_dic[i]['age']]\n",
    "                        rules_m[setting][nodes_dic[i]['age']][nodes_dic[j]['age']]+=t\n",
    "       \n",
    "            \n",
    "   \n",
    "    for i in rules_m[setting].keys():\n",
    "        for j in rules_m[setting][i].keys():\n",
    "            \n",
    "            L1.append(rules[setting][i][j])\n",
    "            L2.append(rules_m[setting][i][j])\n",
    "            if rules[setting][i][j]!=0:\n",
    "                L3.append(abs((rules_m[setting][i][j])-(rules[setting][i][j]))/rules[setting][i][j])\n",
    "            else:\n",
    "                L3.append(0)\n",
    "    I=stats.wilcoxon(L1,L2,zero_method='wilcox', correction=False, alternative='two-sided')\n",
    "    I2=statistics.mean(L3)\n",
    "    \n",
    "    Metric_W ={'wilx':I,'M_Abs':I2,'rules_m':rules_m,'L3':L3}\n",
    "    \n",
    "    return(Metric_W)"
   ]
  },
  {
   "cell_type": "code",
   "execution_count": null,
   "metadata": {},
   "outputs": [],
   "source": [
    "#defining a function that returns mean absoloute error 'frequency of contacts ' in the last x day of model\n",
    "def metric_F(Run_S,results,age_count):\n",
    "    \n",
    "    contacts=Run_S\n",
    "    n=0\n",
    "    graph_array=results['graph_array']\n",
    "    \n",
    "    L1=[]\n",
    "    L2=[]\n",
    "    \n",
    "    frequency_m=dict()\n",
    "    for i in frequency.keys():\n",
    "        frequency_m[i]={1:0,2:0,3:0,4:0}\n",
    "\n",
    "    for i in range(N):\n",
    "            for j in range(N):\n",
    "                if i != j and contacts[i][j]==[0]:#contact at day one \n",
    "                \n",
    "\n",
    "                    age_p=rules[setting][nodes_dic[i]['age']][nodes_dic[j][\"age\"]]\n",
    "\n",
    "                    t=(age_p/age_count[nodes_dic[j]['age']])*graph_array[i][j]\n",
    "\n",
    "                    n+=1\n",
    "\n",
    "                    if t==0  :\n",
    "                        frequency_m[setting][4]+=1\n",
    "                        \n",
    "\n",
    "                    elif t>=1/30 and t<= 2/30:\n",
    "                        frequency_m[setting][3]+=1\n",
    "                        \n",
    "\n",
    "                    elif t>= 1/7 and t<= 2/7:\n",
    "                        frequency_m[setting][2]+=1\n",
    "                        \n",
    "\n",
    "                    elif  t<=1.01 and t >= .99:\n",
    "\n",
    "                        frequency_m[setting][1]+=1\n",
    "                        \n",
    "                        \n",
    "                    \n",
    "                        \n",
    "                    \n",
    "    for i in frequency_m[setting].keys():\n",
    "        if n!=0:\n",
    "        \n",
    "            frequency_m[setting][i]=frequency_m[setting][i]/n\n",
    "        if n==0:\n",
    "            \n",
    "            frequency_m[setting][i]=0\n",
    "    \n",
    "    \n",
    "    return(frequency_m)"
   ]
  },
  {
   "cell_type": "code",
   "execution_count": null,
   "metadata": {},
   "outputs": [],
   "source": [
    "start = time.time()"
   ]
  },
  {
   "cell_type": "markdown",
   "metadata": {},
   "source": [
    "# evaluating results\n",
    "### this part of code evaluates results of  function Run for the inputs\n",
    "\n",
    "###### Run -> input : increase_ratio,D,nodes_dic\n",
    "###### Run -> output : contacted_all, G, weight_all, group_count\n"
   ]
  },
  {
   "cell_type": "code",
   "execution_count": null,
   "metadata": {},
   "outputs": [],
   "source": [
    "#this part runs the model\n",
    "results=Run(nodes_dic,age_count,frequency_grouped)\n"
   ]
  },
  {
   "cell_type": "code",
   "execution_count": null,
   "metadata": {},
   "outputs": [],
   "source": [
    "end=time.time()"
   ]
  },
  {
   "cell_type": "code",
   "execution_count": null,
   "metadata": {},
   "outputs": [],
   "source": [
    "#running a 1 day simulation of model\n",
    "contacts=Run_S(nodes_dic,1,rules,age_count,N,results)"
   ]
  },
  {
   "cell_type": "code",
   "execution_count": null,
   "metadata": {},
   "outputs": [],
   "source": [
    "#this part returns the absoloute error for age stratified number of contact\n",
    "Metr_W=Metric_W(contacts,age_count,rules)\n",
    "\n"
   ]
  },
  {
   "cell_type": "code",
   "execution_count": null,
   "metadata": {},
   "outputs": [],
   "source": [
    "#this part shows number of age stratified contact from data and model for comparision\n",
    "t=0\n",
    "L3=Metr_W['L3']\n",
    "table=Texttable()\n",
    "table.set_deco(Texttable.HEADER)\n",
    "table.add_rows([['age i','age j','rules_m  ',' rules  ','Abs_error']])\n",
    "\n",
    "print(table.draw())\n",
    "\n",
    "for i in rules[setting].keys():\n",
    "    \n",
    "    for j in rules[setting][i].keys():\n",
    "        \n",
    "        model=Metr_W[\"rules_m\"][setting][i][j]\n",
    "        data=rules[setting][i][j]\n",
    "        table.add_rows([[i,j,'%f' %  model,'%f' % data,'%f' % L3[t]]])\n",
    "        print(table.draw())\n",
    "        t+=1\n",
    "\n",
    "        "
   ]
  },
  {
   "cell_type": "code",
   "execution_count": null,
   "metadata": {
    "scrolled": true
   },
   "outputs": [],
   "source": [
    "#this part returns p_value wilcoxon for comparison age stratified number of contacts \n",
    "\n",
    "print('p-value wilcoxon :','%f' % Metr_W['wilx'][1])\n",
    "\n",
    "print('mean absoloute error : ', Metr_W['M_Abs'])"
   ]
  },
  {
   "cell_type": "code",
   "execution_count": null,
   "metadata": {},
   "outputs": [],
   "source": [
    "#this shows the mean of all edeges across the graph(it's supposed to stay close to one)\n",
    "mean_weights=[]\n",
    "for i in range(N):\n",
    "    for j in range(N):\n",
    "        if i != j : \n",
    "             \n",
    "            mean_weights.append(results['graph_array'][i][j])\n",
    "            \n",
    "print(statistics.mean(mean_weights))"
   ]
  },
  {
   "cell_type": "code",
   "execution_count": null,
   "metadata": {},
   "outputs": [],
   "source": [
    "#this shows the fitting for frequency\n",
    "\n",
    "results_F=metric_F(contacts,results,age_count)\n",
    "\n",
    "plt.rcParams[\"figure.figsize\"] = (5,5)\n",
    "\n",
    "for i in results_F[setting].keys():\n",
    "    L=list(frequency[setting].values())\n",
    "    L[3]+=L[4]\n",
    "    print (setting,':',i,'//','%f' % results_F[setting][i],'//','%f' % L[i-1])\n",
    "    plt.plot(i,results_F[setting][i],'+r',linewidth=1, markersize=12,alpha=1)\n",
    "    plt.plot(i,L[i-1],'+b',linewidth=1, markersize=12,alpha=1)\n",
    "    "
   ]
  },
  {
   "cell_type": "code",
   "execution_count": null,
   "metadata": {},
   "outputs": [],
   "source": [
    "def weight_m(results,age_count) :   \n",
    "\n",
    "    \n",
    "    graph_array=results['graph_array']\n",
    "    \n",
    "    \n",
    "    weight_m=dict()\n",
    "    \n",
    "\n",
    "    for i in rules[setting].keys():\n",
    "        weight_m[i]=dict()\n",
    "        for j in rules[setting][i].keys():\n",
    "             weight_m[i][j]=0\n",
    "    \n",
    "    for i in range(N):\n",
    "            for j in range(N):\n",
    "                if i!=j:\n",
    "                    a=age_count[nodes_dic[i]['age']]\n",
    "                    b=age_count[nodes_dic[j]['age']]\n",
    "                    weight_m[nodes_dic[i]['age']][nodes_dic[j]['age']]+= graph_array[i][j]/(a*b)\n",
    "    \n",
    "    return(weight_m)\n",
    "                \n",
    "    \n",
    "    "
   ]
  },
  {
   "cell_type": "code",
   "execution_count": null,
   "metadata": {},
   "outputs": [],
   "source": [
    "W=weight_m(results,age_count)"
   ]
  },
  {
   "cell_type": "code",
   "execution_count": null,
   "metadata": {},
   "outputs": [],
   "source": [
    "#this figure shows evoloution of weights thorough time\n",
    "plt.rcParams[\"figure.figsize\"] = (10,10)\n",
    "\n",
    "for i in W.keys():\n",
    "    for j in W[i].keys():\n",
    "        if rules[setting][i][j] > 0:\n",
    "            b=rules[setting][i][j]\n",
    "            a=age_count[i]\n",
    "            c=(1/rules[setting][i][j])*age_count[j]  #upper weight  \n",
    "            #b=age_count[j]\n",
    "            plt.plot(b,W[i][j],'k.',linewidth=.5, markersize=5,alpha=1)\n",
    "            plt.plot(b,c,'r.',linewidth=.5, markersize=5,alpha=1)\n",
    "        \n",
    "plt.xlabel(\"b\")\n",
    "plt.ylabel('weight')\n",
    "plt.axis([0,.7,-1,20])\n",
    "plt.show()\n",
    "\n"
   ]
  },
  {
   "cell_type": "code",
   "execution_count": null,
   "metadata": {},
   "outputs": [],
   "source": [
    "print(end-start)"
   ]
  },
  {
   "cell_type": "code",
   "execution_count": null,
   "metadata": {},
   "outputs": [],
   "source": [
    "sys.getsizeof(results['graph_array'])"
   ]
  },
  {
   "cell_type": "code",
   "execution_count": null,
   "metadata": {},
   "outputs": [],
   "source": []
  }
 ],
 "metadata": {
  "celltoolbar": "Raw Cell Format",
  "kernelspec": {
   "display_name": "Python 3",
   "language": "python",
   "name": "python3"
  },
  "language_info": {
   "codemirror_mode": {
    "name": "ipython",
    "version": 3
   },
   "file_extension": ".py",
   "mimetype": "text/x-python",
   "name": "python",
   "nbconvert_exporter": "python",
   "pygments_lexer": "ipython3",
   "version": "3.8.6"
  }
 },
 "nbformat": 4,
 "nbformat_minor": 4
}
