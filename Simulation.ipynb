{
 "cells": [
  {
   "cell_type": "code",
   "execution_count": 1,
   "id": "hidden-reward",
   "metadata": {},
   "outputs": [
    {
     "name": "stdout",
     "output_type": "stream",
     "text": [
      "Defaulting to user installation because normal site-packages is not writeable\n",
      "Requirement already satisfied: texttable in /home/msi/.local/lib/python3.8/site-packages (1.6.3)\n"
     ]
    }
   ],
   "source": [
    "import math\n",
    "import pandas as pd\n",
    "import numpy as np\n",
    "import csv\n",
    "import random\n",
    "import matplotlib.pyplot as plt\n",
    "import statistics \n",
    "from scipy import stats\n",
    "from scipy.spatial import distance\n",
    "import io\n",
    "import time#for recording time \n",
    "import sys #for getting size of object\n",
    "!pip install texttable\n",
    "from texttable import Texttable\n",
    "import mysql.connector"
   ]
  },
  {
   "cell_type": "code",
   "execution_count": 2,
   "id": "unexpected-medicine",
   "metadata": {},
   "outputs": [],
   "source": [
    "#importing data form github\n",
    "url = 'https://raw.githubusercontent.com/sobhan-moosavi/varicella_study/main/contact_rules.csv'\n",
    "rules_df  = pd.read_csv(url,header=None,engine='python')\n",
    "url2='https://raw.githubusercontent.com/sobhan-moosavi/varicella_study/main/frequency_contact.csv'\n",
    "frequency_df= pd.read_csv(url2,header=None,engine='python')\n",
    "url3='https://raw.githubusercontent.com/sobhan-moosavi/varicella_study/main/population.csv'\n",
    "population_df=pd.read_csv(url3,header=None,engine='python')\n",
    "url4='https://raw.githubusercontent.com/sobhan-moosavi/varicella_study/main/skewness.csv'\n",
    "skewness_df=pd.read_csv(url4,header=None,engine='python')\n",
    "url5='https://raw.githubusercontent.com/sobhan-moosavi/varicella_study/main/Age_exact.csv'\n",
    "age_exact_df=pd.read_csv(url5,header=0,engine='python')\n",
    "url6='https://raw.githubusercontent.com/sobhan-moosavi/varicella_study/main/mortality.csv'\n",
    "death_rate_df=pd.read_csv(url6,header=0,engine='python')"
   ]
  },
  {
   "cell_type": "raw",
   "id": "dedicated-found",
   "metadata": {},
   "source": [
    "#impoting data from local computer\n",
    "frequency_df = pd.read_csv('frequency_contact.csv',header=None)\n",
    "population_df = pd.read_csv('population.csv',header=None)\n",
    "rules_df = pd.read_csv('contact_rules.csv',header=None)\n",
    "skewness_df=pd.read_csv('skewness.csv',header=None,engine='python')\n",
    "age_exact_df=pd.read_csv('Age_exact.csv',header=0,engine='python')\n",
    "death_rate_df=pd.read_csv('mortality.csv',header=0,engine='python')"
   ]
  },
  {
   "cell_type": "markdown",
   "id": "cardiovascular-execution",
   "metadata": {},
   "source": [
    "### *connecting to MySQL"
   ]
  },
  {
   "cell_type": "code",
   "execution_count": 3,
   "id": "finished-australia",
   "metadata": {},
   "outputs": [],
   "source": [
    "\n",
    "cnx = mysql.connector.connect(user='nima', password='Mysqlpass1400@',\n",
    "                              host='127.0.0.1',\n",
    "                              database='MPH')\n",
    "\n",
    "cursor = cnx.cursor(buffered=True)"
   ]
  },
  {
   "cell_type": "code",
   "execution_count": 4,
   "id": "incorrect-arthur",
   "metadata": {},
   "outputs": [],
   "source": [
    "#defining class person for storing nodes information\n",
    "class person:\n",
    "    \n",
    "    def __init__(self,home,school,work,others,work_r,others_r,age_E,disease_status,disease_dur):\n",
    "        \n",
    "        self.home=home\n",
    "        self.school=school\n",
    "        self.work=work\n",
    "        self.others=others\n",
    "        self.work_r=work_r\n",
    "        self.others_r=others_r\n",
    "        self.age_E=age_E\n",
    "        self.disease_status=disease_status\n",
    "        self.disease_dur=disease_dur\n",
    "        \n",
    "    def age_group(self):\n",
    "        \n",
    "        bucket = False\n",
    "    \n",
    "        for i in age_groups :\n",
    "            if bucket== False and self.age_E <= i[2] and self.age_E >=i[1]:\n",
    "                group=i[0]\n",
    "                bucket=True\n",
    "        return(group)\n",
    "        \n"
   ]
  },
  {
   "cell_type": "code",
   "execution_count": 5,
   "id": "affected-pantyhose",
   "metadata": {},
   "outputs": [],
   "source": [
    "age_groups=[['0_4', 0, 4],['5_9', 5, 9],['10_14', 10, 14],['15_19', 15, 19],['20_24', 20, 24],['25_29', 25, 29],['30_34', 30, 34],['35_39', 35, 39],['40_44', 40, 44],['45_49', 45, 49],['50_54', 50, 54],['55_59', 55, 59],['60_64', 60, 64],['65_69', 65, 69],['70_74', 70, 74],['75+', 75,200]] "
   ]
  },
  {
   "cell_type": "code",
   "execution_count": 6,
   "id": "posted-magic",
   "metadata": {},
   "outputs": [],
   "source": [
    "#rebuilding graph form mysql\n",
    "\n",
    "graph={}\n",
    "\n",
    "cursor.execute('select * from %s'%('Graph'))\n",
    "\n",
    "for (node,home,school,work,others,work_r,others_r,age_E) in cursor:\n",
    "    contacts_list=[]\n",
    "    for setting in [home,school,work,others]:\n",
    "        contacts_list.append(list(map(lambda x:int(x),setting.split('/')[:-1])))\n",
    "    graph[node]=person(contacts_list[0],contacts_list[1],contacts_list[2],contacts_list[3],work_r,others_r,age_E,0,0)       "
   ]
  },
  {
   "cell_type": "code",
   "execution_count": 7,
   "id": "excellent-torture",
   "metadata": {},
   "outputs": [],
   "source": [
    "#age grouping nodes\n",
    "nodes_age_grouped={}\n",
    "for node in graph.keys():\n",
    "    age=graph[node].age_group()\n",
    "    if age in list(nodes_age_grouped.keys()):\n",
    "        nodes_age_grouped[age].append(node)\n",
    "    else:\n",
    "        nodes_age_grouped[age]=[node]\n",
    "        "
   ]
  },
  {
   "cell_type": "code",
   "execution_count": 8,
   "id": "respiratory-doctrine",
   "metadata": {},
   "outputs": [],
   "source": [
    "#importing rules and rules_sum\n",
    "#importing rules_data from .csv to nested dictionary\n",
    "rules_data={}  # rules_data contain ->{location:{contactor:{contactee:contact number}\n",
    "temp_0={}\n",
    "temp_1={}\n",
    "location=[]\n",
    "contactor=[]\n",
    "contactee=[]\n",
    "contact_number=[]\n",
    "\n",
    "for i, row in rules_df.iterrows():\n",
    "    \n",
    "    location.append(row[0])\n",
    "    contactor.append(row[1])\n",
    "    contactee.append(row[2])\n",
    "    contact_number.append(float(row[3]))\n",
    "\n",
    "for o in range (0,1280,256):\n",
    "    for m in range(o,o+256,16):\n",
    "        for n in range (m,m+16):\n",
    "            \n",
    "            temp_0[contactee[n]]=contact_number[n]\n",
    "        temp_1[contactor[m]]=temp_0.copy()\n",
    "    rules_data[location[o]]=temp_1.copy()     \n",
    "    \n",
    "    \n",
    "#transforming rules_data to rules so it will be symetrical\n",
    "#It should be symetrical for building undirected graph\n",
    "\n",
    "rules=dict()\n",
    "\n",
    "\n",
    "\n",
    "for i in rules_data.keys():\n",
    "    rules[i]=dict()\n",
    "    for j in rules_data[i].keys():\n",
    "        rules[i][j]=dict() \n",
    "        for k in rules_data[i][j].keys():\n",
    "\n",
    "            total_j_k_contact=(rules_data[i][j][k]*len(nodes_age_grouped[j])+(rules_data[i][k][j]*len(nodes_age_grouped[k])))\n",
    "            rules[i][j][k]=(total_j_k_contact/2)/len(nodes_age_grouped[j])\n",
    "                \n",
    "#claculating how many contact a person has with all age groups in the setting\n",
    "#calculating how many 'connectons' is required for the contacts with specific frequency\n",
    "rules_sum=dict()\n",
    "for s in rules.keys():\n",
    "    rules_sum[s]=dict()\n",
    "    for a in rules[s].keys():\n",
    "        t=0\n",
    "        for j in rules[s][a].keys():\n",
    "            t+=rules[s][a][j]\n",
    "        rules_sum[s][a]=t"
   ]
  },
  {
   "cell_type": "code",
   "execution_count": 9,
   "id": "damaged-military",
   "metadata": {},
   "outputs": [],
   "source": [
    "#the function for transmission of disease\n",
    "def transmission(graph):\n",
    "    \n",
    "    #finding the infected nodes\n",
    "    infected=list(filter(lambda x:graph[x].disease_status==1,graph.keys()))\n",
    "    \n",
    "    \n",
    "    for node in infected :\n",
    "        for connections in [graph[node].home,graph[node].work,graph[node].school,graph[node].others]:\n",
    "        #daily contacts\n",
    "            for neighbor in connections:\n",
    "                #if the neighbor is not already infected\n",
    "                if graph[neighbor].disease_status==0:\n",
    "                    r=random.random()\n",
    "                    #probaility transmission\n",
    "                    p=.02\n",
    "                    if r<p :\n",
    "                        graph[neighbor].disease_status=1\n",
    "                        #duration of infection\n",
    "                        graph[neighbor].disease_dur=10\n",
    "                    \n",
    "        #random contacts\n",
    "        age_node=graph[node].age_group()\n",
    "        for setting in ['work','others']:\n",
    "            \n",
    "            if setting == 'work':\n",
    "                random_connection=graph[node].work_r\n",
    "            elif setting == 'others':\n",
    "                random_connection=graph[node].others_r\n",
    "                \n",
    "            for i in range(random_connection):\n",
    "                contact=False\n",
    "                while contact == False :\n",
    "                    age_neighbor=random.choice(list(nodes_age_grouped.keys()))\n",
    "                    prob_connection=rules[setting][age_node][age_neighbor]/(rules_sum[setting][age_node])\n",
    "                    r=random.random()\n",
    "                    if prob_connection<r:\n",
    "                        neighbor=random.choice(nodes_age_grouped[age_neighbor])\n",
    "                        contact=True\n",
    "                        if graph[neighbor].disease_status==0:\n",
    "                            r=random.random()\n",
    "                            #probaility transmission\n",
    "                            p=.02\n",
    "                            if r<p:\n",
    "                                graph[neighbor].disease_status=1\n",
    "                                #duration of infection\n",
    "                                graph[neighbor].disease_dur=10 \n",
    "                            \n",
    "        #one day passes form disease duration\n",
    "        graph[node].disease_dur-=1\n",
    "        if graph[node].disease_dur==0:\n",
    "            graph[node].disease_status=2\n",
    "            "
   ]
  },
  {
   "cell_type": "code",
   "execution_count": 10,
   "id": "sexual-lyric",
   "metadata": {},
   "outputs": [],
   "source": [
    "#function that returns the graph before pandemic\n",
    "def reset_graph(graph):\n",
    "    for node in graph.keys():\n",
    "        graph[node].disease_dur==0\n",
    "        graph[node].disease_status=0"
   ]
  },
  {
   "cell_type": "code",
   "execution_count": 19,
   "id": "familiar-astrology",
   "metadata": {},
   "outputs": [
    {
     "data": {
      "image/png": "[encoded data removed]",
      "text/plain": [
       "<Figure size 720x720 with 1 Axes>"
      ]
     },
     "metadata": {
      "needs_background": "light"
     },
     "output_type": "display_data"
    }
   ],
   "source": [
    "#simulation of the pandemic for D days with N initial infected cases\n",
    "plt.rcParams[\"figure.figsize\"] = (10,10)\n",
    "\n",
    "D=100\n",
    "N=10\n",
    "#reset graph\n",
    "reset_graph(graph)\n",
    "for i in range(N):\n",
    "    node=random.choice(list(graph.keys()))\n",
    "    graph[node].disease_status=1\n",
    "    #duration of infection\n",
    "    graph[node].disease_dur=10 \n",
    "    \n",
    "for i in range(D):\n",
    "    transmission(graph)\n",
    "    infected=len(list(filter(lambda x:graph[x].disease_status==1,graph.keys())))/len(list(graph.keys()))\n",
    "    suspectible=len(list(filter(lambda x:graph[x].disease_status==0,graph.keys())))/len(list(graph.keys()))\n",
    "    immune=len(list(filter(lambda x:graph[x].disease_status==2,graph.keys())))/len(list(graph.keys()))\n",
    "    plt.plot(i,infected,'r.',linewidth=2, markersize=10,alpha=1)\n",
    "    plt.plot(i,immune,'g.',linewidth=2, markersize=10,alpha=1)\n",
    "    plt.plot(i,suspectible,'b.',linewidth=2, markersize=10,alpha=1)\n",
    "    \n",
    "    \n",
    "    \n",
    "plt.show()\n",
    "    "
   ]
  },
  {
   "cell_type": "code",
   "execution_count": null,
   "id": "thick-might",
   "metadata": {},
   "outputs": [],
   "source": []
  }
 ],
 "metadata": {
  "kernelspec": {
   "display_name": "Python 3",
   "language": "python",
   "name": "python3"
  },
  "language_info": {
   "codemirror_mode": {
    "name": "ipython",
    "version": 3
   },
   "file_extension": ".py",
   "mimetype": "text/x-python",
   "name": "python",
   "nbconvert_exporter": "python",
   "pygments_lexer": "ipython3",
   "version": "3.8.10"
  }
 },
 "nbformat": 4,
 "nbformat_minor": 5
}
