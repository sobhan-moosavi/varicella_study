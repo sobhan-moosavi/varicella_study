{
 "cells": [
  {
   "cell_type": "code",
   "execution_count": 4,
   "id": "altered-screw",
   "metadata": {},
   "outputs": [
    {
     "name": "stdout",
     "output_type": "stream",
     "text": [
      "{1: {2: 0.4, 1: 0.1}, 2: {1: 0.3, 2: 0.5}}\n",
      "{2: 0.4, 1: 0.1}\n",
      "0.1\n"
     ]
    }
   ],
   "source": [
    "R={1:{2:.4,1:.1},2:{1:.3,2:.5}}\n",
    "print(R)\n",
    "print(R[1])\n",
    "print(R[1][1])"
   ]
  },
  {
   "cell_type": "code",
   "execution_count": null,
   "id": "entertaining-rochester",
   "metadata": {},
   "outputs": [],
   "source": []
  }
 ],
 "metadata": {
  "kernelspec": {
   "display_name": "Python 3",
   "language": "python",
   "name": "python3"
  },
  "language_info": {
   "codemirror_mode": {
    "name": "ipython",
    "version": 3
   },
   "file_extension": ".py",
   "mimetype": "text/x-python",
   "name": "python",
   "nbconvert_exporter": "python",
   "pygments_lexer": "ipython3",
   "version": "3.8.6"
  }
 },
 "nbformat": 4,
 "nbformat_minor": 5
}
