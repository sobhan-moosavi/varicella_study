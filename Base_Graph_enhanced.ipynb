{
 "cells": [
  {
   "cell_type": "code",
   "execution_count": 1,
   "metadata": {},
   "outputs": [],
   "source": [
    "import pandas as pd\n",
    "import numpy as np\n",
    "import networkx as nx\n",
    "import csv\n",
    "import random\n",
    "import matplotlib.pyplot as plt\n",
    "import statistics \n",
    "from scipy import stats\n",
    "import io\n",
    "import time#for recording time\n",
    "import sys #for getting size of object\n",
    "\n",
    "plt.rcParams[\"figure.figsize\"] = (10,10)\n",
    "\n"
   ]
  },
  {
   "cell_type": "code",
   "execution_count": 2,
   "metadata": {},
   "outputs": [],
   "source": [
    "random.seed(11)"
   ]
  },
  {
   "cell_type": "markdown",
   "metadata": {},
   "source": [
    "### *Importing files from github for google colab\n"
   ]
  },
  {
   "cell_type": "code",
   "execution_count": 3,
   "metadata": {},
   "outputs": [],
   "source": [
    "url = 'https://raw.githubusercontent.com/sobhan-moosavi/varicella_study/main/contact_rules.csv'\n",
    "rules_df  = pd.read_csv(url,header=None,engine='python')\n",
    "url2='https://raw.githubusercontent.com/sobhan-moosavi/varicella_study/main/frequency_contact.csv'\n",
    "frequency_df= pd.read_csv(url2,header=None,engine='python')\n",
    "url3='https://raw.githubusercontent.com/sobhan-moosavi/varicella_study/main/varicella_prevalance.csv'\n",
    "V_prevalence_df =pd.read_csv(url3,header=None,engine='python')\n",
    "url4='https://raw.githubusercontent.com/sobhan-moosavi/varicella_study/main/population.csv'\n",
    "population_df=pd.read_csv(url4,header=None,engine='python')"
   ]
  },
  {
   "cell_type": "markdown",
   "metadata": {},
   "source": [
    "### *importing files from pc\n"
   ]
  },
  {
   "cell_type": "raw",
   "metadata": {},
   "source": [
    "frequency_df = pd.read_csv('frequency_contact.csv')\n",
    "population_df = pd.read_csv('population.csv')\n",
    "V_prevalence_df = pd.read_csv('varicella_prevalance.csv')\n",
    "rules_df = pd.read_csv('contact_rules.csv')"
   ]
  },
  {
   "cell_type": "markdown",
   "metadata": {},
   "source": [
    "# THE GRAPH CONTROL PANEL"
   ]
  },
  {
   "cell_type": "code",
   "execution_count": 4,
   "metadata": {},
   "outputs": [],
   "source": [
    "N =500# Number of nodes\n",
    "setting='home'    #the setting we are evaluating(home,work,school,other)\n",
    "D=100#number of days the model runs\n",
    "increase_ratio=50 #the rate of increasing weight per contact\n",
    "lower_weight=0  #the minimum weight between two node\n",
    "threshold_n=1     #threshold of product weight two nodes with same neighbor for increasing weight\n",
    "increse_rate_n=0  #increse rate weight for two nodes with same neighbor\n",
    "birth_rate=.03"
   ]
  },
  {
   "cell_type": "markdown",
   "metadata": {},
   "source": [
    "## 1-Defining Nodes"
   ]
  },
  {
   "cell_type": "code",
   "execution_count": 5,
   "metadata": {},
   "outputs": [],
   "source": [
    "#G = nx.DiGraph()\n",
    "graph_dict={}"
   ]
  },
  {
   "cell_type": "code",
   "execution_count": 6,
   "metadata": {},
   "outputs": [],
   "source": [
    "#defining a dictionary of nodes\n",
    "available_groups  = [] #16_age_groups\n",
    "group_popularity = [] #based on consensus year 95\n",
    "v_prevalence=dict() #based on meta analysis(data is not exact!! update needed!!)contan(age_group,prevalance,lower CL)\n",
    "nodes_dic=dict()\n",
    "\n",
    "\n",
    "for i, row in population_df.iterrows():\n",
    "    \n",
    "    available_groups.append(row[0])\n",
    "    group_popularity.append(float(row[1]))\n",
    "    \n",
    "\n",
    "for i, row in V_prevalence_df.iterrows():\n",
    "    v_prevalence[row[0]]=[float(row[1]),float(row[2])]\n",
    "                    \n",
    "for i in range(N):\n",
    "    while True:\n",
    "        r=random.random()\n",
    "        t=random.randint(0,15)\n",
    "        if r<=group_popularity[t]:\n",
    "            nodes_dic[i]={'age':available_groups[t]}\n",
    "            break\n",
    "\n",
    "\n",
    "for i in range(N):\n",
    "    a=v_prevalence[nodes_dic[i]['age']][0]\n",
    "    b=v_prevalence[nodes_dic[i]['age']][1]\n",
    "    r=np.random.random()\n",
    "    t=np.random.normal(a,(a-b)) \n",
    "    if r<=t:\n",
    "        nodes_dic[i]['infection']=1\n",
    "    else:\n",
    "        nodes_dic[i]['infection']=0\n",
    "        "
   ]
  },
  {
   "cell_type": "code",
   "execution_count": 7,
   "metadata": {},
   "outputs": [],
   "source": [
    "#importing data for frequency of contact in each setting for comparison\n",
    "frequency=dict()\n",
    "\n",
    "for i, row in frequency_df.iterrows():\n",
    "    frequency[row[0]]=dict()\n",
    "    for i in range(1,6):\n",
    "        frequency[row[0]][i]=float(row[i])"
   ]
  },
  {
   "cell_type": "markdown",
   "metadata": {},
   "source": [
    "### Which `group` each node belongs to?\n",
    "\n",
    "* We  used `Age specific population for Iran` to define probability of each group"
   ]
  },
  {
   "cell_type": "code",
   "execution_count": 8,
   "metadata": {
    "scrolled": true
   },
   "outputs": [
    {
     "data": {
      "text/plain": [
       "{'30_34': 50,\n",
       " '15_19': 25,\n",
       " '70_74': 4,\n",
       " '20_24': 47,\n",
       " '50_54': 21,\n",
       " '55_59': 21,\n",
       " '10_14': 37,\n",
       " '5_9': 57,\n",
       " '40_44': 31,\n",
       " '35_39': 55,\n",
       " '60_64': 17,\n",
       " '75+': 9,\n",
       " '0_4': 41,\n",
       " '45_49': 38,\n",
       " '25_29': 38,\n",
       " '65_69': 9}"
      ]
     },
     "execution_count": 8,
     "metadata": {},
     "output_type": "execute_result"
    }
   ],
   "source": [
    "\n",
    "# let's see the number of nodes in each group:\n",
    "\n",
    "age_count = {}\n",
    "for n in nodes_dic.keys():\n",
    "    \n",
    "    if nodes_dic[n]['age'] in age_count:\n",
    "        age_count[nodes_dic[n]['age']] = age_count[nodes_dic[n]['age']] + 1\n",
    "    else:\n",
    "        age_count[nodes_dic[n]['age']] = 1\n",
    "age_count"
   ]
  },
  {
   "cell_type": "markdown",
   "metadata": {},
   "source": [
    "## 2-Defining Connection Rules between Node Groups\n",
    "\n",
    "### `We define rules in terms of connection probability between each two groups`\n"
   ]
  },
  {
   "cell_type": "code",
   "execution_count": 9,
   "metadata": {},
   "outputs": [],
   "source": [
    "#importing rules from .csv to nested dictionary\n",
    "rules={}  # rules contain ->{location:{contactor:{contactee:contact number}\n",
    "temp_0={}\n",
    "temp_1={}\n",
    "location=[]\n",
    "contactor=[]\n",
    "contactee=[]\n",
    "contact_number=[]\n",
    "\n",
    "for i, row in rules_df.iterrows():\n",
    "    \n",
    "    location.append(row[0])\n",
    "    contactor.append(row[1])\n",
    "    contactee.append(row[2])\n",
    "    contact_number.append(float(row[3]))\n",
    "\n",
    "for o in range (0,1280,256):\n",
    "    for m in range(o,o+256,16):\n",
    "        for n in range (m,m+16):\n",
    "            \n",
    "            temp_0[contactee[n]]=contact_number[n]\n",
    "        temp_1[contactor[m]]=temp_0.copy()\n",
    "    rules[location[o]]=temp_1.copy()     "
   ]
  },
  {
   "cell_type": "markdown",
   "metadata": {},
   "source": [
    "## 3-Defining Rules to Connecting Nodes and Adjusting `Probabilities/Distances`\n",
    "\n",
    "* This would be the step that our Naive graph would evolve over the time through a simulation process\n",
    "* we monitor connection between nodes and update weights based on connections"
   ]
  },
  {
   "cell_type": "code",
   "execution_count": 10,
   "metadata": {},
   "outputs": [],
   "source": [
    "#in this block we've defiend a function \"Run\" \n",
    "def Run(increase_rate,threshold_n,increse_rate_n,D,nodes_dic):\n",
    "    \n",
    "    x_upped=0\n",
    "    x_downed=0\n",
    "    \n",
    "    #building the array based on nodes_dic\n",
    "    \n",
    "    for i in nodes_dic.keys():\n",
    "        graph_dict[i]={}\n",
    "        for j in nodes_dic.keys():\n",
    "            if i!=j and rules[setting][nodes_dic[i]['age']][nodes_dic[j][\"age\"]]!=0:\n",
    "                              \n",
    "               #this condition determine if a node is added to graph or not based on setting \n",
    "                graph_dict[i][j]=1\n",
    "     #counting number of each age group in graph  \n",
    "    group_count = {}\n",
    "    for n in graph_dict.keys():\n",
    "    \n",
    "        if nodes_dic[n]['age'] in group_count:\n",
    "            group_count[nodes_dic[n]['age']] = group_count[nodes_dic[n]['age']] + 1\n",
    "        else:\n",
    "            group_count[nodes_dic[n]['age']] = 1\n",
    "            \n",
    "            \n",
    "    \n",
    "    #bulding empty dictinary \"contacted\" for storing contacts in single day\n",
    "    #building empty dictionary for monitoring all contacts during all days\n",
    "    #building empty dictionary for monitoring all weights during all days\n",
    "    contacted={}\n",
    "    #contacted_all={}\n",
    "    #weight_all={} \n",
    "    #decreae_rates_dict={}\n",
    "    contacted_history={}\n",
    "    \n",
    "    for i in graph_dict.keys():\n",
    "        for j in graph_dict[i].keys():\n",
    "        \n",
    "            if i in contacted.keys():\n",
    "                contacted[i][j]=0\n",
    "                contacted_history[i][j]=0\n",
    "                #contacted_all[i][j]=[]\n",
    "                #weight_all[i][j]=[]\n",
    "                #decreae_rates_dict[i][j]=[]\n",
    "\n",
    "            else :\n",
    "                contacted[i]={j:0}\n",
    "                contacted_history[i]={j:0}\n",
    "                #contacted_all[i]={j:[]}\n",
    "                #weight_all[i]={j:[]}\n",
    "                #decreae_rates_dict[i]={j:[]}\n",
    "    #determinig upper_weight and increase_rate based on age of contacor and contactee\n",
    "    weight_factors={}\n",
    "    for i in available_groups:\n",
    "        weight_factors[i]={}\n",
    "        for j in available_groups:\n",
    "            weight_factors[i][j]={}\n",
    "            age_p=rules[setting][i][j]\n",
    "            weight_factors[i][j]['upper_weight']=(1/age_p)*(group_count[j]-age_p)\n",
    "            #the following part won't be needed for larger graphs\n",
    "            #///////////////////////////////////////\n",
    "            #proposed_upper_weight=(1/age_p)*(group_count[j]-age_p)\n",
    "            #if proposed_upper_weight > group_count[j]:\n",
    "                #weight_factors[i][j]['upper_weight']=(group_count[j]-age_p)/age_p\n",
    "            #else:            \n",
    "               # weight_factors[i][j]['upper_weight']=(group_count[j]-age_p)/age_p\n",
    "            #//////////////////////////////////////\n",
    "                \n",
    "            weight_factors[i][j]['upper_weight']\n",
    "            weight_factors[i][j]['increase_rate']=weight_factors[i][j]['upper_weight']/increase_ratio\n",
    "    \n",
    "     #building a dictionary that includes number of 'weight addition' and number of nodes viable for 'weight substraction'\n",
    "    N_contacted=dict()\n",
    "    for i in graph_dict.keys():\n",
    "        N_contacted[i]={}\n",
    "        for k in group_count.keys():\n",
    "            N_contacted[i][k]={'N_base':0,'N_c':0,'decrease_rate':0,'N_c_T':0 }       \n",
    "    for d in range (0,D):#we are running the model for D days\n",
    "        \n",
    "        for i in graph_dict.keys():\n",
    "            for k in group_count.keys():\n",
    "                N_contacted[i][k]={'N_base':0,'N_c':0,'decrease_rate':0,'N_c_T':0 }\n",
    "                                    \n",
    "        #iterating thorough the graph and storing connections in 'contacted'\n",
    "        for i in graph_dict.keys():\n",
    "            for j in graph_dict[i].keys():\n",
    "                                   \n",
    "                age_p=rules[setting][nodes_dic[i]['age']][nodes_dic[j][\"age\"]]\n",
    "                r=random.random()\n",
    "\n",
    "                if r <(age_p/group_count[nodes_dic[j]['age']])*graph_dict[i][j]:\n",
    "                    contacted[i][j]=1\n",
    "                    contacted_history[i][j]=1\n",
    "                    #contacted_all[i][j].append(1)#storing contacts of each run in this dic\n",
    "                    N_contacted[i][nodes_dic[j]['age']]['N_c_T']+=1#Number of edges that had connection\n",
    "                else:\n",
    "                    contacted[i][j]=0\n",
    "                    #contacted_all[i][j].append(0)\n",
    "                               \n",
    "        # iterating thorough 'contacted' and adding to the weights based on it\n",
    "        for i in graph_dict.keys():\n",
    "            for j in graph_dict[i].keys():\n",
    "            \n",
    "                age_p=rules[setting][nodes_dic[i]['age']][nodes_dic[j][\"age\"]]\n",
    "\n",
    "                upper_weight=weight_factors[nodes_dic[i]['age']][nodes_dic[j]['age']]['upper_weight']\n",
    "                increase_rate=weight_factors[nodes_dic[i]['age']][nodes_dic[j]['age']]['increase_rate']\n",
    "\n",
    "                if contacted[i][j]==1 and graph_dict[i][j]+increase_rate <=upper_weight:\n",
    "                    #we don't want the weight to be more than 'upper weight'\n",
    "\n",
    "                    t=graph_dict[i][j]+increase_rate\n",
    "                    graph_dict[i][j]=t\n",
    "                    N_contacted[i][nodes_dic[j]['age']]['N_c']+=1#number of edges with connection AND increase weight\n",
    "                \n",
    "                if graph_dict[i][j]-N_contacted[i][nodes_dic[j]['age']]['decrease_rate']<lower_weight:\n",
    "                    N_contacted[i][nodes_dic[j]['age']]['N_base']+=1\n",
    "         \n",
    "        #we calculate how much weight is added overall,and then distrubt it between all nodes that should decrease weight\n",
    "        for i in graph_dict.keys():\n",
    "            for j in graph_dict[i].keys():\n",
    "            \n",
    "                increase_rate=weight_factors[nodes_dic[i]['age']][nodes_dic[j]['age']]['increase_rate']\n",
    "\n",
    "                N_base= N_contacted[i][nodes_dic[j]['age']]['N_base']\n",
    "                N_c=N_contacted[i][nodes_dic[j]['age']]['N_c']\n",
    "                N_c_T=N_contacted[i][nodes_dic[j]['age']]['N_c_T']\n",
    "                age_p=rules[setting][nodes_dic[i]['age']][nodes_dic[j][\"age\"]]\n",
    "                pop=group_count[nodes_dic[j]['age']]-N_base-N_c_T\n",
    "\n",
    "                if pop!=0:\n",
    "                    N_contacted[i][nodes_dic[j]['age']]['decrease_rate']=(increase_rate*N_c)/pop\n",
    "                else:\n",
    "                    N_contacted[i][nodes_dic[j]['age']]['decrease_rate']=0\n",
    "                \n",
    "                \n",
    "                \n",
    "            \n",
    "                if contacted[i][j]==0 and (graph_dict[i][j]-N_contacted[i][nodes_dic[j]['age']]['decrease_rate'] >=lower_weight):\n",
    "                    #we don't want the weight to be lower than lower_weight\n",
    "                    t=graph_dict[i][j]-N_contacted[i][nodes_dic[j]['age']]['decrease_rate']\n",
    "                    graph_dict[i][j]=t\n",
    "            #weight_all[i][j].append(graph_dict[i][j])\n",
    "            \n",
    "            #decreae_rates_dict[i][j].append(N_contacted[i][nodes_dic[j]['age']]['decrease_rate'])\n",
    "\n",
    "        #updating weight between two nodes with same neighbor\n",
    "        #for i in nodes_dic.keys():\n",
    "            #for j in nodes_dic.keys():\n",
    "                #if i!=j:\n",
    "                    #for o in nodes_dic.keys():\n",
    "                        #if o!=j and o!=i:\n",
    "\n",
    "                            #if (G[i][o]['weight']*graph_dict[i][j])>threshold_n and G[o][j]['weight']<1:\n",
    "                                #t=G[o][j]['weight']+increse_rate_n\n",
    "    results={'contacted_history':contacted_history,'graph_dict':graph_dict,'group_count':group_count,'weight_factors':weight_factors,'contacted':contacted}                           \n",
    "    return(results)\n"
   ]
  },
  {
   "cell_type": "code",
   "execution_count": 11,
   "metadata": {},
   "outputs": [],
   "source": [
    "#this defines a function for aging the graph\n",
    "def G_age(nodes_dict,graph_dict):\n",
    "    return()\n",
    "    "
   ]
  },
  {
   "cell_type": "markdown",
   "metadata": {},
   "source": [
    "# 4- Monitroing the graph\n",
    "### we monitor the graph for age specific number of contact per day and frequeny of contact"
   ]
  },
  {
   "cell_type": "code",
   "execution_count": 12,
   "metadata": {},
   "outputs": [],
   "source": [
    "#this function returns p_value wilcoxon for comparison age stratified number of contacts \n",
    "   \n",
    "\n",
    "def metric_A_wilx(results) :   \n",
    "\n",
    "    \n",
    "    graph_dict=results['graph_dict']\n",
    "    group_count=results['group_count']\n",
    "    contacted=results['contacted']\n",
    "\n",
    "    L1=[]\n",
    "    L2=[]\n",
    "    \n",
    "\n",
    "    rules_m=dict()\n",
    "    rules_m[setting]=dict()\n",
    "\n",
    "    for i in rules[setting].keys():\n",
    "        rules_m[setting][i]=dict()\n",
    "        for j in rules[setting][i].keys():\n",
    "             rules_m[setting][i][j]=0\n",
    "\n",
    "    for i in graph_dict.keys():\n",
    "            for j in graph_dict[i].keys():   \n",
    "        \n",
    "                age_p=rules[setting][nodes_dic[i]['age']][nodes_dic[j][\"age\"]]\n",
    "                t=(age_p/(group_count[nodes_dic[j]['age']]*group_count[nodes_dic[i]['age']]))*graph_dict[i][j]\n",
    "                rules_m[setting][nodes_dic[i]['age']][nodes_dic[j]['age']]+=t\n",
    "       \n",
    "            \n",
    "   \n",
    "    for i in rules_m[setting].keys():\n",
    "        for j in rules_m[setting][i].keys():\n",
    "            L1.append(rules[setting][i][j])\n",
    "            L2.append(rules_m[setting][i][j])\n",
    "\n",
    "    I=stats.wilcoxon(L1,L2, zero_method='wilcox', correction=False, alternative='two-sided')\n",
    "    return(I,rules_m)"
   ]
  },
  {
   "cell_type": "code",
   "execution_count": 13,
   "metadata": {
    "scrolled": true
   },
   "outputs": [],
   "source": [
    "#this function returns the absoloute error for age stratified number of contact\n",
    "\n",
    "def metric_A_abs(results):\n",
    "    \n",
    "    L=[]\n",
    "\n",
    "    \n",
    "    graph_dict=results['graph_dict']\n",
    "    group_count=results['group_count']\n",
    "    contacted=results['contacted']\n",
    "\n",
    "    rules_m=dict()\n",
    "    rules_m[setting]=dict()\n",
    "\n",
    "    for i in rules[setting].keys():\n",
    "        rules_m[setting][i]=dict()\n",
    "        for j in rules[setting][i].keys():\n",
    "             rules_m[setting][i][j]=0\n",
    "                \n",
    "    for i in graph_dict.keys():\n",
    "            for j in graph_dict[i].keys():   \n",
    "        \n",
    "                age_p=rules[setting][nodes_dic[i]['age']][nodes_dic[j][\"age\"]]\n",
    "                t=(age_p/(group_count[nodes_dic[j]['age']]*group_count[nodes_dic[i]['age']]))*graph_dict[i][j]\n",
    "                rules_m[setting][nodes_dic[i]['age']][nodes_dic[j]['age']]+=t\n",
    "\n",
    "\n",
    "    \n",
    "\n",
    "    for i in rules_m[setting].keys():\n",
    "        for j in rules_m[setting][i].keys():\n",
    "\n",
    "                L.append(abs((rules_m[setting][i][j])-(rules[setting][i][j])))\n",
    "\n",
    "    I=statistics.mean(L)\n",
    "    return(I,rules_m)"
   ]
  },
  {
   "cell_type": "code",
   "execution_count": 14,
   "metadata": {},
   "outputs": [],
   "source": [
    "#defining a function that returns mean absoloute error 'frequency of contacts ' in the last x day of model\n",
    "def metric_F(results):\n",
    "    \n",
    "    n=0\n",
    "    \n",
    "    \n",
    "    contacted_history=results['contacted_history']\n",
    "    graph_dict=results['graph_dict']\n",
    "    group_count=results['group_count']\n",
    "    contacted=results['contacted']\n",
    "    \n",
    "    L1=[]\n",
    "    L2=[]\n",
    "    \n",
    "    frequency_m=dict()\n",
    "    for i in frequency.keys():\n",
    "        frequency_m[i]={1:0,2:0,3:0,4:0,5:0}\n",
    "\n",
    "    for i in graph_dict.keys():\n",
    "            for j in graph_dict[i].keys():\n",
    "                if contacted[i][j]==1:\n",
    "\n",
    "                    age_p=rules[setting][nodes_dic[i]['age']][nodes_dic[j][\"age\"]]\n",
    "\n",
    "                    t=(age_p/group_count[nodes_dic[i]['age']])*graph_dict[i][j]\n",
    "\n",
    "                    n+=1\n",
    "\n",
    "                    if contacted_history[i][j]==1 and t<(1/30) :\n",
    "                        frequency_m[setting][4]+=1\n",
    "\n",
    "                    elif t>=(1/30) and t<=(2/30):\n",
    "                        frequency_m[setting][3]+=1\n",
    "\n",
    "                    elif t>(2/30) and t <=(2/7):\n",
    "                        frequency_m[setting][2]+=1\n",
    "\n",
    "                    elif t>(2/7):\n",
    "\n",
    "                        frequency_m[setting][1]+=1\n",
    "                    else:\n",
    "                        frequency_m[setting][5]+=1\n",
    "\n",
    "    for i in frequency_m[setting].keys():\n",
    "        if n!=0:\n",
    "        \n",
    "            frequency_m[setting][i]=frequency_m[setting][i]/n\n",
    "        if n==0:\n",
    "            \n",
    "            frequency_m[setting][i]=0\n",
    "        \n",
    "            \n",
    "        \n",
    "    \n",
    "    for i in frequency_m[setting].keys():\n",
    "        \n",
    "        L1.append(frequency[setting][i])\n",
    "        L2.append(frequency_m[setting][i])\n",
    "    \n",
    "    #print('for the first time:',frequency_m[setting][5],'\\nless than once a month:',frequency_m[setting][4],'\\nabout once or twice a month:',frequency_m[setting][3],'\\nabout once or twice a week',frequency_m[setting][2],'\\ndaily or almost daily',frequency_m[setting][1])\n",
    "\n",
    "    return(frequency_m)"
   ]
  },
  {
   "cell_type": "code",
   "execution_count": 15,
   "metadata": {},
   "outputs": [],
   "source": [
    "start=time.time()"
   ]
  },
  {
   "cell_type": "markdown",
   "metadata": {},
   "source": [
    "# evaluating results\n",
    "### this part of code evaluates results of  function Run for the inputs\n",
    "\n",
    "###### Run -> input : increase_rate, threshold_n, increse_rate_n, D \n",
    "###### Run -> output : contacted_all, G, weight_all, group_count\n"
   ]
  },
  {
   "cell_type": "code",
   "execution_count": 16,
   "metadata": {},
   "outputs": [],
   "source": [
    "#this part runs the model\n",
    "results=Run(increase_ratio,threshold_n,increse_rate_n,D,nodes_dic )\n"
   ]
  },
  {
   "cell_type": "code",
   "execution_count": 17,
   "metadata": {},
   "outputs": [],
   "source": [
    "end=time.time()"
   ]
  },
  {
   "cell_type": "code",
   "execution_count": 18,
   "metadata": {},
   "outputs": [
    {
     "name": "stdout",
     "output_type": "stream",
     "text": [
      "0.3353602940681301\n"
     ]
    }
   ],
   "source": [
    "#this part returns the absoloute error for age stratified number of contact\n",
    "M_abs=metric_A_abs(results)\n",
    "print(M_abs[0])"
   ]
  },
  {
   "cell_type": "code",
   "execution_count": 19,
   "metadata": {},
   "outputs": [
    {
     "name": "stdout",
     "output_type": "stream",
     "text": [
      "0_4 -> 0_4 0.9780105194401701 // 0.43913\n",
      "0_4 -> 5_9 1.4717432718637427 // 0.70013\n",
      "0_4 -> 10_14 1.017221004277022 // 0.45382\n",
      "0_4 -> 15_19 0.5867197806208424 // 0.25108\n",
      "0_4 -> 20_24 1.0125541062323933 // 0.41814\n",
      "0_4 -> 25_29 1.2165348858343654 // 0.58958\n",
      "0_4 -> 30_34 1.130728492878761 // 0.56166\n",
      "0_4 -> 35_39 1.0828539747438057 // 0.44455\n",
      "0_4 -> 40_44 0.5901801432670182 // 0.24272\n",
      "0_4 -> 45_49 0.37474739270111 // 0.12269\n",
      "0_4 -> 50_54 0.4085148528394136 // 0.1481\n",
      "0_4 -> 55_59 0.38369592205106434 // 0.13615\n",
      "0_4 -> 60_64 0.22857552587278848 // 0.08664\n",
      "0_4 -> 65_69 0.16528881191444136 // 0.04243\n",
      "0_4 -> 70_74 0.08656608414634148 // 0.01513\n",
      "0_4 -> 75+ 0.08947042682926824 // 0.01275\n",
      "10_14 -> 0_4 0.7003343146862229 // 0.29022\n",
      "10_14 -> 5_9 1.2994825581449199 // 0.58282\n",
      "10_14 -> 10_14 1.5608587970264391 // 0.79402\n",
      "10_14 -> 15_19 0.8452802223854224 // 0.4293\n",
      "10_14 -> 20_24 0.37782695681788747 // 0.12883\n",
      "10_14 -> 25_29 0.3695948421653572 // 0.11601\n",
      "10_14 -> 30_34 0.6053053722168161 // 0.23366\n",
      "10_14 -> 35_39 0.9193714145139841 // 0.36032\n",
      "10_14 -> 40_44 0.7541851883268041 // 0.34993\n",
      "10_14 -> 45_49 0.5314652777767557 // 0.18767\n",
      "10_14 -> 50_54 0.26270910176996737 // 0.09349\n",
      "10_14 -> 55_59 0.11719823601910384 // 0.04517\n",
      "10_14 -> 60_64 0.13093927972973068 // 0.03292\n",
      "10_14 -> 65_69 0.12860188828828836 // 0.03328\n",
      "10_14 -> 70_74 0.12056380630630646 // 0.02201\n",
      "10_14 -> 75+ 0.08567316486486543 // 0.00981\n",
      "15_19 -> 0_4 0.4448132522507678 // 0.16443\n",
      "15_19 -> 5_9 0.6885263388181863 // 0.25695\n",
      "15_19 -> 10_14 1.0837775455575138 // 0.45371\n",
      "15_19 -> 15_19 1.1798863213268869 // 0.61516\n",
      "15_19 -> 20_24 0.6869021219484625 // 0.25893\n",
      "15_19 -> 25_29 0.30707469064864856 // 0.12559\n",
      "15_19 -> 30_34 0.2527744733854449 // 0.07219\n",
      "15_19 -> 35_39 0.5914457497292706 // 0.20687\n",
      "15_19 -> 40_44 0.6433836854970522 // 0.27367\n",
      "15_19 -> 45_49 0.6683002355800856 // 0.25712\n",
      "15_19 -> 50_54 0.4211923522078556 // 0.16571\n",
      "15_19 -> 55_59 0.22578102131528616 // 0.06239\n",
      "15_19 -> 60_64 0.11466716635294096 // 0.03443\n",
      "15_19 -> 65_69 0.1315039599999997 // 0.02076\n",
      "15_19 -> 70_74 0.08672341599999991 // 0.01066\n",
      "15_19 -> 75+ 0.03646659255555547 // 0.00719\n",
      "20_24 -> 0_4 0.681681639357734 // 0.27159\n",
      "20_24 -> 5_9 0.4311203980135132 // 0.14943\n",
      "20_24 -> 10_14 0.4045866510934482 // 0.14833\n",
      "20_24 -> 15_19 0.8711227437323489 // 0.4005\n",
      "20_24 -> 20_24 1.1142001853189445 // 0.51184\n",
      "20_24 -> 25_29 0.7501419719808817 // 0.30616\n",
      "20_24 -> 30_34 0.24896171273417586 // 0.08551\n",
      "20_24 -> 35_39 0.15758614417516154 // 0.04193\n",
      "20_24 -> 40_44 0.36367882188389405 // 0.12177\n",
      "20_24 -> 45_49 0.5804333398521205 // 0.22323\n",
      "20_24 -> 50_54 0.4145394021324572 // 0.16131\n",
      "20_24 -> 55_59 0.2790903094438208 // 0.09005\n",
      "20_24 -> 60_64 0.11257412706612256 // 0.02833\n",
      "20_24 -> 65_69 0.08188325047281321 // 0.01037\n",
      "20_24 -> 70_74 0.04109204255319152 // 0.00711\n",
      "20_24 -> 75+ 0.04562115307328637 // 0.00602\n",
      "25_29 -> 0_4 1.302579045454398 // 0.63637\n",
      "25_29 -> 5_9 0.6972810338975307 // 0.29163\n",
      "25_29 -> 10_14 0.3171137907227419 // 0.11642\n",
      "25_29 -> 15_19 0.4606215594182067 // 0.19433\n",
      "25_29 -> 20_24 0.8144328112444044 // 0.37152\n",
      "25_29 -> 25_29 1.123268037889707 // 0.51744\n",
      "25_29 -> 30_34 0.6242060122740996 // 0.23779\n",
      "25_29 -> 35_39 0.21428781663707785 // 0.06675\n",
      "25_29 -> 40_44 0.14932512490330166 // 0.03719\n",
      "25_29 -> 45_49 0.3009545410257444 // 0.09897\n",
      "25_29 -> 50_54 0.5048269225906854 // 0.18591\n",
      "25_29 -> 55_59 0.36438326311304126 // 0.11574\n",
      "25_29 -> 60_64 0.2274655947484531 // 0.06293\n",
      "25_29 -> 65_69 0.09602975438596492 // 0.02253\n",
      "25_29 -> 70_74 0.023872165789473748 // 0.00442\n",
      "25_29 -> 75+ 0.03243888121345039 // 0.00713\n",
      "30_34 -> 0_4 1.5783390113777225 // 0.82528\n",
      "30_34 -> 5_9 1.9208466952460752 // 0.98011\n",
      "30_34 -> 10_14 1.1862065458315838 // 0.58161\n",
      "30_34 -> 15_19 0.4114318161691609 // 0.1402\n",
      "30_34 -> 20_24 0.5635108211769839 // 0.18978\n",
      "30_34 -> 25_29 0.9008760941414423 // 0.40974\n",
      "30_34 -> 30_34 1.2113417615066737 // 0.52625\n",
      "30_34 -> 35_39 0.7206376423089252 // 0.28849\n",
      "30_34 -> 40_44 0.36240340676445304 // 0.12135\n",
      "30_34 -> 45_49 0.19388482668278142 // 0.05357\n",
      "30_34 -> 50_54 0.2633685910456174 // 0.09874\n",
      "30_34 -> 55_59 0.3524485563301598 // 0.12109\n",
      "30_34 -> 60_64 0.32692196105378374 // 0.10916\n",
      "30_34 -> 65_69 0.14039900123809454 // 0.03084\n",
      "30_34 -> 70_74 0.08304906399999974 // 0.01774\n",
      "30_34 -> 75+ 0.06537275135714316 // 0.00783\n",
      "35_39 -> 0_4 1.6474842316572316 // 0.87342\n",
      "35_39 -> 5_9 2.3478299765804675 // 1.25987\n",
      "35_39 -> 10_14 1.8562391880890245 // 1.08811\n",
      "35_39 -> 15_19 0.9684213434599545 // 0.50231\n",
      "35_39 -> 20_24 0.3877949025165399 // 0.1161\n",
      "35_39 -> 25_29 0.3851630476251713 // 0.14467\n",
      "35_39 -> 30_34 0.7361026405178781 // 0.29\n",
      "35_39 -> 35_39 1.183024445137212 // 0.5293\n",
      "35_39 -> 40_44 0.5538787506963839 // 0.23551\n",
      "35_39 -> 45_49 0.27542983260485293 // 0.08276\n",
      "35_39 -> 50_54 0.19984608235102458 // 0.07061\n",
      "35_39 -> 55_59 0.22877493301116955 // 0.06737\n",
      "35_39 -> 60_64 0.3263044420832727 // 0.10502\n",
      "35_39 -> 65_69 0.22329524818181962 // 0.06534\n",
      "35_39 -> 70_74 0.12648625333333335 // 0.02988\n",
      "35_39 -> 75+ 0.05161683995670948 // 0.00931\n",
      "40_44 -> 0_4 1.1303295937492892 // 0.53961\n",
      "40_44 -> 5_9 1.7245159606976592 // 0.89373\n",
      "40_44 -> 10_14 1.7431872520223815 // 0.96396\n",
      "40_44 -> 15_19 1.2077320353856937 // 0.69418\n",
      "40_44 -> 20_24 0.6080603331334715 // 0.24795\n",
      "40_44 -> 25_29 0.36462298601223414 // 0.11249\n",
      "40_44 -> 30_34 0.5237860140631877 // 0.17654\n",
      "40_44 -> 35_39 0.7020593886415267 // 0.25164\n",
      "40_44 -> 40_44 0.8504993927904511 // 0.37431\n",
      "40_44 -> 45_49 0.4999375708895437 // 0.18291\n",
      "40_44 -> 50_54 0.25663483933058234 // 0.07871\n",
      "40_44 -> 55_59 0.09921079491551398 // 0.02281\n",
      "40_44 -> 60_64 0.20100287431643651 // 0.06324\n",
      "40_44 -> 65_69 0.18679007921146903 // 0.06709\n",
      "40_44 -> 70_74 0.11766815645161303 // 0.02601\n",
      "40_44 -> 75+ 0.10914460346902251 // 0.01619\n",
      "45_49 -> 0_4 0.7258402604100115 // 0.29897\n",
      "45_49 -> 5_9 1.175949991755744 // 0.54021\n",
      "45_49 -> 10_14 1.3134288767776487 // 0.63723\n",
      "45_49 -> 15_19 1.2122635670126964 // 0.72492\n",
      "45_49 -> 20_24 1.0496867230391298 // 0.43499\n",
      "45_49 -> 25_29 0.4800815574285078 // 0.18967\n",
      "45_49 -> 30_34 0.27374641470957106 // 0.08088\n",
      "45_49 -> 35_39 0.4397244785950431 // 0.14233\n",
      "45_49 -> 40_44 0.4346104483830281 // 0.17328\n",
      "45_49 -> 45_49 0.70677978435275 // 0.29681\n",
      "45_49 -> 50_54 0.4073701443195683 // 0.17252\n",
      "45_49 -> 55_59 0.14947106628412843 // 0.04884\n",
      "45_49 -> 60_64 0.10650034598039368 // 0.02901\n",
      "45_49 -> 65_69 0.08175908377192982 // 0.02283\n",
      "45_49 -> 70_74 0.08691120614035064 // 0.0197\n",
      "45_49 -> 75+ 0.12467839139515527 // 0.02524\n",
      "5_9 -> 0_4 1.0232422105591887 // 0.42927\n",
      "5_9 -> 5_9 1.2923555896093104 // 0.56825\n",
      "5_9 -> 10_14 1.1814409819793363 // 0.56563\n",
      "5_9 -> 15_19 0.6362281112012571 // 0.269\n",
      "5_9 -> 20_24 0.38362749574356664 // 0.11771\n",
      "5_9 -> 25_29 0.846224378308233 // 0.3709\n",
      "5_9 -> 30_34 1.2298637276031639 // 0.51869\n",
      "5_9 -> 35_39 1.0194317627613536 // 0.45007\n",
      "5_9 -> 40_44 0.7454428963975904 // 0.3394\n",
      "5_9 -> 45_49 0.46647928390580223 // 0.15992\n",
      "5_9 -> 50_54 0.29784691771695654 // 0.10063\n",
      "5_9 -> 55_59 0.31962077279207257 // 0.10693\n",
      "5_9 -> 60_64 0.24777865517543482 // 0.07634\n",
      "5_9 -> 65_69 0.15746461687552188 // 0.03964\n",
      "5_9 -> 70_74 0.11968579298245638 // 0.01828\n",
      "5_9 -> 75+ 0.07045386265664226 // 0.01128\n",
      "50_54 -> 0_4 1.0633159337605862 // 0.4959\n",
      "50_54 -> 5_9 0.9959417362162953 // 0.39764\n",
      "50_54 -> 10_14 1.161536246426449 // 0.53539\n",
      "50_54 -> 15_19 1.091483501451784 // 0.56018\n",
      "50_54 -> 20_24 1.0720623296821254 // 0.49677\n",
      "50_54 -> 25_29 0.8416638409171036 // 0.37808\n",
      "50_54 -> 30_34 0.5229082627776627 // 0.21428\n",
      "50_54 -> 35_39 0.33781586380873624 // 0.09689\n",
      "50_54 -> 40_44 0.34060095018980474 // 0.12335\n",
      "50_54 -> 45_49 0.47064369314576693 // 0.18032\n",
      "50_54 -> 50_54 0.5068000995305721 // 0.25877\n",
      "50_54 -> 55_59 0.4289057495309691 // 0.15837\n",
      "50_54 -> 60_64 0.12509027453314633 // 0.04555\n",
      "50_54 -> 65_69 0.11454068571428587 // 0.01872\n",
      "50_54 -> 70_74 0.11213482857142867 // 0.01828\n",
      "50_54 -> 75+ 0.11244723809523831 // 0.02699\n",
      "55_59 -> 0_4 1.4052379314407328 // 0.70385\n",
      "55_59 -> 5_9 1.4628631762023305 // 0.65704\n",
      "55_59 -> 10_14 0.8378538277028283 // 0.37377\n",
      "55_59 -> 15_19 0.9833399474012718 // 0.45237\n",
      "55_59 -> 20_24 0.9092262395844654 // 0.37378\n",
      "55_59 -> 25_29 1.113434857376328 // 0.4802\n",
      "55_59 -> 30_34 0.9518644785562494 // 0.40436\n",
      "55_59 -> 35_39 0.5009725862574924 // 0.15604\n",
      "55_59 -> 40_44 0.2292861519501361 // 0.0743\n",
      "55_59 -> 45_49 0.3566082422621902 // 0.14793\n",
      "55_59 -> 50_54 0.43877532382384316 // 0.21918\n",
      "55_59 -> 55_59 0.5478191364375223 // 0.22413\n",
      "55_59 -> 60_64 0.34856720475023556 // 0.12645\n",
      "55_59 -> 65_69 0.2089216488095244 // 0.05595\n",
      "55_59 -> 70_74 0.05831888412698417 // 0.01211\n",
      "55_59 -> 75+ 0.0897527313492064 // 0.01883\n",
      "60_64 -> 0_4 1.7148860355325346 // 0.90051\n",
      "60_64 -> 5_9 1.6425039067584921 // 0.79463\n",
      "60_64 -> 10_14 0.9327060716391244 // 0.45309\n",
      "60_64 -> 15_19 0.895507528271786 // 0.40406\n",
      "60_64 -> 20_24 0.7477510399067399 // 0.28359\n",
      "60_64 -> 25_29 0.8669144151168913 // 0.38955\n",
      "60_64 -> 30_34 1.055966347039757 // 0.46881\n",
      "60_64 -> 35_39 0.960516374747943 // 0.3707\n",
      "60_64 -> 40_44 0.4495548377473942 // 0.17636\n",
      "60_64 -> 45_49 0.2782093331478555 // 0.08607\n",
      "60_64 -> 50_54 0.3482164315966382 // 0.15312\n",
      "60_64 -> 55_59 0.4694601490446714 // 0.19749\n",
      "60_64 -> 60_64 0.44885856831891463 // 0.20007\n",
      "60_64 -> 65_69 0.29476321344537804 // 0.11016\n",
      "60_64 -> 70_74 0.13353176470588235 // 0.0304\n",
      "60_64 -> 75+ 0.04572639166666666 // 0.00649\n",
      "65_69 -> 0_4 1.2247467793259121 // 0.55751\n",
      "65_69 -> 5_9 1.5453475536254975 // 0.76559\n",
      "65_69 -> 10_14 1.1536502309346943 // 0.57958\n",
      "65_69 -> 15_19 0.5685820050144927 // 0.28843\n",
      "65_69 -> 20_24 0.6202049795166805 // 0.24399\n",
      "65_69 -> 25_29 0.741793686500519 // 0.27355\n",
      "65_69 -> 30_34 1.098745620436045 // 0.46798\n",
      "65_69 -> 35_39 1.0452563705940685 // 0.48207\n",
      "65_69 -> 40_44 0.8325303465146454 // 0.37159\n",
      "65_69 -> 45_49 0.32688313231213717 // 0.11871\n",
      "65_69 -> 50_54 0.4503807668421058 // 0.12819\n",
      "65_69 -> 55_59 0.4026351909421705 // 0.14231\n",
      "65_69 -> 60_64 0.32582002441176433 // 0.13139\n",
      "65_69 -> 65_69 0.4143605656084656 // 0.16699\n",
      "65_69 -> 70_74 0.2236287999999999 // 0.06628\n",
      "65_69 -> 75+ 0.08338683373015884 // 0.01449\n",
      "70_74 -> 0_4 0.6927585273944649 // 0.24197\n",
      "70_74 -> 5_9 1.459723160218248 // 0.63363\n",
      "70_74 -> 10_14 1.0565302203052553 // 0.46272\n",
      "70_74 -> 15_19 0.8157417290513826 // 0.36325\n",
      "70_74 -> 20_24 0.28340394001695907 // 0.08045\n",
      "70_74 -> 25_29 0.5798331217306784 // 0.19993\n",
      "70_74 -> 30_34 0.6898509191352044 // 0.17033\n",
      "70_74 -> 35_39 0.6576842567181239 // 0.33375\n",
      "70_74 -> 40_44 0.6788743247862696 // 0.30084\n",
      "70_74 -> 45_49 0.6394269144934421 // 0.2208\n",
      "70_74 -> 50_54 0.6130901658082711 // 0.15517\n",
      "70_74 -> 55_59 0.24792976563909755 // 0.07809\n",
      "70_74 -> 60_64 0.22095758014705863 // 0.11293\n",
      "70_74 -> 65_69 0.2872145014880951 // 0.09525\n",
      "70_74 -> 70_74 0.23120341249999998 // 0.08881\n",
      "70_74 -> 75+ 0.2280343325396825 // 0.06376\n",
      "75+ -> 0_4 0.42134327005628636 // 0.17897\n",
      "75+ -> 5_9 0.61916715820308 // 0.23007\n",
      "75+ -> 10_14 0.7869667419788403 // 0.31046\n",
      "75+ -> 15_19 0.665849421957547 // 0.25724\n",
      "75+ -> 20_24 0.2781573555048491 // 0.07412\n",
      "75+ -> 25_29 0.2904953370689481 // 0.06074\n",
      "75+ -> 30_34 0.3381949738775513 // 0.08204\n",
      "75+ -> 35_39 0.4662978296963381 // 0.16646\n",
      "75+ -> 40_44 0.5262675497236775 // 0.16858\n",
      "75+ -> 45_49 0.42886864739829994 // 0.14963\n",
      "75+ -> 50_54 0.4042746967919791 // 0.16419\n",
      "75+ -> 55_59 0.30405972848788626 // 0.0671\n",
      "75+ -> 60_64 0.13957559509803924 // 0.02921\n",
      "75+ -> 65_69 0.15531713827160507 // 0.05147\n",
      "75+ -> 70_74 0.06908300185185183 // 0.03753\n",
      "75+ -> 75+ 0.0712643024691358 // 0.0247\n"
     ]
    }
   ],
   "source": [
    "#this part shows number of age stratified contact from data and model for comparision\n",
    "for i in rules[setting].keys():\n",
    "    for j in rules[setting][i].keys():\n",
    "        print(i,'->',j,M_abs[1][setting][i][j],'//',rules[setting][i][j])"
   ]
  },
  {
   "cell_type": "code",
   "execution_count": 20,
   "metadata": {
    "scrolled": true
   },
   "outputs": [
    {
     "name": "stdout",
     "output_type": "stream",
     "text": [
      "0.000000\n"
     ]
    }
   ],
   "source": [
    "#this part returns p_value wilcoxon for comparison age stratified number of contacts \n",
    "\n",
    "print('%f' % metric_A_wilx(results)[0][1])"
   ]
  },
  {
   "cell_type": "code",
   "execution_count": 21,
   "metadata": {},
   "outputs": [
    {
     "name": "stdout",
     "output_type": "stream",
     "text": [
      "2.701057750617771\n"
     ]
    }
   ],
   "source": [
    "#this shows the mean of all edeges across the graph(it's supposed to stay close to one)\n",
    "mean_weights=[]\n",
    "for i in graph_dict.keys():\n",
    "    for j in graph_dict[i].keys():\n",
    "             \n",
    "        mean_weights.append(results['graph_dict'][i][j])\n",
    "            \n",
    "print(statistics.mean(mean_weights))"
   ]
  },
  {
   "cell_type": "code",
   "execution_count": 22,
   "metadata": {},
   "outputs": [
    {
     "name": "stdout",
     "output_type": "stream",
     "text": [
      "home : 1 // 0.3304291004138532 // 0.7030300218\n",
      "home : 2 // 0.5144848616859072 // 0.154702798\n",
      "home : 3 // 0.09932476584622087 // 0.09122546518\n",
      "home : 4 // 0.055761272054018735 // 0.03693564104\n",
      "home : 5 // 0.0 // 0.01410607396\n"
     ]
    },
    {
     "data": {
      "image/png": "[encoded data removed]",
      "text/plain": [
       "<Figure size 360x360 with 1 Axes>"
      ]
     },
     "metadata": {
      "needs_background": "light"
     },
     "output_type": "display_data"
    }
   ],
   "source": [
    "#this shows the fitting for frequency\n",
    "results_F=metric_F(results)\n",
    "\n",
    "plt.rcParams[\"figure.figsize\"] = (5,5)\n",
    "\n",
    "for i in results_F[setting].keys():\n",
    "    print (setting,':',i,'//',results_F[setting][i],'//',frequency[setting][i])\n",
    "    plt.plot(i,results_F[setting][i],'+r',linewidth=1, markersize=12,alpha=1)\n",
    "    plt.plot(i,frequency[setting][i],'+b',linewidth=1, markersize=12,alpha=1)\n",
    "\n",
    "plt.show()\n"
   ]
  },
  {
   "cell_type": "raw",
   "metadata": {},
   "source": [
    "#this figure shows evoloution of weights thorough time\n",
    "plt.rcParams[\"figure.figsize\"] = (10,10)\n",
    "\n",
    "for i in nx.edges(results['graph_dict']):\n",
    "    \n",
    "    plt.plot(range(0,D),results['group_count'][i][j],'k.',linewidth=.01, markersize=.5,alpha=.1)\n",
    "plt.xlabel(\"days\")\n",
    "plt.ylabel('weight')\n",
    "plt.show()\n"
   ]
  },
  {
   "cell_type": "raw",
   "metadata": {},
   "source": [
    "weight_final={D-1:[],int(abs(4*D/5)):[],int(abs(3*D/5)):[],int(abs(2*D/5)):[],int(abs(D/5)):[],0:[]}\n",
    "for v in weight_final.keys():\n",
    "    for i in nx.edges(results['graph_dict']):\n",
    "        weight_final[v].append(results['graph_dict'].edges[i,j]['weight'])\n",
    "        \n",
    "for i in (weight_final.keys()):\n",
    "    plt.hist(weight_final[i],bins=20)\n",
    "plt.axis([0,1000,0,100000])\n",
    "plt.xlabel(\"weight\")\n",
    "plt.ylabel('frequency')\n",
    "plt.show()"
   ]
  },
  {
   "cell_type": "raw",
   "metadata": {},
   "source": [
    "plt.rcParams[\"figure.figsize\"] = (5,5)\n",
    "plt.hist(weight_final[D-1],bins=100)\n",
    "plt.axis([0,1000,0,80000])\n",
    "plt.xlabel(\"weight\")\n",
    "plt.ylabel('frequency')\n",
    "plt.show()\n",
    "plt.hist(weight_final[D-1],bins=100)\n",
    "plt.xlabel(\"weight\")\n",
    "plt.ylabel('frequency')\n",
    "plt.axis([0,1000,0,1000])\n",
    "plt.show()"
   ]
  },
  {
   "cell_type": "code",
   "execution_count": 23,
   "metadata": {},
   "outputs": [],
   "source": [
    "def weight_m(results) :   \n",
    "\n",
    "    \n",
    "    graph_dict=results['graph_dict']\n",
    "    group_count=results['group_count']\n",
    "    \n",
    "    weight_m=dict()\n",
    "    \n",
    "\n",
    "    for i in rules[setting].keys():\n",
    "        weight_m[i]=dict()\n",
    "        for j in rules[setting][i].keys():\n",
    "             weight_m[i][j]=0\n",
    "    \n",
    "    for i in graph_dict.keys():\n",
    "            for j in graph_dict[i].keys():\n",
    "                a=group_count[nodes_dic[i]['age']]\n",
    "                b=group_count[nodes_dic[j]['age']]\n",
    "                weight_m[nodes_dic[i]['age']][nodes_dic[j]['age']]+= graph_dict[i][j]/(a*b)\n",
    "    \n",
    "    return(weight_m)\n",
    "                \n",
    "    \n",
    "    "
   ]
  },
  {
   "cell_type": "code",
   "execution_count": 24,
   "metadata": {},
   "outputs": [],
   "source": [
    "W=weight_m(results)"
   ]
  },
  {
   "cell_type": "code",
   "execution_count": 25,
   "metadata": {},
   "outputs": [
    {
     "data": {
      "image/png": "[encoded data removed]",
      "text/plain": [
       "<Figure size 720x720 with 1 Axes>"
      ]
     },
     "metadata": {
      "needs_background": "light"
     },
     "output_type": "display_data"
    }
   ],
   "source": [
    "#this figure shows evoloution of weights thorough time\n",
    "plt.rcParams[\"figure.figsize\"] = (10,10)\n",
    "i1=0\n",
    "j1=0\n",
    "for i in W.keys():\n",
    "    for j in W[i].keys():\n",
    "        b=rules[setting][i][j]\n",
    "        a=results['group_count'][i]\n",
    "        if W[i][j]>3.5:\n",
    "            i1=i\n",
    "            j1=j\n",
    "            \n",
    "        #b=results['group_count'][j]\n",
    "        plt.plot(b,W[i][j],'k.',linewidth=.5, markersize=5,alpha=1)\n",
    "        \n",
    "plt.xlabel(\"b\")\n",
    "plt.ylabel('weight')\n",
    "plt.show()"
   ]
  },
  {
   "cell_type": "code",
   "execution_count": 26,
   "metadata": {},
   "outputs": [
    {
     "name": "stdout",
     "output_type": "stream",
     "text": [
      "83.20265603065491\n"
     ]
    }
   ],
   "source": [
    "print(end-start)"
   ]
  },
  {
   "cell_type": "code",
   "execution_count": 27,
   "metadata": {},
   "outputs": [
    {
     "data": {
      "text/plain": [
       "18520"
      ]
     },
     "execution_count": 27,
     "metadata": {},
     "output_type": "execute_result"
    }
   ],
   "source": [
    "sys.getsizeof(results['graph_dict'])"
   ]
  },
  {
   "cell_type": "code",
   "execution_count": null,
   "metadata": {},
   "outputs": [],
   "source": []
  }
 ],
 "metadata": {
  "kernelspec": {
   "display_name": "Python 3",
   "language": "python",
   "name": "python3"
  },
  "language_info": {
   "codemirror_mode": {
    "name": "ipython",
    "version": 3
   },
   "file_extension": ".py",
   "mimetype": "text/x-python",
   "name": "python",
   "nbconvert_exporter": "python",
   "pygments_lexer": "ipython3",
   "version": "3.8.6"
  }
 },
 "nbformat": 4,
 "nbformat_minor": 4
}
