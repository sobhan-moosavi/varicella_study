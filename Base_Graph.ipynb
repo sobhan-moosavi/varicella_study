{
 "cells": [
  {
   "cell_type": "code",
   "execution_count": 1,
   "metadata": {},
   "outputs": [],
   "source": [
    "import pandas as pd\n",
    "import numpy as np\n",
    "import networkx as nx\n",
    "import csv\n",
    "import random\n",
    "import matplotlib.pyplot as plt\n",
    "import statistics \n",
    "from scipy import stats\n",
    "\n",
    "plt.rcParams[\"figure.figsize\"] = (6,6)\n",
    "\n"
   ]
  },
  {
   "cell_type": "markdown",
   "metadata": {},
   "source": [
    "# THE GRAPH CONTROL PANEL"
   ]
  },
  {
   "cell_type": "code",
   "execution_count": 2,
   "metadata": {},
   "outputs": [],
   "source": [
    "N = 100       # Number of nodes\n",
    "setting='home'    #the setting we are evaluating(home,work,school,other)\n",
    "D=50           #number of days the model runs\n",
    "threshold=.005    #the threshold of a contact to happen\n",
    "increase_rate=.02 #the rate of increasing weight per contact\n",
    "decrease_rate=.02 #the rate of decreasing weight if no contact\n",
    "base_weight=.1    #the presumed weight for initial graph\n",
    "lower_weight=.01  #the minimum weight between two node(Max is =1)\n",
    "threshold_n=1     #threshold of product weight two nodes with same neighbor for increasing weight\n",
    "increse_rate_n=0  #increse rate weight for two nodes with same neighbor"
   ]
  },
  {
   "cell_type": "markdown",
   "metadata": {},
   "source": [
    "## 1-Defining Nodes"
   ]
  },
  {
   "cell_type": "code",
   "execution_count": 3,
   "metadata": {},
   "outputs": [],
   "source": [
    "G = nx.Graph()"
   ]
  },
  {
   "cell_type": "code",
   "execution_count": 4,
   "metadata": {},
   "outputs": [],
   "source": [
    "#defining a dictionary of nodes\n",
    "available_groups  = [] #16_age_groups\n",
    "group_popularity = [] #based on consensus year 95\n",
    "v_prevalence=dict() #based on meta analysis(data is not exact!! update needed!!)contan(age_group,prevalance,lower CL)\n",
    "nodes_dic=dict()\n",
    "\n",
    "with open ('population.csv') as f:\n",
    "    reader=csv.reader(f)\n",
    "    for row in reader:\n",
    "        available_groups.append(row[0])\n",
    "        group_popularity.append(float(row[1]))\n",
    "        \n",
    "with open ('varicella_prevalance.csv') as f:\n",
    "    reader=csv.reader(f)\n",
    "    for row in reader:\n",
    "        v_prevalence[row[0]]=[float(row[1]),float(row[2])]\n",
    "        \n",
    "        \n",
    "\n",
    "\n",
    "for i in range(N):\n",
    "    while True:\n",
    "        r=random.random()\n",
    "        t=random.randint(0,15)\n",
    "        if r<=group_popularity[t]:\n",
    "            nodes_dic[f'n{i+1}']={'age':available_groups[t]}\n",
    "            break\n",
    "\n",
    "\n",
    "for i in range(N):\n",
    "    a=v_prevalence[nodes_dic[f'n{i+1}']['age']][0]\n",
    "    b=v_prevalence[nodes_dic[f'n{i+1}']['age']][1]\n",
    "    r=np.random.random()\n",
    "    t=np.random.normal(a,(a-b)) \n",
    "    if r<=t:\n",
    "        nodes_dic[f'n{i+1}']['infection']=1\n",
    "    else:\n",
    "        nodes_dic[f'n{i+1}']['infection']=0\n",
    "        "
   ]
  },
  {
   "cell_type": "code",
   "execution_count": 5,
   "metadata": {},
   "outputs": [],
   "source": [
    "#importing data for frequency of contact in each setting for comparison\n",
    "frequency=dict()\n",
    "with open ('frequency_contact.csv') as f:\n",
    "    reader=csv.reader(f)\n",
    "    for row in reader:\n",
    "        \n",
    "        frequency[row[0]]=dict()\n",
    "        for i in range(1,6):\n",
    "            frequency[row[0]][i]=float(row[i])"
   ]
  },
  {
   "cell_type": "markdown",
   "metadata": {},
   "source": [
    "### Which `group` each node belongs to?\n",
    "\n",
    "* We  used `Age specific population for Iran` to define probability of each group"
   ]
  },
  {
   "cell_type": "code",
   "execution_count": 6,
   "metadata": {
    "scrolled": true
   },
   "outputs": [
    {
     "data": {
      "text/plain": [
       "{'20_24': 6,\n",
       " '0_4': 10,\n",
       " '25_29': 7,\n",
       " '35_39': 8,\n",
       " '65_69': 4,\n",
       " '45_49': 7,\n",
       " '30_34': 16,\n",
       " '60_64': 3,\n",
       " '75+': 5,\n",
       " '55_59': 2,\n",
       " '15_19': 7,\n",
       " '50_54': 5,\n",
       " '10_14': 4,\n",
       " '40_44': 8,\n",
       " '5_9': 6,\n",
       " '70_74': 2}"
      ]
     },
     "execution_count": 6,
     "metadata": {},
     "output_type": "execute_result"
    }
   ],
   "source": [
    "\n",
    "# let's see the number of nodes in each group:\n",
    "\n",
    "group_count = {}\n",
    "for n in nodes_dic.keys():\n",
    "    \n",
    "    if nodes_dic[n]['age'] in group_count:\n",
    "        group_count[nodes_dic[n]['age']] = group_count[nodes_dic[n]['age']] + 1\n",
    "    else:\n",
    "        group_count[nodes_dic[n]['age']] = 1\n",
    "group_count"
   ]
  },
  {
   "cell_type": "markdown",
   "metadata": {},
   "source": [
    "## 2-Defining Connection Rules between Node Groups\n",
    "\n",
    "### `We define rules in terms of connection probability between each two groups`\n"
   ]
  },
  {
   "cell_type": "code",
   "execution_count": 7,
   "metadata": {},
   "outputs": [],
   "source": [
    "#importing rules from .csv to nested dictionary\n",
    "rules={}  # rules contain ->{location:{contactor:{contactee:contact number}\n",
    "temp_0={}\n",
    "temp_1={}\n",
    "location=[]\n",
    "contactor=[]\n",
    "contactee=[]\n",
    "contact_number=[]\n",
    "\n",
    "\n",
    "with open ('contact_rules.csv') as f:\n",
    "    reader=csv.reader(f)\n",
    "    for row in reader:\n",
    "        \n",
    "        location.append(row[0])\n",
    "        contactor.append(row[1])\n",
    "        contactee.append(row[2])\n",
    "        contact_number.append(float(row[3]))\n",
    "\n",
    "\n",
    "for o in range (0,1280,256):\n",
    "    for m in range(o,o+256,16):\n",
    "        for n in range (m,m+16):\n",
    "            \n",
    "            temp_0[contactee[n]]=contact_number[n]\n",
    "        temp_1[contactor[m]]=temp_0.copy()\n",
    "    rules[location[o]]=temp_1.copy()     "
   ]
  },
  {
   "cell_type": "code",
   "execution_count": 8,
   "metadata": {},
   "outputs": [],
   "source": [
    "\n",
    "#bulding empty dictinary \"contacted\" for storing contacts in single rrun\n",
    "#building empty dictionary for monitoring all contacts during all runs\n",
    "contacted={}\n",
    "contacted_all={}\n",
    "for i in nodes_dic.keys():\n",
    "    contacted[i]={}\n",
    "    contacted_all[i]={}\n",
    "    for j in nodes_dic.keys():\n",
    "        if i!=j:\n",
    "            \n",
    "            contacted[i][j]=0 \n",
    "            contacted_all[i][j]=[]\n"
   ]
  },
  {
   "cell_type": "markdown",
   "metadata": {},
   "source": [
    "## 3- Visualization for `SMALL` graph\n",
    "\n",
    "### ⚠️ Only for SMALL graphs (i.e. noes < 100)"
   ]
  },
  {
   "cell_type": "raw",
   "metadata": {},
   "source": [
    "pos = nx.spring_layout(G)\n",
    "\n",
    "# nodes\n",
    "nx.draw_networkx_nodes(G, pos, node_size=500, node_color='red', alpha=0.7)\n",
    "\n",
    "# edges\n",
    "nx.draw_networkx_edges(G, pos, width=1, alpha=0.2, edge_color=\"b\", style=\"-\")\n",
    "\n",
    "# labels\n",
    "nx.draw_networkx_labels(G, pos, font_size=10, font_family=\"sans-serif\")\n",
    "\n",
    "ax = plt.gca()\n",
    "ax.margins(0.08)\n",
    "plt.axis(\"off\")\n",
    "plt.tight_layout()\n",
    "plt.show()"
   ]
  },
  {
   "cell_type": "markdown",
   "metadata": {},
   "source": [
    "## 4-Defining Rules to Connecting Nodes and Adjusting `Probabilities/Distances`\n",
    "\n",
    "* This would be the step that our Naive graph would evolve over the time through a simulation process\n",
    "* we monitor connection between nodes and update weights based on connections"
   ]
  },
  {
   "cell_type": "code",
   "execution_count": 9,
   "metadata": {},
   "outputs": [],
   "source": [
    "#in this block we've defiend a function \"Run\" \n",
    "def Run(increase_rate,decrease_rate,threshold,threshold_n,increse_rate_n ,base_weight):\n",
    "    \n",
    "    for i in nodes_dic.keys():\n",
    "        for j in nodes_dic.keys():\n",
    "            G.add_edge(i,j,weight=base_weight)\n",
    "            \n",
    "    \n",
    "    for d in range (0,D):#we are running the model for 100 days\n",
    "        #iterating thorough the graph and storing connections in 'contacted'\n",
    "        \n",
    "        for i in nodes_dic.keys():\n",
    "            for j in nodes_dic.keys():\n",
    "                if i!=j:\n",
    "                     #age_p is the number of contact between nodes by age\n",
    "                    age_p=rules[setting][nodes_dic[i]['age']][nodes_dic[j][\"age\"]]\n",
    "                    r=random.random()\n",
    "                    if G[i][j]['weight']*r*age_p > threshold:\n",
    "                        contacted[i][j]=1\n",
    "                        contacted_all[i][j].append(1)#storing contacts of each run in this dic\n",
    "                    else:\n",
    "                        contacted_all[i][j].append(0)\n",
    "        #iterating thorough 'contacted' and updating the weights based on it\n",
    "        for i in nodes_dic.keys():\n",
    "            for j in nodes_dic.keys():\n",
    "                if i!=j:\n",
    "                    if contacted[i][j]==1 and G[i][j]['weight']+increase_rate<1 :\n",
    "                        #we don't want the weight to be 1 or more\n",
    "                        t=G[i][j]['weight']+increase_rate\n",
    "                        G.add_edge(i,j,weight=t)\n",
    "\n",
    "                    elif contacted[i][j]==0 and G[i][j]['weight']-decrease_rate>lower_weight : \n",
    "                        #we don't want the weight to be 0 or less\n",
    "                        t=G[i][j]['weight']-decrease_rate\n",
    "                        G.add_edge(i,j,weight=t)\n",
    "\n",
    "        #updating weight between two nodes with same neighbor\n",
    "        for i in nodes_dic.keys():\n",
    "            for j in nodes_dic.keys():\n",
    "                if i!=j:\n",
    "                    for o in nodes_dic.keys():\n",
    "                        if o!=j and o!=i:\n",
    "\n",
    "                            if (G[i][o]['weight']*G[i][j]['weight'])>threshold_n and G[o][j]['weight']<1:\n",
    "                                t=G[o][j]['weight']+increse_rate_n\n",
    "                                G.add_edge(i,j,weight=t)\n",
    "    return(contacted_all)\n"
   ]
  },
  {
   "cell_type": "markdown",
   "metadata": {},
   "source": [
    "### Visualize the graph after the updates"
   ]
  },
  {
   "cell_type": "raw",
   "metadata": {},
   "source": [
    "pos = nx.spring_layout(G)\n",
    "\n",
    "# nodes\n",
    "nx.draw_networkx_nodes(G, pos, node_size=500, node_color='red', alpha=0.7)\n",
    "\n",
    "# edges\n",
    "nx.draw_networkx_edges(G, pos, width=1, alpha=0.2, edge_color=\"b\", style=\"-\")\n",
    "\n",
    "# labels\n",
    "nx.draw_networkx_labels(G, pos, font_size=10, font_family=\"sans-serif\")\n",
    "\n",
    "ax = plt.gca()\n",
    "ax.margins(0.08)\n",
    "plt.axis(\"off\")\n",
    "plt.tight_layout()\n",
    "plt.show()"
   ]
  },
  {
   "cell_type": "markdown",
   "metadata": {},
   "source": [
    "# 5- Monitroing the graph\n",
    "### we monitor the graph for age specific number of contact per day and frequeny of contact"
   ]
  },
  {
   "cell_type": "code",
   "execution_count": 10,
   "metadata": {},
   "outputs": [],
   "source": [
    "    #this functions returns mean absoloute error 'ages specified number of conatacts'\n",
    "\n",
    "def metric_A(contacted_all):\n",
    "        L1=[]\n",
    "        L2=[]\n",
    "    \n",
    "        rules_m=dict()\n",
    "        rules_m[setting]=dict()\n",
    "\n",
    "        for i in rules[setting].keys():\n",
    "            rules_m[setting][i]=dict()\n",
    "            for j in rules[setting][i].keys():\n",
    "                 rules_m[setting][i][j]=0\n",
    "\n",
    "\n",
    "        for i in nodes_dic.keys():\n",
    "            for j in nodes_dic.keys():\n",
    "                if i!=j:\n",
    "                    t=sum(contacted_all[i][j])/D\n",
    "                    rules_m[setting][nodes_dic[i]['age']][nodes_dic[j]['age']]+=t\n",
    "        \n",
    "        \n",
    "        #for i in rules_m[setting].keys():\n",
    "            #for j in rules_m[setting][i].keys():\n",
    "                \n",
    "                #print(i,j,'model:',rules_m[setting][i][j],'original:',rules[setting][i][j])\n",
    "\n",
    "        for i in rules_m[setting].keys():\n",
    "            for j in rules_m[setting][i].keys():\n",
    "                L1.append(rules[setting][i][j])\n",
    "                L2.append(rules_m[setting][i][j])\n",
    "                \n",
    "        I=stats.wilcoxon(L1,L2, zero_method='wilcox', correction=False, alternative='two-sided', mode='auto')\n",
    "        return(I)"
   ]
  },
  {
   "cell_type": "code",
   "execution_count": 11,
   "metadata": {},
   "outputs": [],
   "source": [
    "#defining a function that returns mean absoloute error 'frequency of contacts ''\n",
    "def metric_F(contacted_all):\n",
    "    n=0\n",
    "    L1=[]\n",
    "    L2=[]\n",
    "    frequency_m=dict()\n",
    "    for i in frequency.keys():\n",
    "        frequency_m[i]={1:0,2:0,3:0,4:0,5:0}\n",
    "\n",
    "    for i in nodes_dic.keys():\n",
    "        for j in nodes_dic.keys():\n",
    "            if i!=j:\n",
    "                t=sum(contacted_all[i][j])/D\n",
    "\n",
    "                if t==1/D:\n",
    "                    frequency_m[setting][5]+=1\n",
    "                    n+=1\n",
    "                elif t>1/D and t<(1/30) :\n",
    "                    frequency_m[setting][4]+=1\n",
    "                    n+=1\n",
    "                elif t>=(1/30) and t<=(2/30):\n",
    "                    frequency_m[setting][3]+=1\n",
    "                    n+=1\n",
    "                elif t>(2/30) and t <(2/7):\n",
    "                    frequency_m[setting][2]+=1\n",
    "                    n+=1\n",
    "                elif t>=(2/7):\n",
    "                    n+=1\n",
    "                    frequency_m[setting][1]+=1\n",
    "\n",
    "    for i in frequency_m[setting].keys():\n",
    "        if n!=0:\n",
    "        \n",
    "            frequency_m[setting][i]=frequency_m[setting][i]/n\n",
    "        if n==0:\n",
    "            \n",
    "            frequency_m[setting][i]=0\n",
    "        \n",
    "            \n",
    "        \n",
    "    \n",
    "    for i in frequency_m[setting].keys():\n",
    "        \n",
    "        L1.append(frequency[setting][i])\n",
    "        L2.append(frequency_m[setting][i])\n",
    "        \n",
    "    \n",
    "    I=stats.wilcoxon(L1,L2, zero_method='wilcox', correction=False, alternative='two-sided', mode='auto')\n",
    "    #print('for the first time:',frequency_m[setting][5],'\\nless than once a month:',frequency_m[setting][4],'\\nabout once or twice a month:',frequency_m[setting][3],'\\nabout once or twice a week',frequency_m[setting][2],'\\ndaily or almost daily',frequency_m[setting][1])\n",
    "\n",
    "    return(I)\n",
    "        \n",
    "\n",
    "\n",
    "   \n",
    "\n"
   ]
  },
  {
   "cell_type": "markdown",
   "metadata": {},
   "source": [
    "# grid-search\n",
    "### this part of code checks different value sets for function Run \n",
    "\n",
    "###### Run(increase_rate,decrease_rate,threshold,threshold_n,increse_rate_n ,base_weight)"
   ]
  },
  {
   "cell_type": "code",
   "execution_count": 16,
   "metadata": {},
   "outputs": [
    {
     "name": "stdout",
     "output_type": "stream",
     "text": [
      "Run\n",
      "0.01 0.01 0.008 1024\n",
      "Metric 0.000000\n",
      "Run\n",
      "0.01 0.01 0.005 1024\n",
      "Metric 0.000000\n",
      "Run\n",
      "0.01 0.01 0.002 1024\n",
      "Metric 0.000000\n",
      "Run\n",
      "0.01 0.02 0.008 1024\n",
      "Metric 0.000000\n",
      "Run\n"
     ]
    },
    {
     "ename": "KeyboardInterrupt",
     "evalue": "",
     "output_type": "error",
     "traceback": [
      "\u001b[0;31m---------------------------------------------------------------------------\u001b[0m",
      "\u001b[0;31mKeyboardInterrupt\u001b[0m                         Traceback (most recent call last)",
      "\u001b[0;32m<ipython-input-16-d923dc3537f2>\u001b[0m in \u001b[0;36m<module>\u001b[0;34m\u001b[0m\n\u001b[1;32m      8\u001b[0m                 \u001b[0mprint\u001b[0m \u001b[0;34m(\u001b[0m\u001b[0;34m\"Run\"\u001b[0m\u001b[0;34m)\u001b[0m\u001b[0;34m\u001b[0m\u001b[0;34m\u001b[0m\u001b[0m\n\u001b[1;32m      9\u001b[0m \u001b[0;34m\u001b[0m\u001b[0m\n\u001b[0;32m---> 10\u001b[0;31m                 \u001b[0mR\u001b[0m\u001b[0;34m=\u001b[0m\u001b[0mRun\u001b[0m\u001b[0;34m(\u001b[0m\u001b[0mi\u001b[0m\u001b[0;34m,\u001b[0m\u001b[0mj\u001b[0m\u001b[0;34m,\u001b[0m\u001b[0mk\u001b[0m\u001b[0;34m,\u001b[0m\u001b[0mthreshold_n\u001b[0m\u001b[0;34m,\u001b[0m\u001b[0mincrese_rate_n\u001b[0m\u001b[0;34m,\u001b[0m\u001b[0mbase_weight\u001b[0m\u001b[0;34m)\u001b[0m\u001b[0;34m\u001b[0m\u001b[0;34m\u001b[0m\u001b[0m\n\u001b[0m\u001b[1;32m     11\u001b[0m \u001b[0;34m\u001b[0m\u001b[0m\n\u001b[1;32m     12\u001b[0m \u001b[0;34m\u001b[0m\u001b[0m\n",
      "\u001b[0;32m<ipython-input-9-6e7f31ec5083>\u001b[0m in \u001b[0;36mRun\u001b[0;34m(increase_rate, decrease_rate, threshold, threshold_n, increse_rate_n, base_weight)\u001b[0m\n\u001b[1;32m     42\u001b[0m                         \u001b[0;32mif\u001b[0m \u001b[0mo\u001b[0m\u001b[0;34m!=\u001b[0m\u001b[0mj\u001b[0m \u001b[0;32mand\u001b[0m \u001b[0mo\u001b[0m\u001b[0;34m!=\u001b[0m\u001b[0mi\u001b[0m\u001b[0;34m:\u001b[0m\u001b[0;34m\u001b[0m\u001b[0;34m\u001b[0m\u001b[0m\n\u001b[1;32m     43\u001b[0m \u001b[0;34m\u001b[0m\u001b[0m\n\u001b[0;32m---> 44\u001b[0;31m                             \u001b[0;32mif\u001b[0m \u001b[0;34m(\u001b[0m\u001b[0mG\u001b[0m\u001b[0;34m[\u001b[0m\u001b[0mi\u001b[0m\u001b[0;34m]\u001b[0m\u001b[0;34m[\u001b[0m\u001b[0mo\u001b[0m\u001b[0;34m]\u001b[0m\u001b[0;34m[\u001b[0m\u001b[0;34m'weight'\u001b[0m\u001b[0;34m]\u001b[0m\u001b[0;34m*\u001b[0m\u001b[0mG\u001b[0m\u001b[0;34m[\u001b[0m\u001b[0mi\u001b[0m\u001b[0;34m]\u001b[0m\u001b[0;34m[\u001b[0m\u001b[0mj\u001b[0m\u001b[0;34m]\u001b[0m\u001b[0;34m[\u001b[0m\u001b[0;34m'weight'\u001b[0m\u001b[0;34m]\u001b[0m\u001b[0;34m)\u001b[0m\u001b[0;34m>\u001b[0m\u001b[0mthreshold_n\u001b[0m \u001b[0;32mand\u001b[0m \u001b[0mG\u001b[0m\u001b[0;34m[\u001b[0m\u001b[0mo\u001b[0m\u001b[0;34m]\u001b[0m\u001b[0;34m[\u001b[0m\u001b[0mj\u001b[0m\u001b[0;34m]\u001b[0m\u001b[0;34m[\u001b[0m\u001b[0;34m'weight'\u001b[0m\u001b[0;34m]\u001b[0m\u001b[0;34m<\u001b[0m\u001b[0;36m1\u001b[0m\u001b[0;34m:\u001b[0m\u001b[0;34m\u001b[0m\u001b[0;34m\u001b[0m\u001b[0m\n\u001b[0m\u001b[1;32m     45\u001b[0m                                 \u001b[0mt\u001b[0m\u001b[0;34m=\u001b[0m\u001b[0mG\u001b[0m\u001b[0;34m[\u001b[0m\u001b[0mo\u001b[0m\u001b[0;34m]\u001b[0m\u001b[0;34m[\u001b[0m\u001b[0mj\u001b[0m\u001b[0;34m]\u001b[0m\u001b[0;34m[\u001b[0m\u001b[0;34m'weight'\u001b[0m\u001b[0;34m]\u001b[0m\u001b[0;34m+\u001b[0m\u001b[0mincrese_rate_n\u001b[0m\u001b[0;34m\u001b[0m\u001b[0;34m\u001b[0m\u001b[0m\n\u001b[1;32m     46\u001b[0m                                 \u001b[0mG\u001b[0m\u001b[0;34m.\u001b[0m\u001b[0madd_edge\u001b[0m\u001b[0;34m(\u001b[0m\u001b[0mi\u001b[0m\u001b[0;34m,\u001b[0m\u001b[0mj\u001b[0m\u001b[0;34m,\u001b[0m\u001b[0mweight\u001b[0m\u001b[0;34m=\u001b[0m\u001b[0mt\u001b[0m\u001b[0;34m)\u001b[0m\u001b[0;34m\u001b[0m\u001b[0;34m\u001b[0m\u001b[0m\n",
      "\u001b[0;32m~/.local/lib/python3.8/site-packages/networkx/classes/graph.py\u001b[0m in \u001b[0;36m__getitem__\u001b[0;34m(self, n)\u001b[0m\n\u001b[1;32m    463\u001b[0m         \u001b[0mAtlasView\u001b[0m\u001b[0;34m(\u001b[0m\u001b[0;34m{\u001b[0m\u001b[0;36m1\u001b[0m\u001b[0;34m:\u001b[0m \u001b[0;34m{\u001b[0m\u001b[0;34m}\u001b[0m\u001b[0;34m}\u001b[0m\u001b[0;34m)\u001b[0m\u001b[0;34m\u001b[0m\u001b[0;34m\u001b[0m\u001b[0m\n\u001b[1;32m    464\u001b[0m         \"\"\"\n\u001b[0;32m--> 465\u001b[0;31m         \u001b[0;32mreturn\u001b[0m \u001b[0mself\u001b[0m\u001b[0;34m.\u001b[0m\u001b[0madj\u001b[0m\u001b[0;34m[\u001b[0m\u001b[0mn\u001b[0m\u001b[0;34m]\u001b[0m\u001b[0;34m\u001b[0m\u001b[0;34m\u001b[0m\u001b[0m\n\u001b[0m\u001b[1;32m    466\u001b[0m \u001b[0;34m\u001b[0m\u001b[0m\n\u001b[1;32m    467\u001b[0m     \u001b[0;32mdef\u001b[0m \u001b[0madd_node\u001b[0m\u001b[0;34m(\u001b[0m\u001b[0mself\u001b[0m\u001b[0;34m,\u001b[0m \u001b[0mnode_for_adding\u001b[0m\u001b[0;34m,\u001b[0m \u001b[0;34m**\u001b[0m\u001b[0mattr\u001b[0m\u001b[0;34m)\u001b[0m\u001b[0;34m:\u001b[0m\u001b[0;34m\u001b[0m\u001b[0;34m\u001b[0m\u001b[0m\n",
      "\u001b[0;32m~/.local/lib/python3.8/site-packages/networkx/classes/coreviews.py\u001b[0m in \u001b[0;36m__getitem__\u001b[0;34m(self, name)\u001b[0m\n\u001b[1;32m     77\u001b[0m \u001b[0;34m\u001b[0m\u001b[0m\n\u001b[1;32m     78\u001b[0m     \u001b[0;32mdef\u001b[0m \u001b[0m__getitem__\u001b[0m\u001b[0;34m(\u001b[0m\u001b[0mself\u001b[0m\u001b[0;34m,\u001b[0m \u001b[0mname\u001b[0m\u001b[0;34m)\u001b[0m\u001b[0;34m:\u001b[0m\u001b[0;34m\u001b[0m\u001b[0;34m\u001b[0m\u001b[0m\n\u001b[0;32m---> 79\u001b[0;31m         \u001b[0;32mreturn\u001b[0m \u001b[0mAtlasView\u001b[0m\u001b[0;34m(\u001b[0m\u001b[0mself\u001b[0m\u001b[0;34m.\u001b[0m\u001b[0m_atlas\u001b[0m\u001b[0;34m[\u001b[0m\u001b[0mname\u001b[0m\u001b[0;34m]\u001b[0m\u001b[0;34m)\u001b[0m\u001b[0;34m\u001b[0m\u001b[0;34m\u001b[0m\u001b[0m\n\u001b[0m\u001b[1;32m     80\u001b[0m \u001b[0;34m\u001b[0m\u001b[0m\n\u001b[1;32m     81\u001b[0m     \u001b[0;32mdef\u001b[0m \u001b[0mcopy\u001b[0m\u001b[0;34m(\u001b[0m\u001b[0mself\u001b[0m\u001b[0;34m)\u001b[0m\u001b[0;34m:\u001b[0m\u001b[0;34m\u001b[0m\u001b[0;34m\u001b[0m\u001b[0m\n",
      "\u001b[0;32m~/.local/lib/python3.8/site-packages/networkx/classes/coreviews.py\u001b[0m in \u001b[0;36m__init__\u001b[0;34m(self, d)\u001b[0m\n\u001b[1;32m     40\u001b[0m \u001b[0;34m\u001b[0m\u001b[0m\n\u001b[1;32m     41\u001b[0m     \u001b[0;32mdef\u001b[0m \u001b[0m__init__\u001b[0m\u001b[0;34m(\u001b[0m\u001b[0mself\u001b[0m\u001b[0;34m,\u001b[0m \u001b[0md\u001b[0m\u001b[0;34m)\u001b[0m\u001b[0;34m:\u001b[0m\u001b[0;34m\u001b[0m\u001b[0;34m\u001b[0m\u001b[0m\n\u001b[0;32m---> 42\u001b[0;31m         \u001b[0mself\u001b[0m\u001b[0;34m.\u001b[0m\u001b[0m_atlas\u001b[0m \u001b[0;34m=\u001b[0m \u001b[0md\u001b[0m\u001b[0;34m\u001b[0m\u001b[0;34m\u001b[0m\u001b[0m\n\u001b[0m\u001b[1;32m     43\u001b[0m \u001b[0;34m\u001b[0m\u001b[0m\n\u001b[1;32m     44\u001b[0m     \u001b[0;32mdef\u001b[0m \u001b[0m__len__\u001b[0m\u001b[0;34m(\u001b[0m\u001b[0mself\u001b[0m\u001b[0;34m)\u001b[0m\u001b[0;34m:\u001b[0m\u001b[0;34m\u001b[0m\u001b[0;34m\u001b[0m\u001b[0m\n",
      "\u001b[0;31mKeyboardInterrupt\u001b[0m: "
     ]
    }
   ],
   "source": [
    "for i in [.01,.02,.03]:\n",
    "    \n",
    "    for j in [.01,.02,.03]:\n",
    "        \n",
    "        for k in [.008,.005,.002]:\n",
    "            \n",
    "            \n",
    "                print (\"Run\")\n",
    "                \n",
    "                R=Run(i,j,k,threshold_n,increse_rate_n,base_weight)\n",
    "                \n",
    "        \n",
    "                print(i,j,k)\n",
    "                print('Metric','%f' % (metric_A(R)[1]))\n",
    "      \n",
    "        "
   ]
  },
  {
   "cell_type": "code",
   "execution_count": null,
   "metadata": {},
   "outputs": [],
   "source": []
  }
 ],
 "metadata": {
  "kernelspec": {
   "display_name": "Python 3",
   "language": "python",
   "name": "python3"
  },
  "language_info": {
   "codemirror_mode": {
    "name": "ipython",
    "version": 3
   },
   "file_extension": ".py",
   "mimetype": "text/x-python",
   "name": "python",
   "nbconvert_exporter": "python",
   "pygments_lexer": "ipython3",
   "version": "3.8.6"
  }
 },
 "nbformat": 4,
 "nbformat_minor": 4
}
