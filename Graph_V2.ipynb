{
 "cells": [
  {
   "cell_type": "code",
   "execution_count": 1,
   "metadata": {
    "colab": {
     "base_uri": "https://localhost:8080/"
    },
    "id": "wWb8vB-Le4x1",
    "outputId": "96425bf3-0ddb-468e-f28c-fa4c6899567a"
   },
   "outputs": [
    {
     "name": "stdout",
     "output_type": "stream",
     "text": [
      "Defaulting to user installation because normal site-packages is not writeable\n",
      "Requirement already satisfied: texttable in /home/msi/.local/lib/python3.8/site-packages (1.6.3)\n",
      "\u001b[33mWARNING: You are using pip version 21.0.1; however, version 21.2.4 is available.\n",
      "You should consider upgrading via the '/usr/bin/python3 -m pip install --upgrade pip' command.\u001b[0m\n"
     ]
    }
   ],
   "source": [
    "import math\n",
    "import pandas as pd\n",
    "import numpy as np\n",
    "import networkx as nx\n",
    "import csv\n",
    "import random\n",
    "import matplotlib.pyplot as plt\n",
    "import statistics \n",
    "from scipy import stats\n",
    "from scipy.spatial import distance\n",
    "import io\n",
    "import time#for recording time \n",
    "import sys #for getting size of object\n",
    "!pip install texttable\n",
    "from texttable import Texttable\n",
    "\n",
    "plt.rcParams[\"figure.figsize\"] = (10,10)"
   ]
  },
  {
   "cell_type": "code",
   "execution_count": 2,
   "metadata": {
    "id": "UDWOqAG-e4x5"
   },
   "outputs": [],
   "source": [
    "random.seed(14)"
   ]
  },
  {
   "cell_type": "markdown",
   "metadata": {
    "id": "3OVEYwv0e4x6"
   },
   "source": [
    "### *Importing files from github for google colab\n"
   ]
  },
  {
   "cell_type": "code",
   "execution_count": 3,
   "metadata": {
    "id": "CDWhb9Sxe4x7"
   },
   "outputs": [],
   "source": [
    "url = 'https://raw.githubusercontent.com/sobhan-moosavi/varicella_study/main/contact_rules.csv'\n",
    "rules_df  = pd.read_csv(url,header=None,engine='python')\n",
    "url2='https://raw.githubusercontent.com/sobhan-moosavi/varicella_study/main/frequency_contact.csv'\n",
    "frequency_df= pd.read_csv(url2,header=None,engine='python')\n",
    "url3='https://raw.githubusercontent.com/sobhan-moosavi/varicella_study/main/varicella_prevalance.csv'\n",
    "V_prevalence_df =pd.read_csv(url3,header=None,engine='python')\n",
    "url4='https://raw.githubusercontent.com/sobhan-moosavi/varicella_study/main/population.csv'\n",
    "population_df=pd.read_csv(url4,header=None,engine='python')\n",
    "url5='https://raw.githubusercontent.com/sobhan-moosavi/varicella_study/main/skewness.csv'\n",
    "skewness_df=pd.read_csv(url5,header=None,engine='python')\n",
    "url6='https://raw.githubusercontent.com/sobhan-moosavi/varicella_study/main/Age_exact.csv'\n",
    "age_exact_df=pd.read_csv(url6,header=0,engine='python')\n",
    "url7='https://raw.githubusercontent.com/sobhan-moosavi/varicella_study/main/mortality.csv'\n",
    "death_rate_df=pd.read_csv(url7,header=0,engine='python')"
   ]
  },
  {
   "cell_type": "markdown",
   "metadata": {
    "id": "eBWkhfuBe4x7"
   },
   "source": [
    "### *importing files from pc\n"
   ]
  },
  {
   "cell_type": "raw",
   "metadata": {
    "id": "i8vf5qJBe4x8"
   },
   "source": [
    "frequency_df = pd.read_csv('frequency_contact.csv',header=None)\n",
    "population_df = pd.read_csv('population.csv',header=None)\n",
    "V_prevalence_df = pd.read_csv('varicella_prevalance.csv',header=None)\n",
    "rules_df = pd.read_csv('contact_rules.csv',header=None)\n",
    "skewness_df=pd.read_csv('skewness.csv',header=None,engine='python')\n",
    "age_exact_df=pd.read_csv('Age_exact.csv',header=0,engine='python')\n",
    "death_rate_df=pd.read_csv('mortality.csv',header=0,engine='python')"
   ]
  },
  {
   "cell_type": "markdown",
   "metadata": {
    "id": "6tNvAKH5e4x9"
   },
   "source": [
    "# THE GRAPH CONTROL PANEL"
   ]
  },
  {
   "cell_type": "code",
   "execution_count": 4,
   "metadata": {
    "id": "hGANna4ne4x9"
   },
   "outputs": [],
   "source": [
    "N =10000# Number of nodes\n",
    "setting='others'#the setting we are evaluating(home,work,school,other)\n",
    "clustering_factor=1 #multiplies chance of connecting with N_of_N\n",
    "clustering=True\n",
    "sampling_ratio=1000 #In how many iterations we calculate metrics\n",
    "skewed = True\n",
    "symetricality=True # if we are using original contact data or transform it to be symetrical \n",
    "birth_rate=14.4/1000 #belongs to year 2019\n",
    "size_assortivity=0  #chance of connection with nodes with same count of contact(0 is off)"
   ]
  },
  {
   "cell_type": "markdown",
   "metadata": {
    "id": "r1jRHY52e4x-"
   },
   "source": [
    "## 1-Defining Nodes"
   ]
  },
  {
   "cell_type": "code",
   "execution_count": 5,
   "metadata": {
    "id": "fw03yaQ4e4x_"
   },
   "outputs": [],
   "source": [
    "#defining a dictionary of nodes\n",
    "\n",
    "group_popularity = dict() #based on consensus year 95\n",
    "v_prevalence=dict() #based on meta analysis(data is not exact!! update needed!!)contan(age_group,prevalance,lower CL)\n",
    "nodes_dic=dict() #dictionary of nodes\n",
    "frequency=dict()\n",
    "death_r=dict()\n",
    "nodes_list=list()\n",
    "\n",
    "\n",
    "for i, row in age_exact_df.iterrows():\n",
    "    group_popularity[row[0]]=float(row[1])\n",
    "    \n",
    "for i, row in death_rate_df.iterrows():\n",
    "    death_r[row[0]]=float(row[3])\n",
    "    \n",
    "for i, row in V_prevalence_df.iterrows():\n",
    "    v_prevalence[row[0]]=[float(row[1]),float(row[2])]\n",
    "    \n",
    "\n",
    "\n",
    "                    \n",
    "for i in range(N):#deciding nodes ages\n",
    "    while True:\n",
    "        r=random.random()\n",
    "        t=random.choice(list(group_popularity.keys()))\n",
    "        if r<=group_popularity[t]:\n",
    "            nodes_list.append([t])\n",
    "            break\n",
    "\n",
    "            \n",
    "death_age_group=[['0_1', 0, 1], [' 1_4 ', 1, 4], [' 5_9 ', 5, 9], [' 10_14 ', 10, 14], [' 15_19  ', 15, 19], [' 20_24 ', 20, 24], [' 25_29 ', 25, 29], [' 30_34 ', 30, 34], [' 35_39 ', 35, 39], [' 40_44 ', 40, 44], [' 45_49 ', 45, 49], [' 50_54 ', 50, 54], [' 55_59 ', 55, 59], [' 60_64 ', 60, 64], [' 65_69 ', 65, 69], [' 70_74 ', 70, 74], [' 75_79 ', 75, 79], [' 80_84 ', 80, 84], ['85_200', 85, 200]]           \n",
    "#changing population by birth and death to update the data\n",
    "dead_nodes=[]\n",
    "for i in range(1):\n",
    "    #counting number of birth\n",
    "    count_birth=int(abs(birth_rate*(len(nodes_list))))\n",
    "    #adding to ages\n",
    "    for j in range(len(nodes_list)):\n",
    "        nodes_list[j][0]+=1\n",
    "    #birth of nodes   \n",
    "    for j in range(count_birth):\n",
    "        nodes_list.append([0])  \n",
    "    #death of nodes\n",
    "    for j in range(len(nodes_list)):\n",
    "        death_age=False\n",
    "        #checking the age of node\n",
    "        for k in death_age_group:\n",
    "            if death_age==False:\n",
    "                if nodes_list[j][0]>=k[1] and nodes_list[j][0]<=k[2]:\n",
    "                    age_bucket=k[0]\n",
    "                    death_age=True\n",
    "                    \n",
    "        r=random.random()\n",
    "        #checking if node dies\n",
    "        if r <= death_r[age_bucket]:\n",
    "            nodes_list[j]='D'\n",
    "    #removing dead nodes from list \n",
    "    while 'D' in nodes_list:\n",
    "        nodes_list.remove('D')\n",
    "        \n",
    "#putting final list to dict        \n",
    "for i in range(len(nodes_list)):\n",
    "    nodes_dic[i]={'age_E':nodes_list[i][0]}\n",
    "                    \n",
    "#putting ages into buckets\n",
    "age_groups=[['0_4', 0, 4],['5_9', 5, 9],['10_14', 10, 14],['15_19', 15, 19],['20_24', 20, 24],['25_29', 25, 29],['30_34', 30, 34],['35_39', 35, 39],['40_44', 40, 44],['45_49', 45, 49],['50_54', 50, 54],['55_59', 55, 59],['60_64', 60, 64],['65_69', 65, 69],['70_74', 70, 74],['75+', 75,200]] \n",
    "for i in nodes_dic.keys():\n",
    "    bucket = False\n",
    "    for j in age_groups :\n",
    "        if bucket== False and nodes_dic[i]['age_E'] <= j[2] and nodes_dic[i]['age_E'] >=j[1]:\n",
    "            nodes_dic[i]['age']=j[0]\n",
    "            bucket=True\n",
    "\n",
    "\n",
    "#for i in range(N):  #deciding nodes seropositivity\n",
    "   # a=v_prevalence[nodes_dic[i]['age']][0]\n",
    "   # b=v_prevalence[nodes_dic[i]['age']][1]\n",
    "   # r=np.random.random()\n",
    "   # t=np.random.normal(a,(a-b)) \n",
    "   # if r<=t:\n",
    "   #     nodes_dic[i]['infection']=1\n",
    "   # else:\n",
    "      #  nodes_dic[i]['infection']=0        "
   ]
  },
  {
   "cell_type": "code",
   "execution_count": 6,
   "metadata": {
    "colab": {
     "base_uri": "https://localhost:8080/",
     "height": 302
    },
    "id": "y3VfbEFqe4yA",
    "outputId": "37cdb5d4-ec51-4c63-d34c-10d140c05e06"
   },
   "outputs": [
    {
     "name": "stdout",
     "output_type": "stream",
     "text": [
      "{'home': {1: [1, 1], 2: [0, 0.21428571428571427], 3: [0, 0.05], 4: [0, 0]}, 'school': {1: [1, 1], 2: [0, 0.21428571428571427], 3: [0, 0.05], 4: [0, 0]}, 'work': {1: [0.4764795144157815, 1], 2: [0.2634181981678188, 0.21428571428571427], 3: [0.1023436182768504, 0.05], 4: [0.1577586691395492, 0]}, 'others': {1: [0.2909137077320242, 1], 2: [0.3001396588937323, 0.21428571428571427], 3: [0.202039866266029, 0.05], 4: [0.2069067671082144, 0]}, 'all': {1: [0.4778502783047385, 1], 2: [0.243021534741187, 0.21428571428571427], 3: [0.1278429819258271, 0.05], 4: [0.15128520502824738, 0]}}\n"
     ]
    },
    {
     "data": {
      "image/png": "[encoded data removed]",
      "text/plain": [
       "<Figure size 720x720 with 1 Axes>"
      ]
     },
     "metadata": {
      "needs_background": "light"
     },
     "output_type": "display_data"
    }
   ],
   "source": [
    "#importing data for frequency of contact in each setting for comparison\n",
    "frequency=dict()\n",
    "frequency_factor=dict()\n",
    "frequency_raw=dict()\n",
    "for i, row in frequency_df.iterrows():\n",
    "    frequency_raw[row[0]]=dict()\n",
    "    for i in range(1,6):\n",
    "        frequency_raw[row[0]][i]=float(row[i])\n",
    "        \n",
    "\n",
    " #daily 1 ,weekly 2,monthly 3,random 4       \n",
    "for i in frequency_raw.keys():\n",
    "    frequency[i]=dict()\n",
    "    if i in ['work','others','all']:\n",
    "        frequency[i][1]=[frequency_raw[i][1],1]\n",
    "        frequency[i][2]=[frequency_raw[i][2],1.5/7]\n",
    "        frequency[i][3]=[frequency_raw[i][3],1.5/30]\n",
    "        frequency[i][4]=[frequency_raw[i][4]+frequency_raw[i][5],0]\n",
    "    #setting frequency for home,and school to daily for all contacts   \n",
    "    if i in ['school','home']:\n",
    "        frequency[i][1]=[1,1]\n",
    "        frequency[i][2]=[0,1.5/7]\n",
    "        frequency[i][3]=[0,1.5/30]\n",
    "        frequency[i][4]=[0,0]\n",
    "    \n",
    "    \n",
    "for i in frequency.keys():\n",
    "    frequency_factor[i]=0\n",
    "    for j in [1,2,3]:   \n",
    "        frequency_factor[i]+=frequency[i][j][0]*(1/frequency[i][j][1])\n",
    "                \n",
    "colors={'home':'g+','school':'k+','work':'b+','others':'r+','all':'y+'}       \n",
    "for i in frequency_raw.keys():\n",
    "    for j in frequency_raw[i].keys():\n",
    "        plt.plot(j,frequency_raw[i][j],colors[i],linewidth=2, markersize=10,alpha=1)\n",
    "        \n",
    "print(frequency)"
   ]
  },
  {
   "cell_type": "markdown",
   "metadata": {
    "id": "7_FS11Fce4yC"
   },
   "source": [
    "### Which `group` each node belongs to?\n",
    "\n",
    "* We  used `Age specific population for Iran` to define probability of each group"
   ]
  },
  {
   "cell_type": "code",
   "execution_count": 7,
   "metadata": {
    "colab": {
     "base_uri": "https://localhost:8080/"
    },
    "id": "aPROfKVWe4yC",
    "outputId": "67c3382b-aaee-4515-b051-08328730704f",
    "scrolled": false
   },
   "outputs": [
    {
     "data": {
      "text/plain": [
       "{'5_9': 798,\n",
       " '75+': 223,\n",
       " '30_34': 1079,\n",
       " '25_29': 991,\n",
       " '50_54': 474,\n",
       " '0_4': 870,\n",
       " '15_19': 702,\n",
       " '35_39': 946,\n",
       " '10_14': 726,\n",
       " '45_49': 613,\n",
       " '55_59': 417,\n",
       " '20_24': 793,\n",
       " '40_44': 711,\n",
       " '60_64': 321,\n",
       " '65_69': 253,\n",
       " '70_74': 151}"
      ]
     },
     "execution_count": 7,
     "metadata": {},
     "output_type": "execute_result"
    }
   ],
   "source": [
    "\n",
    "# the number of nodes in each group:\n",
    "\n",
    "age_count = {}\n",
    "for n in nodes_dic.keys():\n",
    "    if nodes_dic[n]['age'] in age_count:\n",
    "        age_count[nodes_dic[n]['age']] = age_count[nodes_dic[n]['age']] + 1\n",
    "    else:\n",
    "        age_count[nodes_dic[n]['age']] = 1\n",
    "age_count"
   ]
  },
  {
   "cell_type": "markdown",
   "metadata": {
    "id": "CYDSlv2ee4yD"
   },
   "source": [
    "## 2-Defining Connection Rules between Node Groups\n",
    "\n",
    "### `We define rules in terms of connection probability between each two groups`\n"
   ]
  },
  {
   "cell_type": "code",
   "execution_count": 8,
   "metadata": {
    "id": "r79Hu1Wwe4yD"
   },
   "outputs": [],
   "source": [
    "#importing rules_data from .csv to nested dictionary\n",
    "rules_data={}  # rules_data contain ->{location:{contactor:{contactee:contact number}\n",
    "temp_0={}\n",
    "temp_1={}\n",
    "location=[]\n",
    "contactor=[]\n",
    "contactee=[]\n",
    "contact_number=[]\n",
    "\n",
    "for i, row in rules_df.iterrows():\n",
    "    \n",
    "    location.append(row[0])\n",
    "    contactor.append(row[1])\n",
    "    contactee.append(row[2])\n",
    "    contact_number.append(float(row[3]))\n",
    "\n",
    "for o in range (0,1280,256):\n",
    "    for m in range(o,o+256,16):\n",
    "        for n in range (m,m+16):\n",
    "            \n",
    "            temp_0[contactee[n]]=contact_number[n]\n",
    "        temp_1[contactor[m]]=temp_0.copy()\n",
    "    rules_data[location[o]]=temp_1.copy()     "
   ]
  },
  {
   "cell_type": "code",
   "execution_count": 9,
   "metadata": {
    "id": "Seli8TAke4yE"
   },
   "outputs": [],
   "source": [
    "#transforming rules_data to rules so it will be symetrical\n",
    "#It should be symetrical for building undirected graph\n",
    "\n",
    "rules=dict()\n",
    "\n",
    "if symetricality == False :\n",
    "    \n",
    "    rules=rules_data\n",
    "\n",
    "else:\n",
    "\n",
    "    for i in rules_data.keys():\n",
    "        rules[i]=dict()\n",
    "        for j in rules_data[i].keys():\n",
    "            rules[i][j]=dict() \n",
    "            for k in rules_data[i][j].keys():\n",
    "\n",
    "                total_j_k_contact=(rules_data[i][j][k]*age_count[j])+(rules_data[i][k][j]*age_count[k])\n",
    "                rules[i][j][k]=(total_j_k_contact/2)/age_count[j]"
   ]
  },
  {
   "cell_type": "code",
   "execution_count": 10,
   "metadata": {
    "colab": {
     "base_uri": "https://localhost:8080/"
    },
    "id": "wWGyZlgAe4yE",
    "outputId": "bae33f9f-1749-40a8-f0d4-8d8db35f2bcb"
   },
   "outputs": [
    {
     "name": "stdout",
     "output_type": "stream",
     "text": [
      "setting   age   contact_t   connecti   conectio   conectio   conectio   connecti\n",
      "                  otal      on_total     n 1        n 2        n 3        on 4  \n",
      "================================================================================\n",
      "  all     0_4   10.496591   43.75829   5.015799   11.90418   26.83831   1.587979\n",
      "                               8                     9          0               \n",
      "================================================================================\n",
      "  all     5_9   18.397450   76.69547   8.791226   20.86455   47.03969   2.783262\n",
      "                               9                     7          6               \n",
      "================================================================================\n",
      "  all     10_   21.679136   90.37620   10.35938   24.58631   55.43050   3.279733\n",
      "          14                   7          1          9          7               \n",
      "================================================================================\n",
      "  all     15_   19.026552   79.31808   9.091843   21.57802   48.64822   2.878436\n",
      "          19                   9                     2          3               \n",
      "================================================================================\n",
      "  all     20_   12.232817   50.99629   5.845455   13.87324   31.27759   1.850644\n",
      "          24                   5                     4          6               \n",
      "================================================================================\n",
      "  all     25_   11.992123   49.99288   5.730439   13.60027   30.66217   1.814231\n",
      "          29                   5                     2          4               \n",
      "================================================================================\n",
      "  all     30_   12.819065   53.44025   6.125594   14.53810   32.77655   1.939335\n",
      "          34                   1                     8          0               \n",
      "================================================================================\n",
      "  all     35_   13.793542   57.50266   6.591248   15.64326   35.26815   2.086759\n",
      "          39                   0                     3          0               \n",
      "================================================================================\n",
      "  all     40_   13.612127   56.74637   6.504559   15.43752   34.80429   2.059313\n",
      "          44                   7                     0          8               \n",
      "================================================================================\n",
      "  all     45_   11.111657   46.32239   5.309708   12.60173   28.41094   1.681029\n",
      "          49                   1                     6          7               \n",
      "================================================================================\n",
      "  all     50_   11.447158   47.72102   5.470027   12.98222   29.26877   1.731786\n",
      "          54                   9                     7          5               \n",
      "================================================================================\n",
      "  all     55_   9.590198    39.97971   4.582679   10.87624   24.52079   1.450855\n",
      "          59                   9                     9          1               \n",
      "================================================================================\n",
      "  all     60_   9.008672    37.55544   4.304796   10.21673   23.03391   1.362879\n",
      "          64                   5                     9          0               \n",
      "================================================================================\n",
      "  all     65_   7.456233    31.08362   3.562963   8.456117   19.06454   1.128018\n",
      "          69                   0                                0               \n",
      "================================================================================\n",
      "  all     70_   6.843447    28.52903   3.270143   7.761157   17.49773   1.035312\n",
      "          74                   4                                4               \n",
      "================================================================================\n",
      "  all     75+   3.205470    13.36299   1.531735   3.635326   8.195938   0.484940\n",
      "                               9                                                \n",
      "================================================================================\n",
      " home     0_4   5.329782    17.09457   3.762923   3.894608   9.437046   0.260447\n",
      "                               7                                                \n",
      "================================================================================\n",
      " home     5_9   6.048272    19.39904   4.270190   4.419627   10.70922   0.295558\n",
      "                               1                                3               \n",
      "================================================================================\n",
      " home     10_   5.675584    18.20369   4.007066   4.147294   10.04933   0.277346\n",
      "          14                   2                                2               \n",
      "================================================================================\n",
      " home     15_   4.356304    13.97227   3.075630   3.183263   7.713382   0.212877\n",
      "          19                   5                                                \n",
      "================================================================================\n",
      " home     20_   3.070767    9.849085   2.168018   2.243888   5.437179   0.150057\n",
      "          24                                                                    \n",
      "================================================================================\n",
      " home     25_   3.062508    9.822594   2.162187   2.237853   5.422555   0.149654\n",
      "          29                                                                    \n",
      "================================================================================\n",
      " home     30_   3.653431    11.71790   2.579389   2.669656   6.468858   0.178530\n",
      "          34                   3                                                \n",
      "================================================================================\n",
      " home     35_   4.198723    13.46685   2.964375   3.068114   7.434366   0.205177\n",
      "          39                   5                                                \n",
      "================================================================================\n",
      " home     40_   3.840053    12.31646   2.711147   2.806025   6.799295   0.187650\n",
      "          44                   7                                                \n",
      "================================================================================\n",
      " home     45_   3.179579    10.19808   2.244841   2.323400   5.629843   0.155375\n",
      "          49                   3                                                \n",
      "================================================================================\n",
      " home     50_   3.475574    11.14744   2.453818   2.539690   6.153939   0.169839\n",
      "          54                   8                                                \n",
      "================================================================================\n",
      " home     55_   3.441234    11.03730   2.429574   2.514597   6.093136   0.168161\n",
      "          59                   7                                                \n",
      "================================================================================\n",
      " home     60_   3.672091    11.77775   2.592563   2.683291   6.501897   0.179442\n",
      "          64                   1                                                \n",
      "================================================================================\n",
      " home     65_   3.249702    10.42299   2.294349   2.374640   5.754005   0.158801\n",
      "          69                   4                                                \n",
      "================================================================================\n",
      " home     70_   2.467165    7.913108   1.741863   1.802820   4.368424   0.120562\n",
      "          74                                                                    \n",
      "================================================================================\n",
      " home     75+   1.317449    4.225546   0.930143   0.962694   2.332709   0.064379\n",
      "================================================================================\n",
      "others    0_4   4.580406    26.25655   1.332503   6.415554   18.50849   0.947717\n",
      "                               0                                3               \n",
      "================================================================================\n",
      "others    5_9   5.199512    29.80548   1.512609   7.282706   21.01017   1.075814\n",
      "                               9                                4               \n",
      "================================================================================\n",
      "others    10_   6.407542    36.73035   1.864042   8.974735   25.89157   1.325764\n",
      "          14                   6                                9               \n",
      "================================================================================\n",
      "others    15_   7.438104    42.63790   2.163846   10.41819   30.05587   1.538994\n",
      "          19                   9                     3          0               \n",
      "================================================================================\n",
      "others    20_   7.021247    40.24833   2.042577   9.834321   28.37143   1.452743\n",
      "          24                   4                                5               \n",
      "================================================================================\n",
      "others    25_   6.341785    36.35341   1.844912   8.882632   25.62586   1.312158\n",
      "          29                   1                                7               \n",
      "================================================================================\n",
      "others    30_   6.569416    37.65827   1.911133   9.201464   26.54567   1.359257\n",
      "          34                   4                                7               \n",
      "================================================================================\n",
      "others    35_   6.648541    38.11184   1.934152   9.312290   26.86540   1.375628\n",
      "          39                   8                                6               \n",
      "================================================================================\n",
      "others    40_   6.242005    35.78143   1.815885   8.742875   25.22267   1.291513\n",
      "          44                   6                                6               \n",
      "================================================================================\n",
      "others    45_   4.907573    28.13199   1.427680   6.873801   19.83050   1.015410\n",
      "          49                   1                                9               \n",
      "================================================================================\n",
      "others    50_   5.191493    29.75951   1.510276   7.271473   20.97776   1.074155\n",
      "          54                   9                                9               \n",
      "================================================================================\n",
      "others    55_   4.530772    25.97203   1.318064   6.346034   18.30793   0.937447\n",
      "          59                   0                                3               \n",
      "================================================================================\n",
      "others    60_   4.483438    25.70069   1.304294   6.279736   18.11666   0.927654\n",
      "          64                   5                                5               \n",
      "================================================================================\n",
      "others    65_   3.902296    22.36937   1.135231   5.465757   15.76838   0.807411\n",
      "          69                   5                                7               \n",
      "================================================================================\n",
      "others    70_   4.341146    24.88502   1.262899   6.080434   17.54169   0.898213\n",
      "          74                   4                                2               \n",
      "================================================================================\n",
      "others    75+   1.868618    10.71159   0.543607   2.617284   7.550708   0.386630\n",
      "                               8                                                \n",
      "================================================================================\n",
      "school    0_4   0.586403    1.372304   0.420891   0.636948   0.314464   0.013300\n",
      "================================================================================\n",
      "school    5_9   7.149666    16.73168   5.131677   7.765931   3.834072   0.162157\n",
      "                               1                                                \n",
      "================================================================================\n",
      "school    10_   9.596010    22.45662   6.887543   10.42313   5.145947   0.217640\n",
      "          14                   7                     8                          \n",
      "================================================================================\n",
      "school    15_   6.967130    16.30451   5.000662   7.567662   3.736186   0.158017\n",
      "          19                   0                                                \n",
      "================================================================================\n",
      "school    20_   0.686067    1.605536   0.492425   0.745202   0.367909   0.015560\n",
      "          24                                                                    \n",
      "================================================================================\n",
      "school    25_   0.056626    0.132517   0.040644   0.061507   0.030366   0.001284\n",
      "          29                                                                    \n",
      "================================================================================\n",
      "school    30_   0.068672    0.160708   0.049290   0.074592   0.036826   0.001558\n",
      "          34                                                                    \n",
      "================================================================================\n",
      "school    35_   0.059836    0.140029   0.042947   0.064994   0.032088   0.001357\n",
      "          39                                                                    \n",
      "================================================================================\n",
      "school    40_   0.081160    0.189932   0.058253   0.088156   0.043523   0.001841\n",
      "          44                                                                    \n",
      "================================================================================\n",
      "school    45_   0.111495    0.260922   0.080026   0.121106   0.059790   0.002529\n",
      "          49                                                                    \n",
      "================================================================================\n",
      "school    50_   0.178599    0.417959   0.128190   0.193994   0.095775   0.004051\n",
      "          54                                                                    \n",
      "================================================================================\n",
      "school    55_   0.140833    0.329577   0.101083   0.152972   0.075523   0.003194\n",
      "          59                                                                    \n",
      "================================================================================\n",
      "school    60_   0.054743    0.128110   0.039292   0.059462   0.029357   0.001242\n",
      "          64                                                                    \n",
      "================================================================================\n",
      "school    65_   0.021672    0.050717   0.015555   0.023540   0.011622   0.000492\n",
      "          69                                                                    \n",
      "================================================================================\n",
      "school    70_   0.018046    0.042231   0.012953   0.019602   0.009677   0.000409\n",
      "          74                                                                    \n",
      "================================================================================\n",
      "school    75+   0.007222    0.016901   0.005184   0.007845   0.003873   0.000164\n",
      "================================================================================\n",
      " work     0_4   0.000000    0.000000   0.000000   0.000000   0.000000   0.000000\n",
      "================================================================================\n",
      " work     5_9   0.000000    0.000000   0.000000   0.000000   0.000000   0.000000\n",
      "================================================================================\n",
      " work     10_   0.000000    0.000000   0.000000   0.000000   0.000000   0.000000\n",
      "          14                                                                    \n",
      "================================================================================\n",
      " work     15_   0.265014    0.994503   0.126274   0.325778   0.542451   0.041808\n",
      "          19                                                                    \n",
      "================================================================================\n",
      " work     20_   1.454736    5.459097   0.693152   1.788285   2.977659   0.229497\n",
      "          24                                                                    \n",
      "================================================================================\n",
      " work     25_   2.531203    9.498686   1.206066   3.111570   5.181050   0.399319\n",
      "          29                                                                    \n",
      "================================================================================\n",
      " work     30_   2.527545    9.484960   1.204324   3.107073   5.173563   0.398742\n",
      "          34                                                                    \n",
      "================================================================================\n",
      " work     35_   2.886442    10.83176   1.375330   3.548259   5.908178   0.455361\n",
      "          39                   7                                                \n",
      "================================================================================\n",
      " work     40_   3.448909    12.94250   1.643334   4.239692   7.059476   0.544095\n",
      "          44                   2                                                \n",
      "================================================================================\n",
      " work     45_   2.913010    10.93146   1.387989   3.580919   5.962559   0.459553\n",
      "          49                   7                                                \n",
      "================================================================================\n",
      " work     50_   2.601492    9.762455   1.239558   3.197975   5.324922   0.410408\n",
      "          54                                                                    \n",
      "================================================================================\n",
      " work     55_   1.477360    5.543994   0.703932   1.816096   3.023967   0.233066\n",
      "          59                                                                    \n",
      "================================================================================\n",
      " work     60_   0.798399    2.996103   0.380421   0.981460   1.634222   0.125954\n",
      "          64                                                                    \n",
      "================================================================================\n",
      " work     65_   0.282562    1.060354   0.134635   0.347350   0.578369   0.044577\n",
      "          69                                                                    \n",
      "================================================================================\n",
      " work     70_   0.017090    0.064134   0.008143   0.021009   0.034982   0.002696\n",
      "          74                                                                    \n",
      "================================================================================\n",
      " work     75+   0.012181    0.045710   0.005804   0.014974   0.024933   0.001922\n",
      "================================================================================\n"
     ]
    }
   ],
   "source": [
    "#claculating how many contact a person has with all age groups in the setting\n",
    "#calculating how many 'connectons' is required for the contacts with specific frequency\n",
    "rules_sum=dict()\n",
    "for i in rules.keys():\n",
    "    rules_sum[i]=dict()\n",
    "    for j in rules[i].keys():\n",
    "        t=0\n",
    "        rules_sum[i][j]={'contact_total':0,1:0,2:0,3:0}\n",
    "        for k in rules[i][j]:\n",
    "            t+=rules[i][j][k]\n",
    "    \n",
    "        rules_sum[i][j]['contact_total']=t\n",
    "        rules_sum[i][j][1]=t*frequency_raw[i][1]\n",
    "        rules_sum[i][j][2]=t*frequency_raw[i][2]*(7/1.5)\n",
    "        rules_sum[i][j][3]=t*frequency_raw[i][3]*(30/1.5)\n",
    "        #number of 'contacts' with random probability\n",
    "        rules_sum[i][j][4]=t*(frequency_raw[i][4]+frequency_raw[i][5])\n",
    "        rules_sum[i][j]['connection_total']=rules_sum[i][j][1]+rules_sum[i][j][2]+rules_sum[i][j][3]\n",
    "        \n",
    "        \n",
    "#a dictionary of weight/upper_weight ratio for each frequency set       \n",
    "frequency_grouped={1:1,2:(1.5/7),3:(1.5/30),4:0}\n",
    "\n",
    "table=Texttable()\n",
    "table.set_deco(Texttable.HEADER)\n",
    "table.add_rows([['setting','age','contact_total','connection_total','conection 1','conection 2' ,'conection 3','connection 4']],header=True)      \n",
    "print(table.draw())\n",
    "for i in rules_sum.keys():\n",
    "    for j in rules_sum[i].keys():\n",
    "        \n",
    "        table.add_rows([[i,j,'%f' % rules_sum[i][j]['contact_total'],'%f' % rules_sum[i][j]['connection_total'],'%f' % rules_sum[i][j][1],'%f' % rules_sum[i][j][2],'%f' % rules_sum[i][j][3],'%f' % rules_sum[i][j][4]]],header=True)\n",
    "        \n",
    "        print(table.draw())"
   ]
  },
  {
   "cell_type": "code",
   "execution_count": 11,
   "metadata": {
    "id": "sQnEr8rXe4yE"
   },
   "outputs": [],
   "source": [
    "#importing skewness of distribution of number of contacts for each age in each setting \n",
    "skewness={'home':{},'school':{},'work':{},'others':{}}\n",
    "\n",
    "for i, row in skewness_df.iterrows():   \n",
    "    skewness[row[0]][row[1]]={'skw':0,'loc':0,'scale':0}\n",
    "    skewness[row[0]][row[1]]['skw']=row[2] \n",
    "    skewness[row[0]][row[1]]['loc']=row[3]\n",
    "    skewness[row[0]][row[1]]['scale']=row[4]"
   ]
  },
  {
   "cell_type": "code",
   "execution_count": 12,
   "metadata": {
    "colab": {
     "base_uri": "https://localhost:8080/"
    },
    "id": "sY4MFI9Je4yF",
    "outputId": "a427f89f-595b-43c2-b397-64fda2a9aa6f"
   },
   "outputs": [
    {
     "name": "stdout",
     "output_type": "stream",
     "text": [
      "Done\n"
     ]
    }
   ],
   "source": [
    "#distrrbution is used for building synthetic distribuiton of number of contacts based on skewness data\n",
    "\n",
    "distribution={'home':{},'school':{},'work':{},'others':{}}\n",
    "for s in skewness.keys():\n",
    "    for a in skewness[s].keys():\n",
    "        \n",
    "        mean_data=rules_sum[s][a]['contact_total']\n",
    "            \n",
    "        scale=skewness[s][a]['scale']\n",
    "        distribution_model=stats.skewnorm.rvs(skewness[s][a]['skw'], loc=skewness[s][a]['loc'], scale=scale, size=1000, random_state=None)\n",
    "          \n",
    "        mean_model=statistics.mean(distribution_model)\n",
    "        \n",
    "        if mean_data==0 :\n",
    "            \n",
    "            distribution_model=[0]    \n",
    "            distribution[s][a]=distribution_model\n",
    "             \n",
    "                \n",
    "        elif mean_data !=0:\n",
    "            \n",
    "            #grid search for finding optimum 'scale'\n",
    "            x=0\n",
    "            while abs(mean_model-mean_data) > .01 :\n",
    "\n",
    "\n",
    "                if mean_model - mean_data > 0 :\n",
    "                    scale-=.01\n",
    "                elif mean_model - mean_data < 0:\n",
    "                    scale+=.01\n",
    "                x+=1\n",
    "\n",
    "                distribution_model=stats.skewnorm.rvs(skewness[s][a]['skw'], loc=skewness[s][a]['loc'], scale=scale, size=1000, random_state=None)\n",
    "                #rounding the values in distribution\n",
    "                n=0\n",
    "                for i in distribution_model:\n",
    "\n",
    "                    distribution_model[n]=round(i)\n",
    "                    n+=1\n",
    "                mean_model=statistics.mean(distribution_model)\n",
    "            \n",
    "            distribution[s][a]=distribution_model\n",
    "\n",
    "print('Done')\n"
   ]
  },
  {
   "cell_type": "markdown",
   "metadata": {
    "id": "_84k9dhfe4yF"
   },
   "source": [
    "## 3-Defining Functions\n",
    "\n"
   ]
  },
  {
   "cell_type": "markdown",
   "metadata": {
    "id": "NCYh8yYZe4yG"
   },
   "source": [
    "### 3-1 function run : builds the graph based on rules of connections"
   ]
  },
  {
   "cell_type": "code",
   "execution_count": 13,
   "metadata": {
    "id": "e8a6g8Cke4yG"
   },
   "outputs": [],
   "source": [
    "#in this block we've defiend a function \"Run\" \n",
    "def Run(nodes_dic,age_count,frequency_grouped,size_assortivity):\n",
    "    \n",
    "    #building the array based on nodes_dic\n",
    "    #graph_array=[N * [[connecetions],number of the node,number of connections]\n",
    "    graph_array=[]\n",
    "    for i in nodes_dic.keys():\n",
    "        Age_i=nodes_dic[i]['age']\n",
    "        #determining number of conections based on number of contacts\n",
    "        # if skewness is considered or not\n",
    "        if skewed == True :\n",
    "            Num_contact = random.choice(distribution[setting][Age_i])\n",
    "        elif skewed == False :\n",
    "            Num_contact=np.random.poisson(lam=rules_sum[setting][Age_i]['contact_total'])\n",
    "        Num_connection=round(Num_contact*frequency_factor[setting])\n",
    "       \n",
    "                \n",
    "        \n",
    "        graph_array.append([[],[],i,Num_connection,Num_contact])\n",
    " \n",
    "    #making a dictionary that consists of lists of nodes in each age group\n",
    "    nodes_age_grouped=dict() \n",
    "    for i in nodes_dic.keys():     \n",
    "        if nodes_dic[i]['age'] in nodes_age_grouped:\n",
    "            nodes_age_grouped[nodes_dic[i]['age']].append(i)    \n",
    "        else:\n",
    "            nodes_age_grouped[nodes_dic[i]['age']]=[i]\n",
    "            \n",
    "            \n",
    "    #for storing metrics during run\n",
    "    samples_T={'p-value wilcoxon': [], 'mean absoloute error': [], 'Manhattan distance': [], 'Euclidean distance': [], 'Chebyshev distance': []}\n",
    "    \n",
    "    \n",
    "                            \n",
    "    #for calculating sampling_ratio               \n",
    "    sampling_counter=0                                       \n",
    "    #building complete graph\n",
    "    print('building complete graph ...')\n",
    "    for contactor in nodes_dic.keys():\n",
    "        \n",
    "        #taking a picture of graph for monitoring it's evoloution\n",
    "        sampling_counter+=1\n",
    "        \n",
    "        if sampling_counter == sampling_ratio :\n",
    "            \n",
    "            sampling_counter=0\n",
    "            #calculating metrics for graph at the moment\n",
    "            samples=sampling(N,graph_array,age_count,rules)\n",
    "            #storing the metrics\n",
    "            for metric in samples_T.keys():\n",
    "                samples_T[metric].append(samples[metric])\n",
    "            \n",
    "        Age_contactor=nodes_dic[contactor]['age']\n",
    "        \n",
    "        #claculating remaining number of connections to build       \n",
    "        counter = graph_array[contactor][3]-len(graph_array[contactor][0])\n",
    "        \n",
    "        dead_end=False #for checking if there is not enough empty spots to connect this node\n",
    "        #completing graph \n",
    "        \n",
    "        #building primary list of N_of_N\n",
    "        N_of_N=list()\n",
    "        \n",
    "        for j in graph_array[contactor][0]:\n",
    "\n",
    "            for k in graph_array[j][0]:\n",
    "                \n",
    "                if k!=contactor and k not in graph_array[contactor][0]:\n",
    "                    \n",
    "                    N_of_N.append(k)\n",
    "\n",
    "        N_of_N=list(set(N_of_N))\n",
    "                \n",
    "        while counter > 0 and not dead_end :\n",
    "            \n",
    "            #connecting to N_of_N and making triangels\n",
    "            if clustering :\n",
    "                \n",
    "                #for i in range(clustering_factor):\n",
    "\n",
    "                #iterating in N_of_N to make connections\n",
    "                for contactee in N_of_N :\n",
    "\n",
    "                    if counter > 0 :\n",
    "\n",
    "                        Age_C=nodes_dic[contactee]['age']\n",
    "                        prob_connection=rules[setting][Age_contactor][Age_C]/(rules_sum[setting][Age_contactor]['contact_total']*age_count[Age_C])\n",
    "                        r=random.random()\n",
    "                        #checking if contactee has free capacity\n",
    "                        if len(graph_array[contactee][0]) < graph_array[contactee][3]:\n",
    "                            if r <= (prob_connection**(1/clustering_factor)) and contactee not in graph_array[contactor][0]:\n",
    "\n",
    "                                    counter-=1\n",
    "\n",
    "                                    graph_array[contactor][0].append(contactee)\n",
    "                                    graph_array[contactee][0].append(contactor)\n",
    "\n",
    "                                    #updating N_of_N based on the new node\n",
    "                                    for l in graph_array[contactee][0]:\n",
    "                                        if l != contactor and l not in graph_array[contactor][0]:\n",
    "                                            N_of_N.append(l)\n",
    "              \n",
    "                        \n",
    "                                        \n",
    "            \n",
    "            #making random connections if N_of_N doesn't have enouhg nodes\n",
    "            if counter > 0:\n",
    "                \n",
    "                counter_null_iteration=0#counts number of iterations that fail to form connection\n",
    "                random_connection =False\n",
    "                while random_connection == False and not dead_end :\n",
    "                    \n",
    "                    #deciding age of connection\n",
    "                    Age_C=random.choice(list(nodes_age_grouped.keys()))\n",
    "                    r=random.random()\n",
    "                    prob_connection=rules[setting][Age_contactor][Age_C]/(rules_sum[setting][Age_contactor]['contact_total'])\n",
    "                    \n",
    "                    \n",
    "                    if r <= prob_connection:\n",
    "                        #deciding a random node from the chosen age group to make connection\n",
    "\n",
    "                        contactee= random.choice(list(nodes_age_grouped[Age_C]))\n",
    "                        counter_null_iteration+=1\n",
    "                            \n",
    "                        #checking contactee for capacity of new connections\n",
    "                        if len(graph_array[contactee][0]) < graph_array[contactee][3]:\n",
    "                            \n",
    "                            #optimizing probability of contact based on number of connections of each node\n",
    "                            if graph_array[contactee][3]-graph_array[contactor][3]<0:\n",
    "                                size_prob=graph_array[contactee][3]/graph_array[contactor][3]\n",
    "                                \n",
    "                            else:\n",
    "                                size_prob=graph_array[contactor][3]/graph_array[contactee][3]\n",
    "                \n",
    "                            r=random.random()\n",
    "\n",
    "                            if r < size_prob**size_assortivity:\n",
    "                            \n",
    "                                if contactee not in graph_array[contactor][0] and contactee != contactor :\n",
    "\n",
    "                                    random_connection = True\n",
    "                                    counter-=1\n",
    "\n",
    "                                    graph_array[contactor][0].append(contactee)\n",
    "                                    graph_array[contactee][0].append(contactor)\n",
    "\n",
    "                                    #building N_of_N based on newly added node\n",
    "                                    N_of_N=[]\n",
    "\n",
    "                                    for j in graph_array[contactee][0]:\n",
    "                                        if j!=contactor and j not in graph_array[contactor][0]:     \n",
    "                                            N_of_N.append(j)\n",
    "                                        \n",
    "                        #if we have iterated 1000 times without forming connection the node is in dead end\n",
    "                        if counter_null_iteration > 10000 :\n",
    "                            dead_end=True\n",
    "                            print(contactor,'hit dead end')\n",
    "\n",
    "#putting data from graph to a list of connections\n",
    "    connections_list=list()\n",
    "    for i in nodes_dic.keys():\n",
    "        for j in range(len(graph_array[i][0])):\n",
    "            k=graph_array[i][0][j]\n",
    "        \n",
    "            if i<k:\n",
    "                connections_list.append((i,k))\n",
    "            elif k<i:\n",
    "                connections_list.append((k,i))\n",
    "    #removing duplicates\n",
    "    connections_list=list(set(connections_list))\n",
    "    \n",
    "    #deciding weights of connections\n",
    "    for contactor in graph_array:\n",
    "        for contactee in contactor[0]:\n",
    "            #if contactor comes first,it decides the weight of connection\n",
    "            if contactor[2]<graph_array[contactee][2]:\n",
    "                weight_decided=False\n",
    "                while weight_decided==False:\n",
    "                    r=random.random()\n",
    "                    #1 daily,2 weekly ,3 monthly\n",
    "                    weight=random.choice([1,2,3])\n",
    "                    prob=(frequency[setting][weight][0]*(1/frequency[setting][weight][1]))/frequency_factor[setting]\n",
    "                    if r<=prob:\n",
    "                        graph_array[contactor[2]][1].append(weight)\n",
    "                        weight_decided=True\n",
    "            #if contactors comes after contactee,it copies the weight from contactor            \n",
    "            else:\n",
    "                \n",
    "                for i in list(enumerate(graph_array[contactee][0])):\n",
    "                    if i[1]==contactor[2]:\n",
    "                        weight=graph_array[contactee][1][i[0]]\n",
    "                        graph_array[contactor[2]][1].append(weight)\n",
    "                             \n",
    "    results={'graph_array':graph_array,'nodes_age_grouped':nodes_age_grouped,'connections':connections_list,'samples_T':samples_T}                           \n",
    "    return(results)\n"
   ]
  },
  {
   "cell_type": "markdown",
   "metadata": {
    "id": "onCU4DTbe4yH"
   },
   "source": [
    "### 3-2 function Run_S imports graph and checks for connections in each day "
   ]
  },
  {
   "cell_type": "code",
   "execution_count": 14,
   "metadata": {
    "id": "-VEplAnMe4yH"
   },
   "outputs": [],
   "source": [
    "#Run_S runs the model and stores conections but do not change the weights\n",
    "def Run_S (nodes_dic,N_day,rules,age_count,N,results):\n",
    "    \n",
    "    list_weight=[]##########################################\n",
    "    \n",
    "    nodes_age_grouped=results['nodes_age_grouped']\n",
    "    graph_array=results['graph_array']\n",
    "    connections=results['connections']\n",
    "    \n",
    "    weight={1:1,2:(1.5/7),3:(1.5/30)}\n",
    "\n",
    "    #in this list the day that connection has happened is stored\n",
    "    #contacts=[N*[D0[],D1[]]]\n",
    "    contacts=[] \n",
    "    for i in nodes_dic.keys():\n",
    "        contacts.append([])\n",
    "        \n",
    "            \n",
    "    for d in range(N_day):\n",
    "        #adding empty list for day to each node\n",
    "        for i in nodes_dic.keys():\n",
    "            contacts[i].append([])\n",
    "         #checking if contacts happen and storing them   \n",
    "        \n",
    "        for contactor in graph_array:\n",
    "            for contactee in list(enumerate(contactor[0])):\n",
    "                #returns contactee and its position as a tuple\n",
    "                #deciding if contact happens is done by the node that comes first\n",
    "                if contactor[2]<contactee[1]:\n",
    "                    r=random.random()\n",
    "                    if r < weight[contactor[1][contactee[0]]]:\n",
    "                        contacts[contactor[2]][d].append(contactee[1])\n",
    "                        contacts[contactee[1]][d].append(contactor[2])\n",
    "                        list_weight.append(contactor[1][contactee[0]])################\n",
    "                        \n",
    "            count_random=math.floor(contactor[4]*frequency[setting][4][0])\n",
    "            \n",
    "            for k in range(count_random):\n",
    "                \n",
    "                while True:\n",
    "                    r=random.random()\n",
    "                    #deciding the age of connection of the node\n",
    "                    Age_contactor=nodes_dic[contactor[2]]['age']\n",
    "                    Age_C=random.choice(list(nodes_age_grouped.keys()))\n",
    "                    r=random.random()\n",
    "                    prob_connection=rules[setting][Age_contactor][Age_C]/(rules_sum[setting][Age_contactor]['contact_total'])\n",
    "                    \n",
    "                    if rules[setting][Age_contactor][Age_C]!=0:\n",
    "                        if r <= prob_connection:\n",
    "                            #deciding a random node from the chosen age group to make connection\n",
    "                            contactee=random.choice(nodes_age_grouped[Age_C])\n",
    "                            #making sure t2 and i had no connection and no contact before\n",
    "                            if (contactee not in contactor[0]) and (contactee not in contacts[contactor[2]][d]):\n",
    "                                contacts[contactor[2]][d].append(contactee)\n",
    "                                contacts[contactee][d].append(contactor[2])\n",
    "                                list_weight.append(4)###############\n",
    "                                break\n",
    "                    \n",
    "    return(contacts,list_weight)#################"
   ]
  },
  {
   "cell_type": "markdown",
   "metadata": {
    "id": "b48Na9I_e4yI"
   },
   "source": [
    "\n",
    "### 3-3 function sampling checks the graph and calculates metrics during the run"
   ]
  },
  {
   "cell_type": "code",
   "execution_count": 15,
   "metadata": {
    "id": "aW1uf61Ke4yI"
   },
   "outputs": [],
   "source": [
    "#this function claculates metric for graph during the run\n",
    "\n",
    "def sampling(N,graph_array,age_count,rules):\n",
    "    #builds list of contacts based on current situation of graph\n",
    "    contacts=[]\n",
    "    for node in nodes_dic.keys():\n",
    "        contacts.append([])\n",
    "        contacts[node].append(graph_array[node][0])\n",
    "    #calculates metrics    \n",
    "    Metr_W= Metric_W_P(contacts,age_count,rules)\n",
    "    \n",
    "    samples={'p-value wilcoxon':'%f' % Metr_W['wilx'][1],'mean absoloute error':Metr_W['M_Abs'],'Manhattan distance':Metr_W['man_dis'],'Euclidean distance':Metr_W['eu_dis'],'Chebyshev distance':Metr_W['cheb_dis']}\n",
    "     \n",
    "    return(samples)"
   ]
  },
  {
   "cell_type": "markdown",
   "metadata": {
    "id": "hOyTb4GRe4yI"
   },
   "source": [
    "### 3-4 function Metric_w calculates metrics for the input graph"
   ]
  },
  {
   "cell_type": "code",
   "execution_count": 16,
   "metadata": {
    "id": "OR4DNwZ4e4yI"
   },
   "outputs": [],
   "source": [
    "#this function returns measures for comparison age stratified number of contacts\n",
    "#for evaluation of full model\n",
    "\n",
    "\n",
    "def Metric_W(contacts,age_count,rules) : \n",
    "    \n",
    "    \n",
    "    L1=[]\n",
    "    L2=[]\n",
    "    L3=[]\n",
    "    \n",
    "\n",
    "    rules_m=dict()\n",
    "    rules_m[setting]=dict()\n",
    "\n",
    "    for i in rules[setting].keys():\n",
    "        rules_m[setting][i]=dict()\n",
    "        for j in rules[setting][i].keys():\n",
    "             rules_m[setting][i][j]=0\n",
    "    \n",
    "    for i in nodes_dic.keys():\n",
    "            for j in contacts[0][i][0]:#################\n",
    "                age_p=rules[setting][nodes_dic[i]['age']][nodes_dic[j]['age']]\n",
    "                if i!=j and age_p!=0 : \n",
    "                    t= 1/age_count[nodes_dic[i]['age']]\n",
    "                    rules_m[setting][nodes_dic[i]['age']][nodes_dic[j]['age']]+=t\n",
    "                         \n",
    "    for i in rules_m[setting].keys():\n",
    "        for j in rules_m[setting][i].keys():\n",
    "            \n",
    "            L1.append(rules[setting][i][j])\n",
    "            L2.append(rules_m[setting][i][j])\n",
    "            \n",
    "            L3.append(abs((rules_m[setting][i][j])-(rules[setting][i][j])))\n",
    "    \n",
    "                \n",
    "                \n",
    "    wilx=stats.wilcoxon(L1,L2,zero_method='wilcox', correction=False, alternative='two-sided')\n",
    "    \n",
    "    M_Abs=statistics.mean(L3)\n",
    "    #Manhattan distance\n",
    "    man_dis=distance.cityblock(L1, L2)\n",
    "    #Euclidean distance\n",
    "    eu_dis=distance.euclidean(L1,L2)\n",
    "    #Chebyshev distance\n",
    "    cheb_dis=distance.chebyshev(L1,L2)\n",
    "    #Pearson corelation\n",
    "    prs_cor=stats.pearsonr(L1,L2)\n",
    "    \n",
    "    \n",
    "    Metric_W ={'wilx':wilx,'M_Abs':M_Abs,'rules_m':rules_m,'L3':L3,'man_dis':man_dis,'eu_dis':eu_dis,'cheb_dis':cheb_dis, 'prs_cor': prs_cor}\n",
    "    \n",
    "    return(Metric_W)"
   ]
  },
  {
   "cell_type": "code",
   "execution_count": 17,
   "metadata": {
    "id": "ImuDggh1e4yJ"
   },
   "outputs": [],
   "source": [
    "#this function returns measures for comparison age stratified number of contacts\n",
    "#for evaluation of progression model\n",
    "\n",
    "\n",
    "def Metric_W_P(contacts,age_count,rules) : \n",
    "    \n",
    "    \n",
    "    L1=[]\n",
    "    L2=[]\n",
    "    L3=[]\n",
    "    \n",
    "\n",
    "    rules_m=dict()\n",
    "    rules_m[setting]=dict()\n",
    "\n",
    "    for i in rules[setting].keys():\n",
    "        rules_m[setting][i]=dict()\n",
    "        for j in rules[setting][i].keys():\n",
    "             rules_m[setting][i][j]=0\n",
    "    \n",
    "    for i in nodes_dic.keys():\n",
    "            for j in contacts[i][0]:\n",
    "                age_p=rules[setting][nodes_dic[i]['age']][nodes_dic[j]['age']]\n",
    "                if i!=j and age_p!=0 : \n",
    "                    t= 1/age_count[nodes_dic[i]['age']]\n",
    "                    rules_m[setting][nodes_dic[i]['age']][nodes_dic[j]['age']]+=t\n",
    "                         \n",
    "    for i in rules_m[setting].keys():\n",
    "        for j in rules_m[setting][i].keys():\n",
    "            \n",
    "            L1.append(rules[setting][i][j]*frequency_factor[setting])\n",
    "            L2.append(rules_m[setting][i][j])\n",
    "            \n",
    "            L3.append(abs((rules_m[setting][i][j])-(rules[setting][i][j]*frequency_factor[setting])))\n",
    "    \n",
    "                \n",
    "                \n",
    "    wilx=stats.wilcoxon(L1,L2,zero_method='wilcox', correction=False, alternative='two-sided')\n",
    "    \n",
    "    M_Abs=statistics.mean(L3)\n",
    "    #Manhattan distance\n",
    "    man_dis=distance.cityblock(L1, L2)\n",
    "    #Euclidean distance\n",
    "    eu_dis=distance.euclidean(L1,L2)\n",
    "    #Chebyshev distance\n",
    "    cheb_dis=distance.chebyshev(L1,L2)\n",
    "    #Pearson corelation\n",
    "    prs_cor=stats.pearsonr(L1,L2)\n",
    "    \n",
    "    \n",
    "    Metric_W ={'wilx':wilx,'M_Abs':M_Abs,'rules_m':rules_m,'L3':L3,'man_dis':man_dis,'eu_dis':eu_dis,'cheb_dis':cheb_dis, 'prs_cor': prs_cor}\n",
    "    \n",
    "    return(Metric_W)"
   ]
  },
  {
   "cell_type": "markdown",
   "metadata": {
    "id": "cgZ4mY8he4yJ"
   },
   "source": [
    "### 3-5 function clustering_coefficent calculate number of triangles and ratio of contacts involved in a triangel compared to total  contacts with possibility of forming triangles"
   ]
  },
  {
   "cell_type": "code",
   "execution_count": 18,
   "metadata": {
    "id": "Gyc6lPWNe4yJ"
   },
   "outputs": [],
   "source": [
    "#claculate clustering by counting number of triangels\n",
    "def clustering_rate (results):\n",
    "    \n",
    "   \n",
    "    graph_array=results['graph_array']\n",
    "    t_triangel=0\n",
    "    t_contact=0\n",
    "    all_contact=0\n",
    "    for node in nodes_dic.keys():\n",
    "        if len(graph_array[node][0])>1:\n",
    "            #building list of neighbor of neighbors\n",
    "            N_of_N=[]\n",
    "            for neighbor in graph_array[node][0]:\n",
    "                for neighbor2 in graph_array[neighbor][0]:\n",
    "                    N_of_N.append(neighbor2)\n",
    "            #checking for triangels\n",
    "\n",
    "            for neighbor in graph_array[node][0]:\n",
    "                #if it's possible for the node to build triangels\n",
    "                all_contact+=1\n",
    "                if len(graph_array[neighbor][0])>1:\n",
    "                    t_contact+=1\n",
    "                if neighbor in N_of_N :\n",
    "                    t_triangel += 1\n",
    "                    \n",
    "                    \n",
    "                \n",
    "    t_contact=t_contact/2 \n",
    "    t_triangel=t_triangel/2\n",
    "    all_contact=all_contact/2\n",
    "    clustering_coefficent=(t_triangel)/t_contact\n",
    "    clustering_ratio=(t_triangel + (all_contact-t_contact))/all_contact\n",
    "                \n",
    "    return(t_triangel,clustering_coefficent,clustering_ratio)"
   ]
  },
  {
   "cell_type": "markdown",
   "metadata": {
    "id": "8KIppERQe4yK"
   },
   "source": [
    "# 4-Running the model\n",
    "### the functions run in this part\n",
    "\n",
    "\n"
   ]
  },
  {
   "cell_type": "code",
   "execution_count": 19,
   "metadata": {
    "id": "YJTzXy5ae4yK"
   },
   "outputs": [],
   "source": [
    "start = time.time()"
   ]
  },
  {
   "cell_type": "code",
   "execution_count": 20,
   "metadata": {
    "colab": {
     "base_uri": "https://localhost:8080/"
    },
    "id": "GawsSARVe4yK",
    "outputId": "8289704f-a012-486e-8424-c4fb60f3ced3",
    "scrolled": true
   },
   "outputs": [
    {
     "name": "stdout",
     "output_type": "stream",
     "text": [
      "building complete graph ...\n",
      "9813 hit dead end\n",
      "9816 hit dead end\n",
      "9817 hit dead end\n",
      "9859 hit dead end\n",
      "9933 hit dead end\n",
      "9957 hit dead end\n",
      "10029 hit dead end\n",
      "10035 hit dead end\n",
      "10040 hit dead end\n",
      "10064 hit dead end\n"
     ]
    }
   ],
   "source": [
    "#this part runs the model\n",
    "results=Run(nodes_dic,age_count,frequency_grouped,size_assortivity)\n"
   ]
  },
  {
   "cell_type": "code",
   "execution_count": 21,
   "metadata": {
    "id": "imrUK6bte4yK"
   },
   "outputs": [],
   "source": [
    "end=time.time()"
   ]
  },
  {
   "cell_type": "code",
   "execution_count": 22,
   "metadata": {
    "id": "YtsZKWPYe4yK"
   },
   "outputs": [],
   "source": [
    "#running a 1 day simulation of model\n",
    "contacts=Run_S(nodes_dic,1,rules,age_count,N,results)"
   ]
  },
  {
   "cell_type": "code",
   "execution_count": 23,
   "metadata": {
    "id": "tl2DT8VMe4yL"
   },
   "outputs": [],
   "source": [
    "#this part returns the measures for age stratified number of contact\n",
    "Metr_W=Metric_W(contacts,age_count,rules)\n",
    "\n"
   ]
  },
  {
   "cell_type": "markdown",
   "metadata": {
    "id": "J4YPytHHe4yL"
   },
   "source": [
    "# 5-Reporitng the model"
   ]
  },
  {
   "cell_type": "markdown",
   "metadata": {
    "id": "A8PoZhQxe4yL"
   },
   "source": [
    "### 5-1 Table of mean number of contact per age both from data and model \n"
   ]
  },
  {
   "cell_type": "code",
   "execution_count": 24,
   "metadata": {
    "colab": {
     "base_uri": "https://localhost:8080/"
    },
    "id": "jB9eIj1Be4yL",
    "outputId": "86fe693b-21ee-4d22-fd4c-626544312e3d"
   },
   "outputs": [
    {
     "name": "stdout",
     "output_type": "stream",
     "text": [
      "age i   age j    rules_m      rules    Abs_error\n",
      "================================================\n",
      " 0_4     0_4    0.995402    1.074090   0.078688 \n",
      "================================================\n",
      " 0_4     5_9    0.419540    0.442230   0.022689 \n",
      "================================================\n",
      " 0_4    10_14   0.182759    0.178593   0.004166 \n",
      "================================================\n",
      " 0_4    15_19   0.128736    0.123777   0.004958 \n",
      "================================================\n",
      " 0_4    20_24   0.224138    0.210164   0.013974 \n",
      "================================================\n",
      " 0_4    25_29   0.380460    0.380678   0.000218 \n",
      "================================================\n",
      " 0_4    30_34   0.503448    0.487158   0.016290 \n",
      "================================================\n",
      " 0_4    35_39   0.417241    0.416982   0.000260 \n",
      "================================================\n",
      " 0_4    40_44   0.277011    0.275340   0.001671 \n",
      "================================================\n",
      " 0_4    45_49   0.171264    0.176315   0.005051 \n",
      "================================================\n",
      " 0_4    50_54   0.205747    0.215506   0.009759 \n",
      "================================================\n",
      " 0_4    55_59   0.196552    0.198171   0.001619 \n",
      "================================================\n",
      " 0_4    60_64   0.124138    0.148789   0.024651 \n",
      "================================================\n",
      " 0_4    65_69   0.133333    0.124177   0.009156 \n",
      "================================================\n",
      " 0_4    70_74   0.089655    0.085428   0.004228 \n",
      "================================================\n",
      " 0_4     75+    0.031034    0.043007   0.011973 \n",
      "================================================\n",
      " 5_9     0_4    0.457393    0.482130   0.024737 \n",
      "================================================\n",
      " 5_9     5_9    1.769424    1.720050   0.049374 \n",
      "================================================\n",
      " 5_9    10_14   0.676692    0.646873   0.029819 \n",
      "================================================\n",
      " 5_9    15_19   0.246867    0.190491   0.056376 \n",
      "================================================\n",
      " 5_9    20_24   0.179198    0.142288   0.036910 \n",
      "================================================\n",
      " 5_9    25_29   0.233083    0.236401   0.003318 \n",
      "================================================\n",
      " 5_9    30_34   0.364662    0.345332   0.019330 \n",
      "================================================\n",
      " 5_9    35_39   0.457393    0.414272   0.043122 \n",
      "================================================\n",
      " 5_9    40_44   0.364662    0.318678   0.045983 \n",
      "================================================\n",
      " 5_9    45_49   0.170426    0.142561   0.027865 \n",
      "================================================\n",
      " 5_9    50_54   0.141604    0.123801   0.017803 \n",
      "================================================\n",
      " 5_9    55_59   0.145363    0.125250   0.020114 \n",
      "================================================\n",
      " 5_9    60_64   0.109023    0.129291   0.020269 \n",
      "================================================\n",
      " 5_9    65_69   0.106516    0.094852   0.011664 \n",
      "================================================\n",
      " 5_9    70_74   0.038847    0.049128   0.010281 \n",
      "================================================\n",
      " 5_9     75+    0.036341    0.038114   0.001773 \n",
      "================================================\n",
      "10_14    0_4    0.219008    0.214016   0.004992 \n",
      "================================================\n",
      "10_14    5_9    0.743802    0.711025   0.032776 \n",
      "================================================\n",
      "10_14   10_14   2.842975    2.580850   0.262125 \n",
      "================================================\n",
      "10_14   15_19   0.841598    0.715769   0.125829 \n",
      "================================================\n",
      "10_14   20_24   0.319559    0.245467   0.074092 \n",
      "================================================\n",
      "10_14   25_29   0.206612    0.193599   0.013013 \n",
      "================================================\n",
      "10_14   30_34   0.369146    0.360951   0.008195 \n",
      "================================================\n",
      "10_14   35_39   0.325069    0.328894   0.003825 \n",
      "================================================\n",
      "10_14   40_44   0.406336    0.385940   0.020396 \n",
      "================================================\n",
      "10_14   45_49   0.199725    0.198094   0.001631 \n",
      "================================================\n",
      "10_14   50_54   0.161157    0.143344   0.017813 \n",
      "================================================\n",
      "10_14   55_59   0.099174    0.091149   0.008024 \n",
      "================================================\n",
      "10_14   60_64   0.064738    0.069934   0.005196 \n",
      "================================================\n",
      "10_14   65_69   0.075758    0.067388   0.008370 \n",
      "================================================\n",
      "10_14   70_74   0.049587    0.053210   0.003624 \n",
      "================================================\n",
      "10_14    75+    0.034435    0.047911   0.013476 \n",
      "================================================\n",
      "15_19    0_4    0.159544    0.153399   0.006145 \n",
      "================================================\n",
      "15_19    5_9    0.280627    0.216541   0.064086 \n",
      "================================================\n",
      "15_19   10_14   0.870370    0.740240   0.130130 \n",
      "================================================\n",
      "15_19   15_19   3.723647    3.291530   0.432117 \n",
      "================================================\n",
      "15_19   20_24   1.301994    1.115576   0.186418 \n",
      "================================================\n",
      "15_19   25_29   0.572650    0.473140   0.099510 \n",
      "================================================\n",
      "15_19   30_34   0.356125    0.312182   0.043943 \n",
      "================================================\n",
      "15_19   35_39   0.349003    0.276148   0.072855 \n",
      "================================================\n",
      "15_19   40_44   0.321937    0.286176   0.035762 \n",
      "================================================\n",
      "15_19   45_49   0.300570    0.241240   0.059330 \n",
      "================================================\n",
      "15_19   50_54   0.162393    0.131870   0.030523 \n",
      "================================================\n",
      "15_19   55_59   0.086895    0.063444   0.023450 \n",
      "================================================\n",
      "15_19   60_64   0.059829    0.051610   0.008219 \n",
      "================================================\n",
      "15_19   65_69   0.059829    0.038952   0.020877 \n",
      "================================================\n",
      "15_19   70_74   0.021368    0.028634   0.007266 \n",
      "================================================\n",
      "15_19    75+    0.017094    0.017422   0.000328 \n",
      "================================================\n",
      "20_24    0_4    0.245902    0.230571   0.015331 \n",
      "================================================\n",
      "20_24    5_9    0.180328    0.143185   0.037142 \n",
      "================================================\n",
      "20_24   10_14   0.292560    0.224728   0.067832 \n",
      "================================================\n",
      "20_24   15_19   1.152585    0.987559   0.165026 \n",
      "================================================\n",
      "20_24   20_24   2.174023    2.081000   0.093023 \n",
      "================================================\n",
      "20_24   25_29   1.255990    1.122911   0.133079 \n",
      "================================================\n",
      "20_24   30_34   0.703657    0.696768   0.006889 \n",
      "================================================\n",
      "20_24   35_39   0.493064    0.416798   0.076266 \n",
      "================================================\n",
      "20_24   40_44   0.332913    0.314974   0.017939 \n",
      "================================================\n",
      "20_24   45_49   0.303909    0.275922   0.027987 \n",
      "================================================\n",
      "20_24   50_54   0.205549    0.204963   0.000585 \n",
      "================================================\n",
      "20_24   55_59   0.153846    0.131439   0.022407 \n",
      "================================================\n",
      "20_24   60_64   0.061791    0.067591   0.005801 \n",
      "================================================\n",
      "20_24   65_69   0.047919    0.044537   0.003383 \n",
      "================================================\n",
      "20_24   70_74   0.045397    0.043407   0.001990 \n",
      "================================================\n",
      "20_24    75+    0.037831    0.034893   0.002938 \n",
      "================================================\n",
      "25_29    0_4    0.334006    0.334198   0.000192 \n",
      "================================================\n",
      "25_29    5_9    0.187689    0.190361   0.002672 \n",
      "================================================\n",
      "25_29   10_14   0.151362    0.141829   0.009533 \n",
      "================================================\n",
      "25_29   15_19   0.405651    0.335161   0.070490 \n",
      "================================================\n",
      "25_29   20_24   1.005045    0.898555   0.106490 \n",
      "================================================\n",
      "25_29   25_29   1.600404    1.488970   0.111434 \n",
      "================================================\n",
      "25_29   30_34   1.046418    0.978502   0.067916 \n",
      "================================================\n",
      "25_29   35_39   0.737639    0.651860   0.085779 \n",
      "================================================\n",
      "25_29   40_44   0.433905    0.386144   0.047762 \n",
      "================================================\n",
      "25_29   45_49   0.294652    0.299932   0.005280 \n",
      "================================================\n",
      "25_29   50_54   0.269425    0.276968   0.007544 \n",
      "================================================\n",
      "25_29   55_59   0.195762    0.170991   0.024771 \n",
      "================================================\n",
      "25_29   60_64   0.075681    0.084505   0.008824 \n",
      "================================================\n",
      "25_29   65_69   0.059536    0.054421   0.005115 \n",
      "================================================\n",
      "25_29   70_74   0.024218    0.032029   0.007811 \n",
      "================================================\n",
      "25_29    75+    0.016145    0.017358   0.001213 \n",
      "================================================\n",
      "30_34    0_4    0.405931    0.392797   0.013135 \n",
      "================================================\n",
      "30_34    5_9    0.269694    0.255398   0.014296 \n",
      "================================================\n",
      "30_34   10_14   0.248378    0.242864   0.005514 \n",
      "================================================\n",
      "30_34   15_19   0.231696    0.203106   0.028590 \n",
      "================================================\n",
      "30_34   20_24   0.517146    0.512082   0.005063 \n",
      "================================================\n",
      "30_34   25_29   0.961075    0.898698   0.062377 \n",
      "================================================\n",
      "30_34   30_34   1.399444    1.296720   0.102724 \n",
      "================================================\n",
      "30_34   35_39   0.973123    0.894828   0.078295 \n",
      "================================================\n",
      "30_34   40_44   0.576460    0.541405   0.035054 \n",
      "================================================\n",
      "30_34   45_49   0.398517    0.361805   0.036712 \n",
      "================================================\n",
      "30_34   50_54   0.333642    0.336846   0.003204 \n",
      "================================================\n",
      "30_34   55_59   0.291010    0.277138   0.013872 \n",
      "================================================\n",
      "30_34   60_64   0.124189    0.148364   0.024175 \n",
      "================================================\n",
      "30_34   65_69   0.105653    0.103376   0.002278 \n",
      "================================================\n",
      "30_34   70_74   0.057461    0.052313   0.005148 \n",
      "================================================\n",
      "30_34    75+    0.047266    0.051674   0.004408 \n",
      "================================================\n",
      "35_39    0_4    0.383721    0.383482   0.000239 \n",
      "================================================\n",
      "35_39    5_9    0.385835    0.349460   0.036375 \n",
      "================================================\n",
      "35_39   10_14   0.249471    0.252407   0.002936 \n",
      "================================================\n",
      "35_39   15_19   0.258985    0.204922   0.054064 \n",
      "================================================\n",
      "35_39   20_24   0.413319    0.349388   0.063931 \n",
      "================================================\n",
      "35_39   25_29   0.772727    0.682868   0.089859 \n",
      "================================================\n",
      "35_39   30_34   1.109937    1.020634   0.089303 \n",
      "================================================\n",
      "35_39   35_39   1.291755    1.196020   0.095735 \n",
      "================================================\n",
      "35_39   40_44   0.768499    0.726235   0.042264 \n",
      "================================================\n",
      "35_39   45_49   0.449260    0.435958   0.013302 \n",
      "================================================\n",
      "35_39   50_54   0.303383    0.286376   0.017006 \n",
      "================================================\n",
      "35_39   55_59   0.318182    0.245296   0.072886 \n",
      "================================================\n",
      "35_39   60_64   0.258985    0.232024   0.026962 \n",
      "================================================\n",
      "35_39   65_69   0.159619    0.148907   0.010712 \n",
      "================================================\n",
      "35_39   70_74   0.095137    0.093531   0.001606 \n",
      "================================================\n",
      "35_39    75+    0.044397    0.041032   0.003365 \n",
      "================================================\n",
      "40_44    0_4    0.338959    0.336914   0.002045 \n",
      "================================================\n",
      "40_44    5_9    0.409283    0.357673   0.051610 \n",
      "================================================\n",
      "40_44   10_14   0.414909    0.394082   0.020826 \n",
      "================================================\n",
      "40_44   15_19   0.317862    0.282553   0.035309 \n",
      "================================================\n",
      "40_44   20_24   0.371308    0.351300   0.020008 \n",
      "================================================\n",
      "40_44   25_29   0.604782    0.538211   0.066571 \n",
      "================================================\n",
      "40_44   30_34   0.874824    0.821626   0.053198 \n",
      "================================================\n",
      "40_44   35_39   1.022504    0.966271   0.056233 \n",
      "================================================\n",
      "40_44   40_44   1.015471    0.852360   0.163111 \n",
      "================================================\n",
      "40_44   45_49   0.492264    0.452453   0.039811 \n",
      "================================================\n",
      "40_44   50_54   0.336146    0.310487   0.025660 \n",
      "================================================\n",
      "40_44   55_59   0.212377    0.183820   0.028557 \n",
      "================================================\n",
      "40_44   60_64   0.196906    0.168772   0.028134 \n",
      "================================================\n",
      "40_44   65_69   0.139241    0.106870   0.032371 \n",
      "================================================\n",
      "40_44   70_74   0.092827    0.081275   0.011552 \n",
      "================================================\n",
      "40_44    75+    0.033755    0.037338   0.003582 \n",
      "================================================\n",
      "45_49    0_4    0.243067    0.250236   0.007169 \n",
      "================================================\n",
      "45_49    5_9    0.221860    0.185585   0.036275 \n",
      "================================================\n",
      "45_49   10_14   0.236542    0.234610   0.001931 \n",
      "================================================\n",
      "45_49   15_19   0.344209    0.276265   0.067944 \n",
      "================================================\n",
      "45_49   20_24   0.393148    0.356943   0.036205 \n",
      "================================================\n",
      "45_49   25_29   0.476346    0.484882   0.008536 \n",
      "================================================\n",
      "45_49   30_34   0.701468    0.636848   0.064620 \n",
      "================================================\n",
      "45_49   35_39   0.693312    0.672783   0.020528 \n",
      "================================================\n",
      "45_49   40_44   0.570962    0.524786   0.046176 \n",
      "================================================\n",
      "45_49   45_49   0.450245    0.450090   0.000155 \n",
      "================================================\n",
      "45_49   50_54   0.342577    0.341760   0.000817 \n",
      "================================================\n",
      "45_49   55_59   0.172920    0.163047   0.009873 \n",
      "================================================\n",
      "45_49   60_64   0.141925    0.134346   0.007579 \n",
      "================================================\n",
      "45_49   65_69   0.071778    0.079019   0.007241 \n",
      "================================================\n",
      "45_49   70_74   0.053834    0.063888   0.010055 \n",
      "================================================\n",
      "45_49    75+    0.042414    0.052483   0.010069 \n",
      "================================================\n",
      "50_54    0_4    0.377637    0.395550   0.017913 \n",
      "================================================\n",
      "50_54    5_9    0.238397    0.208424   0.029972 \n",
      "================================================\n",
      "50_54   10_14   0.246835    0.219552   0.027283 \n",
      "================================================\n",
      "50_54   15_19   0.240506    0.195302   0.045205 \n",
      "================================================\n",
      "50_54   20_24   0.343882    0.342903   0.000979 \n",
      "================================================\n",
      "50_54   25_29   0.563291    0.579063   0.015772 \n",
      "================================================\n",
      "50_54   30_34   0.759494    0.766787   0.007293 \n",
      "================================================\n",
      "50_54   35_39   0.605485    0.571544   0.033941 \n",
      "================================================\n",
      "50_54   40_44   0.504219    0.465730   0.038489 \n",
      "================================================\n",
      "50_54   45_49   0.443038    0.441981   0.001057 \n",
      "================================================\n",
      "50_54   50_54   0.409283    0.338040   0.071243 \n",
      "================================================\n",
      "50_54   55_59   0.286920    0.288914   0.001994 \n",
      "================================================\n",
      "50_54   60_64   0.177215    0.175358   0.001857 \n",
      "================================================\n",
      "50_54   65_69   0.109705    0.101338   0.008367 \n",
      "================================================\n",
      "50_54   70_74   0.059072    0.058572   0.000500 \n",
      "================================================\n",
      "50_54    75+    0.025316    0.042435   0.017119 \n",
      "================================================\n",
      "55_59    0_4    0.410072    0.413450   0.003378 \n",
      "================================================\n",
      "55_59    5_9    0.278177    0.239687   0.038491 \n",
      "================================================\n",
      "55_59   10_14   0.172662    0.158691   0.013970 \n",
      "================================================\n",
      "55_59   15_19   0.146283    0.106806   0.039477 \n",
      "================================================\n",
      "55_59   20_24   0.292566    0.249955   0.042611 \n",
      "================================================\n",
      "55_59   25_29   0.465228    0.406360   0.058867 \n",
      "================================================\n",
      "55_59   30_34   0.752998    0.717104   0.035894 \n",
      "================================================\n",
      "55_59   35_39   0.721823    0.556475   0.165347 \n",
      "================================================\n",
      "55_59   40_44   0.362110    0.313420   0.048690 \n",
      "================================================\n",
      "55_59   45_49   0.254197    0.239683   0.014513 \n",
      "================================================\n",
      "55_59   50_54   0.326139    0.328405   0.002266 \n",
      "================================================\n",
      "55_59   55_59   0.422062    0.330700   0.091362 \n",
      "================================================\n",
      "55_59   60_64   0.273381    0.235663   0.037718 \n",
      "================================================\n",
      "55_59   65_69   0.122302    0.129929   0.007627 \n",
      "================================================\n",
      "55_59   70_74   0.062350    0.064167   0.001816 \n",
      "================================================\n",
      "55_59    75+    0.028777    0.040276   0.011499 \n",
      "================================================\n",
      "60_64    0_4    0.336449    0.403260   0.066811 \n",
      "================================================\n",
      "60_64    5_9    0.271028    0.321416   0.050388 \n",
      "================================================\n",
      "60_64   10_14   0.146417    0.158169   0.011751 \n",
      "================================================\n",
      "60_64   15_19   0.130841    0.112866   0.017975 \n",
      "================================================\n",
      "60_64   20_24   0.152648    0.166978   0.014330 \n",
      "================================================\n",
      "60_64   25_29   0.233645    0.260886   0.027241 \n",
      "================================================\n",
      "60_64   30_34   0.417445    0.498708   0.081262 \n",
      "================================================\n",
      "60_64   35_39   0.763240    0.683783   0.079457 \n",
      "================================================\n",
      "60_64   40_44   0.436137    0.373821   0.062316 \n",
      "================================================\n",
      "60_64   45_49   0.271028    0.256556   0.014473 \n",
      "================================================\n",
      "60_64   50_54   0.261682    0.258940   0.002742 \n",
      "================================================\n",
      "60_64   55_59   0.355140    0.306142   0.048998 \n",
      "================================================\n",
      "60_64   60_64   0.236760    0.292480   0.055720 \n",
      "================================================\n",
      "60_64   65_69   0.239875    0.193299   0.046577 \n",
      "================================================\n",
      "60_64   70_74   0.105919    0.136677   0.030758 \n",
      "================================================\n",
      "60_64    75+    0.059190    0.059458   0.000268 \n",
      "================================================\n",
      "65_69    0_4    0.458498    0.427013   0.031485 \n",
      "================================================\n",
      "65_69    5_9    0.335968    0.299179   0.036789 \n",
      "================================================\n",
      "65_69   10_14   0.217391    0.193373   0.024018 \n",
      "================================================\n",
      "65_69   15_19   0.166008    0.108080   0.057928 \n",
      "================================================\n",
      "65_69   20_24   0.150198    0.139595   0.010603 \n",
      "================================================\n",
      "65_69   25_29   0.233202    0.213168   0.020034 \n",
      "================================================\n",
      "65_69   30_34   0.450593    0.440880   0.009713 \n",
      "================================================\n",
      "65_69   35_39   0.596838    0.556783   0.040055 \n",
      "================================================\n",
      "65_69   40_44   0.391304    0.300333   0.090971 \n",
      "================================================\n",
      "65_69   45_49   0.173913    0.191457   0.017544 \n",
      "================================================\n",
      "65_69   50_54   0.205534    0.189858   0.015676 \n",
      "================================================\n",
      "65_69   55_59   0.201581    0.214152   0.012571 \n",
      "================================================\n",
      "65_69   60_64   0.304348    0.245253   0.059095 \n",
      "================================================\n",
      "65_69   65_69   0.189723    0.191830   0.002107 \n",
      "================================================\n",
      "65_69   70_74   0.173913    0.117390   0.056523 \n",
      "================================================\n",
      "65_69    75+    0.059289    0.073953   0.014665 \n",
      "================================================\n",
      "70_74    0_4    0.516556    0.492199   0.024358 \n",
      "================================================\n",
      "70_74    5_9    0.205298    0.259630   0.054332 \n",
      "================================================\n",
      "70_74   10_14   0.238411    0.255833   0.017422 \n",
      "================================================\n",
      "70_74   15_19   0.099338    0.133119   0.033782 \n",
      "================================================\n",
      "70_74   20_24   0.238411    0.227961   0.010449 \n",
      "================================================\n",
      "70_74   25_29   0.158940    0.210200   0.051260 \n",
      "================================================\n",
      "70_74   30_34   0.410596    0.373813   0.036783 \n",
      "================================================\n",
      "70_74   35_39   0.596026    0.585964   0.010062 \n",
      "================================================\n",
      "70_74   40_44   0.437086    0.382694   0.054392 \n",
      "================================================\n",
      "70_74   45_49   0.218543    0.259361   0.040818 \n",
      "================================================\n",
      "70_74   50_54   0.185430    0.183862   0.001569 \n",
      "================================================\n",
      "70_74   55_59   0.172185    0.177202   0.005016 \n",
      "================================================\n",
      "70_74   60_64   0.225166    0.290552   0.065387 \n",
      "================================================\n",
      "70_74   65_69   0.291391    0.196687   0.094704 \n",
      "================================================\n",
      "70_74   70_74   0.225166    0.209270   0.015896 \n",
      "================================================\n",
      "70_74    75+    0.132450    0.102799   0.029652 \n",
      "================================================\n",
      " 75+     0_4    0.121076    0.167787   0.046711 \n",
      "================================================\n",
      " 75+     5_9    0.130045    0.136389   0.006344 \n",
      "================================================\n",
      " 75+    10_14   0.112108    0.155981   0.043873 \n",
      "================================================\n",
      " 75+    15_19   0.053812    0.054844   0.001032 \n",
      "================================================\n",
      " 75+    20_24   0.134529    0.124081   0.010448 \n",
      "================================================\n",
      " 75+    25_29   0.071749    0.077140   0.005391 \n",
      "================================================\n",
      " 75+    30_34   0.228700    0.250027   0.021327 \n",
      "================================================\n",
      " 75+    35_39   0.188341    0.174064   0.014277 \n",
      "================================================\n",
      " 75+    40_44   0.107623    0.119045   0.011422 \n",
      "================================================\n",
      " 75+    45_49   0.116592    0.144271   0.027679 \n",
      "================================================\n",
      " 75+    50_54   0.053812    0.090199   0.036387 \n",
      "================================================\n",
      " 75+    55_59   0.053812    0.075315   0.021503 \n",
      "================================================\n",
      " 75+    60_64   0.085202    0.085587   0.000385 \n",
      "================================================\n",
      " 75+    65_69   0.067265    0.083902   0.016637 \n",
      "================================================\n",
      " 75+    70_74   0.089686    0.069608   0.020078 \n",
      "================================================\n",
      " 75+     75+    0.026906    0.060380   0.033474 \n",
      "================================================\n"
     ]
    }
   ],
   "source": [
    "#this part shows number of age stratified contact from data and model for comparision\n",
    "t=0\n",
    "L3=Metr_W['L3']\n",
    "table=Texttable()\n",
    "table.set_deco(Texttable.HEADER)\n",
    "table.add_rows([['age i','age j','rules_m  ',' rules  ','Abs_error']])\n",
    "\n",
    "print(table.draw())\n",
    "\n",
    "for i in rules[setting].keys():\n",
    "    \n",
    "    for j in rules[setting][i].keys():\n",
    "        \n",
    "        model=Metr_W[\"rules_m\"][setting][i][j]\n",
    "        data=rules[setting][i][j]\n",
    "        table.add_rows([[i,j,'%f' %  model,'%f' % data,'%f' % L3[t]]])\n",
    "        print(table.draw())\n",
    "        t+=1\n",
    "\n",
    "        "
   ]
  },
  {
   "cell_type": "markdown",
   "metadata": {
    "id": "FI4tKWqDe4yM"
   },
   "source": [
    "### 5-2 heat map of number of contact per age ,for data,model and the diffrence of them"
   ]
  },
  {
   "cell_type": "code",
   "execution_count": 25,
   "metadata": {
    "colab": {
     "base_uri": "https://localhost:8080/"
    },
    "id": "lZ2exJVTe4yM",
    "outputId": "8aeb7e6d-a7aa-42ee-f794-3852f084d03d"
   },
   "outputs": [
    {
     "name": "stdout",
     "output_type": "stream",
     "text": [
      "graph of data\n"
     ]
    },
    {
     "name": "stderr",
     "output_type": "stream",
     "text": [
      "<ipython-input-25-dcb881747886>:17: MatplotlibDeprecationWarning: shading='flat' when X and Y have the same dimensions as C is deprecated since 3.3.  Either specify the corners of the quadrilaterals with X and Y, or pass shading='auto', 'nearest' or 'gouraud', or set rcParams['pcolor.shading'].  This will become an error two minor releases later.\n",
      "  plt.pcolor(range(0,16,1),range(0,16,1),color_graph, cmap='coolwarm',vmin=0,vmax=V_max)\n"
     ]
    },
    {
     "data": {
      "image/png": "[encoded data removed]",
      "text/plain": [
       "<Figure size 360x360 with 1 Axes>"
      ]
     },
     "metadata": {
      "needs_background": "light"
     },
     "output_type": "display_data"
    },
    {
     "name": "stdout",
     "output_type": "stream",
     "text": [
      "graph of model\n"
     ]
    },
    {
     "name": "stderr",
     "output_type": "stream",
     "text": [
      "<ipython-input-25-dcb881747886>:31: MatplotlibDeprecationWarning: shading='flat' when X and Y have the same dimensions as C is deprecated since 3.3.  Either specify the corners of the quadrilaterals with X and Y, or pass shading='auto', 'nearest' or 'gouraud', or set rcParams['pcolor.shading'].  This will become an error two minor releases later.\n",
      "  plt.pcolor(range(0,16,1),range(0,16,1),color_graph_m, cmap='coolwarm',vmin=0,vmax=V_max)\n"
     ]
    },
    {
     "data": {
      "image/png": "[encoded data removed]",
      "text/plain": [
       "<Figure size 360x360 with 1 Axes>"
      ]
     },
     "metadata": {
      "needs_background": "light"
     },
     "output_type": "display_data"
    },
    {
     "name": "stdout",
     "output_type": "stream",
     "text": [
      "differences\n"
     ]
    },
    {
     "name": "stderr",
     "output_type": "stream",
     "text": [
      "<ipython-input-25-dcb881747886>:49: MatplotlibDeprecationWarning: shading='flat' when X and Y have the same dimensions as C is deprecated since 3.3.  Either specify the corners of the quadrilaterals with X and Y, or pass shading='auto', 'nearest' or 'gouraud', or set rcParams['pcolor.shading'].  This will become an error two minor releases later.\n",
      "  plt.pcolor(range(0,16,1),range(0,16,1),color_graph_dif, cmap='coolwarm')\n"
     ]
    },
    {
     "data": {
      "image/png": "[encoded data removed]",
      "text/plain": [
       "<Figure size 360x360 with 1 Axes>"
      ]
     },
     "metadata": {
      "needs_background": "light"
     },
     "output_type": "display_data"
    }
   ],
   "source": [
    "#heat map\n",
    "\n",
    "plt.rcParams[\"figure.figsize\"] = (5,5)\n",
    "\n",
    "color_graph=[]\n",
    "\n",
    "V_max=0 \n",
    "\n",
    "for i in rules[setting].keys():\n",
    "    color_graph.append([])\n",
    "    for j in rules[setting][i]:\n",
    "        color_graph[-1].append(rules[setting][i][j])\n",
    "        if V_max<rules[setting][i][j]:\n",
    "            V_max=rules[setting][i][j]\n",
    "    \n",
    "print('graph of data')       \n",
    "plt.pcolor(range(0,16,1),range(0,16,1),color_graph, cmap='coolwarm',vmin=0,vmax=V_max)\n",
    "plt.show()\n",
    "\n",
    "color_graph_m=[]\n",
    "\n",
    "for i in Metr_W[\"rules_m\"][setting].keys():\n",
    "    color_graph_m.append([])\n",
    "    for j in Metr_W[\"rules_m\"][setting][i]:\n",
    "        color_graph_m[-1].append(Metr_W[\"rules_m\"][setting][i][j])\n",
    "        if V_max<Metr_W[\"rules_m\"][setting][i][j]:\n",
    "            V_max=Metr_W[\"rules_m\"][setting][i][j]\n",
    "    \n",
    "\n",
    "print('graph of model')          \n",
    "plt.pcolor(range(0,16,1),range(0,16,1),color_graph_m, cmap='coolwarm',vmin=0,vmax=V_max)\n",
    "plt.show()\n",
    "\n",
    "color_graph_dif=[]\n",
    "\n",
    "\n",
    "for i in Metr_W[\"rules_m\"][setting].keys():\n",
    "    color_graph_dif.append([])\n",
    "    for j in Metr_W[\"rules_m\"][setting][i]:\n",
    "        if rules[setting][i][j] != 0 :\n",
    "            diff=Metr_W[\"rules_m\"][setting][i][j]/rules[setting][i][j]\n",
    "            color_graph_dif[-1].append(diff)\n",
    "        elif rules[setting][i][j] == 0 :\n",
    "            diff=0\n",
    "            color_graph_dif[-1].append(diff)\n",
    "        \n",
    "            \n",
    "print('differences')          \n",
    "plt.pcolor(range(0,16,1),range(0,16,1),color_graph_dif, cmap='coolwarm')\n",
    "plt.show()"
   ]
  },
  {
   "cell_type": "markdown",
   "metadata": {
    "id": "mAkAqFWHe4yM"
   },
   "source": [
    "### 5-3 metrics used for comparison of model and data"
   ]
  },
  {
   "cell_type": "code",
   "execution_count": 26,
   "metadata": {
    "colab": {
     "base_uri": "https://localhost:8080/"
    },
    "id": "tqXfuWkde4yM",
    "outputId": "1f18db6c-ffd2-4a02-8fdf-ea7655ba39d5",
    "scrolled": true
   },
   "outputs": [
    {
     "name": "stdout",
     "output_type": "stream",
     "text": [
      "p-value wilcoxon : 0.000000\n",
      "Pearson Corealtion : 0.9960868470915233 0.000000\n",
      "mean absoloute error :  0.03370396168784355\n",
      "Manhattan distance : 8.628214192087949\n",
      "Euclidean distance : 0.8832815256296381\n",
      "Chebyshev distance : 0.43211672364684883\n"
     ]
    }
   ],
   "source": [
    "#this part returns p_value wilcoxon for comparison age stratified number of contacts \n",
    "\n",
    "print('p-value wilcoxon :','%f' % Metr_W['wilx'][1])\n",
    "\n",
    "print('Pearson Corealtion :',Metr_W['prs_cor'][0],'%f' % Metr_W['prs_cor'][1])\n",
    "\n",
    "print('mean absoloute error : ', Metr_W['M_Abs'])\n",
    "\n",
    "print('Manhattan distance :',Metr_W['man_dis'])\n",
    "\n",
    "print('Euclidean distance :',Metr_W['eu_dis'])\n",
    "\n",
    "print('Chebyshev distance :',Metr_W['cheb_dis'])"
   ]
  },
  {
   "cell_type": "markdown",
   "metadata": {
    "id": "OeIdMFHFe4yN"
   },
   "source": [
    "### 5-4 time of running the model"
   ]
  },
  {
   "cell_type": "code",
   "execution_count": 27,
   "metadata": {
    "colab": {
     "base_uri": "https://localhost:8080/"
    },
    "id": "YZd6yxO7e4yN",
    "outputId": "bc251fd1-d087-43b5-f903-3ad8dd390095"
   },
   "outputs": [
    {
     "name": "stdout",
     "output_type": "stream",
     "text": [
      "51.55609345436096\n"
     ]
    }
   ],
   "source": [
    "print(end-start)"
   ]
  },
  {
   "cell_type": "markdown",
   "metadata": {
    "id": "NoFAajEke4yN"
   },
   "source": [
    "### 5-5 evaluation for clustring "
   ]
  },
  {
   "cell_type": "code",
   "execution_count": 28,
   "metadata": {
    "colab": {
     "base_uri": "https://localhost:8080/"
    },
    "id": "UFpB8zdCe4yN",
    "outputId": "88272dd6-63f2-4b79-eec0-bab0bca1bfb9"
   },
   "outputs": [
    {
     "name": "stdout",
     "output_type": "stream",
     "text": [
      "Num_triangel 63639.0 clustering_coefficent 0.377073075350623 clustering_ratio 0.377073075350623\n"
     ]
    }
   ],
   "source": [
    "Clus=clustering_rate (results)\n",
    "print('Num_triangel',Clus[0],'clustering_coefficent',Clus[1],'clustering_ratio',Clus[2])\n"
   ]
  },
  {
   "cell_type": "markdown",
   "metadata": {
    "id": "Wk9pMLD-e4yN"
   },
   "source": [
    "### 5-6 number of contacts in model and expected form data "
   ]
  },
  {
   "cell_type": "code",
   "execution_count": 29,
   "metadata": {
    "colab": {
     "base_uri": "https://localhost:8080/"
    },
    "id": "x3s6P3hBe4yN",
    "outputId": "3c615311-13a0-4c47-b93b-bb86057c22a3"
   },
   "outputs": [
    {
     "name": "stdout",
     "output_type": "stream",
     "text": [
      "source    number of contacts\n",
      "============================\n",
      " data       335533.832832   \n",
      "============================\n",
      "model       337542.000000   \n",
      "============================\n",
      "differ       2008.167168    \n",
      " ence                       \n",
      "============================\n"
     ]
    }
   ],
   "source": [
    "\n",
    "table=Texttable()\n",
    "table.set_deco(Texttable.HEADER)\n",
    "table.add_rows([['source',' number of contacts']])\n",
    "print(table.draw())\n",
    "\n",
    "list_contacts={'data':0,'model':0}\n",
    "#based on rules_sum\n",
    "for i in rules_sum[setting].keys():\n",
    "\n",
    "    list_contacts['data']+=rules_sum[setting][i]['connection_total']*age_count[i]\n",
    "    \n",
    "#based on contacts\n",
    "for i in results['graph_array']:\n",
    "    list_contacts['model']+=len(i[0])\n",
    "\n",
    "\n",
    "for i in list_contacts.keys():\n",
    "    \n",
    "    table.add_rows([[i,'%f' %list_contacts[i]]])\n",
    "    print(table.draw())\n",
    "    \n",
    "table.add_rows([['difference','%f' %(list_contacts['model']-list_contacts['data'])]])\n",
    "print(table.draw())\n",
    "\n",
    "        "
   ]
  },
  {
   "cell_type": "markdown",
   "metadata": {
    "id": "ujCuUR0Me4yO"
   },
   "source": [
    "### 5-7 mean number of connections for each age in model and data"
   ]
  },
  {
   "cell_type": "code",
   "execution_count": 30,
   "metadata": {
    "colab": {
     "base_uri": "https://localhost:8080/"
    },
    "id": "q9RydhQIe4yO",
    "outputId": "41061b6b-dcf2-4cba-e143-d851ce50e204"
   },
   "outputs": [
    {
     "name": "stdout",
     "output_type": "stream",
     "text": [
      " age    house hold size data   house hold size model   population\n",
      "=================================================================\n",
      " 0_4          4.580406               4.482759            0.087   \n",
      "=================================================================\n",
      " 5_9          5.199512               5.497494            0.0798  \n",
      "=================================================================\n",
      "10_14         6.407542               6.958678            0.0726  \n",
      "=================================================================\n",
      "15_19         7.438104               8.646724            0.0702  \n",
      "=================================================================\n",
      "20_24         7.021247               7.689786            0.0793  \n",
      "=================================================================\n",
      "25_29         6.341785               6.837538            0.0991  \n",
      "=================================================================\n",
      "30_34         6.569416               6.940686            0.1079  \n",
      "=================================================================\n",
      "35_39         6.648541               7.267442            0.0946  \n",
      "=================================================================\n",
      "40_44         6.242005               6.873418            0.0711  \n",
      "=================================================================\n",
      "45_49         4.907573               5.159869            0.0613  \n",
      "=================================================================\n",
      "50_54         5.191493               5.390295            0.0474  \n",
      "=================================================================\n",
      "55_59         4.530772               5.091127            0.0417  \n",
      "=================================================================\n",
      "60_64         4.483438               4.417445            0.0321  \n",
      "=================================================================\n",
      "65_69         3.902296               4.308300            0.0253  \n",
      "=================================================================\n",
      "70_74         4.341146               4.350993            0.0151  \n",
      "=================================================================\n",
      " 75+          1.868618               1.641256            0.0223  \n",
      "=================================================================\n"
     ]
    },
    {
     "data": {
      "image/png": "[encoded data removed]",
      "text/plain": [
       "<Figure size 720x720 with 1 Axes>"
      ]
     },
     "metadata": {
      "needs_background": "light"
     },
     "output_type": "display_data"
    }
   ],
   "source": [
    "\n",
    "table=Texttable()\n",
    "table.set_deco(Texttable.HEADER)\n",
    "table.add_rows([[' age ','house hold size data','house hold size model','population']])\n",
    "print(table.draw())\n",
    "plt.rcParams[\"figure.figsize\"] = (10,10)\n",
    "\n",
    "house_hold_size={}\n",
    "for i in age_count.keys():\n",
    "    house_hold_size[i]=0\n",
    "for i in list(enumerate(contacts[0])):###############\n",
    "    Age=nodes_dic[i[0]]['age']\n",
    "    house_hold_size[Age]+=(len(i[1][0])/age_count[Age])\n",
    "\n",
    "for i in rules_sum[setting].keys():\n",
    "    table.add_rows([[i,'%f' %rules_sum[setting][i]['contact_total'],'%f' %house_hold_size[i],age_count[i]/N]])\n",
    "    print(table.draw())\n",
    "    plt.plot(i,rules_sum[setting][i]['contact_total'],'r+',linewidth=2, markersize=10,alpha=1)\n",
    "    plt.plot(i,house_hold_size[i],'b+',linewidth=2, markersize=10,alpha=1)\n",
    "    plt.plot(i,age_count[i]/(N/10),'g+',linewidth=2, markersize=10,alpha=1)"
   ]
  },
  {
   "cell_type": "markdown",
   "metadata": {
    "id": "-AR8zd60e4yO"
   },
   "source": [
    "### 5-8 progress of metrics while model runs"
   ]
  },
  {
   "cell_type": "code",
   "execution_count": 31,
   "metadata": {
    "colab": {
     "base_uri": "https://localhost:8080/"
    },
    "id": "dxV5ukq3e4yO",
    "outputId": "00d93961-e4c4-4ca1-f6fb-3dabc1c56d04"
   },
   "outputs": [
    {
     "name": "stdout",
     "output_type": "stream",
     "text": [
      "p-value wilcoxon\n"
     ]
    },
    {
     "data": {
      "image/png": "[encoded data removed]",
      "text/plain": [
       "<Figure size 360x360 with 1 Axes>"
      ]
     },
     "metadata": {
      "needs_background": "light"
     },
     "output_type": "display_data"
    },
    {
     "name": "stdout",
     "output_type": "stream",
     "text": [
      "mean absoloute error\n"
     ]
    },
    {
     "data": {
      "image/png": "[encoded data removed]",
      "text/plain": [
       "<Figure size 360x360 with 1 Axes>"
      ]
     },
     "metadata": {
      "needs_background": "light"
     },
     "output_type": "display_data"
    },
    {
     "name": "stdout",
     "output_type": "stream",
     "text": [
      "Manhattan distance\n"
     ]
    },
    {
     "data": {
      "image/png": "[encoded data removed]",
      "text/plain": [
       "<Figure size 360x360 with 1 Axes>"
      ]
     },
     "metadata": {
      "needs_background": "light"
     },
     "output_type": "display_data"
    },
    {
     "name": "stdout",
     "output_type": "stream",
     "text": [
      "Euclidean distance\n"
     ]
    },
    {
     "data": {
      "image/png": "[encoded data removed]",
      "text/plain": [
       "<Figure size 360x360 with 1 Axes>"
      ]
     },
     "metadata": {
      "needs_background": "light"
     },
     "output_type": "display_data"
    },
    {
     "name": "stdout",
     "output_type": "stream",
     "text": [
      "Chebyshev distance\n"
     ]
    },
    {
     "data": {
      "image/png": "[encoded data removed]",
      "text/plain": [
       "<Figure size 360x360 with 1 Axes>"
      ]
     },
     "metadata": {
      "needs_background": "light"
     },
     "output_type": "display_data"
    }
   ],
   "source": [
    "plt.rcParams[\"figure.figsize\"] = (5,5)\n",
    "samples=results['samples_T']\n",
    "for metric in samples.keys():\n",
    "    plt.show()\n",
    "    print(metric)\n",
    "    n_sample=sampling_ratio\n",
    "    for i in samples[metric]:\n",
    "        n_sample+=sampling_ratio\n",
    "        plt.plot(n_sample,i,'r.',linewidth=2, markersize=10,alpha=1)\n",
    "        "
   ]
  },
  {
   "cell_type": "markdown",
   "metadata": {
    "id": "c0AvZPqYe4yO"
   },
   "source": [
    "## 6-exporting graph"
   ]
  },
  {
   "cell_type": "code",
   "execution_count": 32,
   "metadata": {
    "id": "W01ZW2u1e4yO"
   },
   "outputs": [],
   "source": [
    "#exporting graph for visualization in gephi\n",
    "#returns undirected graph\n",
    "graph_export=list()\n",
    "temp_row=list()\n",
    "graphed_nodes=list()\n",
    "\n",
    "for node in results['graph_array']:\n",
    "    \n",
    "    temp_row.append(node[1])\n",
    "    graphed_nodes.append(node[1])\n",
    "    for neighbor in node[0]:\n",
    "        if neighbor not in graphed_nodes:\n",
    "            temp_row.append(neighbor)\n",
    "        \n",
    "    graph_export.append(temp_row)\n",
    "    temp_row=[]\n",
    "               \n",
    "graph_export_df=pd.DataFrame(graph_export)          \n",
    "graph_export_df.to_csv('graph_export.csv', index = False,header=False,sep=';')  \n"
   ]
  },
  {
   "cell_type": "code",
   "execution_count": 33,
   "metadata": {
    "colab": {
     "base_uri": "https://localhost:8080/"
    },
    "id": "fdXu1P8Me4yP",
    "outputId": "db50c0b3-4131-46ce-8a5e-e76ffcef9c52"
   },
   "outputs": [
    {
     "name": "stdout",
     "output_type": "stream",
     "text": [
      "error 1 9813\n",
      "error 1 9816\n",
      "error 1 9817\n",
      "error 1 9933\n",
      "error 1 9957\n",
      "error 1 10029\n",
      "error 1 10035\n",
      "error 1 10040\n",
      "error 1 10064\n"
     ]
    }
   ],
   "source": [
    "#checking for bugs in graph\n",
    "for i in results['graph_array']:\n",
    "    if len(i[0])!=i[3]:\n",
    "        print('error 1',i[2])\n",
    "    if len(i[0])!=len(set(i[0])):\n",
    "        print('error 2',i[2])\n",
    "    if i[1] in i[0]:\n",
    "        print('error 3',i[2])\n",
    "    for j in i[0]:\n",
    "        for k in results['graph_array']:\n",
    "            if k[2]==j:\n",
    "                if i[2] not in k[0]:\n",
    "                    print('error 4',i[2],k[2])"
   ]
  },
  {
   "cell_type": "raw",
   "metadata": {
    "id": "c4qur-OJe4yP"
   },
   "source": [
    "#checking evoulotion of clustering coefficent\n",
    "clustering_list=[]\n",
    "for clustering_factor in range(0,10000,1000):\n",
    "    results=Run(nodes_dic,age_count,frequency_grouped)\n",
    "    Clus=clustering_rate (results)\n",
    "    clustering_list.append(Clus[1])\n",
    "    \n",
    "plt.plot(list(range(0,10)),clustering_list,'r.',linewidth=2, markersize=10,alpha=1)\n",
    "    "
   ]
  },
  {
   "cell_type": "code",
   "execution_count": 34,
   "metadata": {
    "colab": {
     "base_uri": "https://localhost:8080/"
    },
    "id": "Pw2Ot9Fke4yP",
    "outputId": "c9c47720-5648-4972-eed3-1b41e9cc0a6e"
   },
   "outputs": [
    {
     "name": "stdout",
     "output_type": "stream",
     "text": [
      "0.2728197628207166 0.2867770959844848 0.18856706832416623 0.25183607287063237\n",
      "0.2909137077320242 0.3001396588937323 0.202039866266029 0.2069067671082144\n"
     ]
    }
   ],
   "source": [
    "d=contacts[1].count(1)/len(contacts[1])\n",
    "w=contacts[1].count(2)/len(contacts[1])\n",
    "m=contacts[1].count(3)/len(contacts[1])\n",
    "r=contacts[1].count(4)/len(contacts[1])\n",
    "print(d,w,m,r)\n",
    "print(frequency[setting][1][0],frequency[setting][2][0],frequency[setting][3][0],frequency[setting][4][0])\n"
   ]
  },
  {
   "cell_type": "code",
   "execution_count": null,
   "metadata": {
    "id": "oFN_iWU8e4yP"
   },
   "outputs": [],
   "source": []
  }
 ],
 "metadata": {
  "celltoolbar": "Raw Cell Format",
  "colab": {
   "name": "with_clustering_new.ipynb",
   "provenance": []
  },
  "kernelspec": {
   "display_name": "Python 3",
   "language": "python",
   "name": "python3"
  },
  "language_info": {
   "codemirror_mode": {
    "name": "ipython",
    "version": 3
   },
   "file_extension": ".py",
   "mimetype": "text/x-python",
   "name": "python",
   "nbconvert_exporter": "python",
   "pygments_lexer": "ipython3",
   "version": "3.8.10"
  }
 },
 "nbformat": 4,
 "nbformat_minor": 1
}
